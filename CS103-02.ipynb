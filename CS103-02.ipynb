{
 "cells": [
  {
   "cell_type": "markdown",
   "metadata": {},
   "source": [
    "### CS102/CS103\n",
    "\n",
    "Prof. Götz Pfeiffer <br>\n",
    "School of Mathematics, Statistics and Applied Mathematics\n",
    "\n",
    "# Python as a Calculator\n",
    "\n",
    "* These notes are on [http://nbviewer.jupyter.org/github/cs103nuig/notes].\n",
    "\n",
    "* A `python` interpreter is part of any standard `linux` distribution,\n",
    "if not it is easy to install.\n",
    "\n",
    "* There are `python` interpreters for windows.\n",
    "\n",
    "* Online `python` interpreters can be found at [https://www.python.org/shell/]\n",
    "and at [https://repl.it/languages/python3]\n",
    "\n",
    "* There are 2 versions of `python` in use, we'll use `python 3'.\n",
    "\n",
    "We can use the `python` interpreter as a (very capable) calculator, using\n",
    "\n",
    "* `+`, `-`, `*`, `/` for the usual arithmetic operations,\n",
    "\n",
    "* `//` for **floor division**,\n",
    "\n",
    "* `%` for the modulus operation,\n",
    "\n",
    "* `**` for exponentiation.\n",
    "\n",
    "`python` can deal with very large numbers:"
   ]
  },
  {
   "cell_type": "code",
   "execution_count": 1,
   "metadata": {},
   "outputs": [
    {
     "data": {
      "text/plain": [
       "3116402981210161152"
      ]
     },
     "execution_count": 1,
     "metadata": {},
     "output_type": "execute_result"
    }
   ],
   "source": [
    "(12 * 4) ** (5 + 6)"
   ]
  },
  {
   "cell_type": "markdown",
   "metadata": {},
   "source": [
    "What is the last digit of $2^{100}$?"
   ]
  },
  {
   "cell_type": "code",
   "execution_count": 2,
   "metadata": {},
   "outputs": [
    {
     "data": {
      "text/plain": [
       "6"
      ]
     },
     "execution_count": 2,
     "metadata": {},
     "output_type": "execute_result"
    }
   ],
   "source": [
    "(2**100) % 10"
   ]
  },
  {
   "cell_type": "code",
   "execution_count": 3,
   "metadata": {},
   "outputs": [
    {
     "data": {
      "text/plain": [
       "0.3333333333333333"
      ]
     },
     "execution_count": 3,
     "metadata": {},
     "output_type": "execute_result"
    }
   ],
   "source": [
    "1/3"
   ]
  },
  {
   "cell_type": "markdown",
   "metadata": {},
   "source": [
    "Parentheses are used for grouping, as in algebraic formulas.\n"
   ]
  },
  {
   "cell_type": "markdown",
   "metadata": {},
   "source": [
    "## Types of Numbers\n",
    "\n",
    "It helps to be aware of the different types of numbers in use,\n",
    "what their properties are, and what corresponds to them in `python`.\n",
    "\n",
    "### Natural Numbers\n",
    "\n",
    "$0, 1, 2, 3, \\ldots$: used for counting and sorting, includes $0$.\n",
    "\n",
    "### Integers\n",
    "\n",
    "$\\ldots, -3, -2, -1, 0, 1, 2, 3, \\ldots$: the natural numbers extended by negative numbers.\n",
    "\n",
    "### Rational Numbers\n",
    "\n",
    "Positive or negative **fractions** consisting of a **numerator** and a ** denominator** (which are both integers), like $1/2$ or $-123/456$.\n",
    "\n",
    "### Real Numbers\n",
    "\n",
    "Positive or negative numbers with a possibly infinite, non-repeating decimal expansion, like $\\sqrt{2}$ or $\\pi$.\n",
    "\n",
    "### Complex Numbers \n",
    "\n",
    "Complex numbers are numbers of the form $a + b i$, with a *real part* $a$ and an imaginary part $b$ (both $a$ and $b$ are real numbers), where $i$ is a square root of $-1$.\n",
    "\n",
    "**Note that** every integer is rational number (with denominator $1$),\n",
    "every rational number is a real number (with finite, or repeating decimal expansion), and each real number is a complex number (with imaginary part $0$)."
   ]
  },
  {
   "cell_type": "markdown",
   "metadata": {},
   "source": [
    "##  Numbers in Python\n",
    "\n",
    "\n",
    "* `python` has several **data types** to represent and work with numerical values.\n",
    "\n",
    "* These data types are **disjoint**: each number object\n",
    "has a unique data type.\n",
    "\n",
    "* Integers are of type `int`.\n",
    "\n",
    "* In `python`, integers can be arbitrarily large, but still precise.\n",
    "\n",
    "The type of a `python` object can be determined with the `type()` function:"
   ]
  },
  {
   "cell_type": "code",
   "execution_count": 4,
   "metadata": {},
   "outputs": [
    {
     "data": {
      "text/plain": [
       "int"
      ]
     },
     "execution_count": 4,
     "metadata": {},
     "output_type": "execute_result"
    }
   ],
   "source": [
    "type(1234)"
   ]
  },
  {
   "cell_type": "code",
   "execution_count": 5,
   "metadata": {},
   "outputs": [
    {
     "data": {
      "text/plain": [
       "114374367934617190099880295228066276746218078451850229775887975052369504785666896446606568365201542169649974727730628842345343196581134895919942820874449837212099476648958359023796078549041949007807220625356526926729664064846685758382803707100766740220839267"
      ]
     },
     "execution_count": 5,
     "metadata": {},
     "output_type": "execute_result"
    }
   ],
   "source": [
    "123 ** 123"
   ]
  },
  {
   "cell_type": "markdown",
   "metadata": {},
   "source": [
    "* Rationals and reals are of type `float` (floating point numbers).\n",
    "\n",
    "* `float`s are only approximations to real numbers.\n",
    "\n",
    "* Use `int`s if precise results are required!"
   ]
  },
  {
   "cell_type": "markdown",
   "metadata": {},
   "source": [
    "The square of the square root of $2$ is not exactly $2$ :-("
   ]
  },
  {
   "cell_type": "code",
   "execution_count": 6,
   "metadata": {},
   "outputs": [
    {
     "name": "stdout",
     "output_type": "stream",
     "text": [
      "1.4142135623730951\n"
     ]
    },
    {
     "data": {
      "text/plain": [
       "2.0000000000000004"
      ]
     },
     "execution_count": 6,
     "metadata": {},
     "output_type": "execute_result"
    }
   ],
   "source": [
    "import math\n",
    "print(math.sqrt(2))\n",
    "math.sqrt(2) * math.sqrt(2)"
   ]
  },
  {
   "cell_type": "code",
   "execution_count": 7,
   "metadata": {},
   "outputs": [
    {
     "data": {
      "text/plain": [
       "int"
      ]
     },
     "execution_count": 7,
     "metadata": {},
     "output_type": "execute_result"
    }
   ],
   "source": [
    "type(123 ** 123)"
   ]
  },
  {
   "cell_type": "markdown",
   "metadata": {},
   "source": [
    "* Complex numbers are of type `complex`\n",
    "\n",
    "* `python` (like the engineers) uses the letter `j` for the imaginary\n",
    "unit $i = \\sqrt{-1}$."
   ]
  },
  {
   "cell_type": "code",
   "execution_count": 8,
   "metadata": {},
   "outputs": [
    {
     "name": "stdout",
     "output_type": "stream",
     "text": [
      "(2-3j)\n"
     ]
    }
   ],
   "source": [
    "z = 2 - 3j\n",
    "print(z)"
   ]
  },
  {
   "cell_type": "code",
   "execution_count": 9,
   "metadata": {},
   "outputs": [
    {
     "name": "stdout",
     "output_type": "stream",
     "text": [
      "2.0\n",
      "<class 'float'>\n",
      "-3.0\n",
      "<class 'float'>\n"
     ]
    }
   ],
   "source": [
    "print(z.real)\n",
    "print(type(z.real))\n",
    "print(z.imag)\n",
    "print(type(z.imag))"
   ]
  },
  {
   "cell_type": "code",
   "execution_count": 10,
   "metadata": {},
   "outputs": [
    {
     "name": "stdout",
     "output_type": "stream",
     "text": [
      "<class 'int'>\n",
      "<class 'float'>\n"
     ]
    }
   ],
   "source": [
    "print(type(2))\n",
    "print(type(2.0))"
   ]
  },
  {
   "cell_type": "markdown",
   "metadata": {},
   "source": [
    "##  Basic arithmetic\n",
    "\n",
    "* Python fully supports mixed arithmetic.\n",
    "\n",
    "* When a binary arithmetic operator has operands of different numeric types, the operand with the “narrower” type is widened to that of the other.\n",
    "\n",
    "* Here `int` is narrower than `float`, which is narrower than `complex`."
   ]
  },
  {
   "cell_type": "code",
   "execution_count": 11,
   "metadata": {},
   "outputs": [
    {
     "name": "stdout",
     "output_type": "stream",
     "text": [
      "7\n",
      "-1\n",
      "12\n",
      "0.75\n",
      "81\n"
     ]
    }
   ],
   "source": [
    "print(3 + 4)  # addition\n",
    "print(3 - 4)  # subtraction\n",
    "print(3 * 4)  # multiplication\n",
    "print(3 / 4)  # division\n",
    "print(3 ** 4) # exponentiation"
   ]
  },
  {
   "cell_type": "code",
   "execution_count": 12,
   "metadata": {},
   "outputs": [
    {
     "name": "stdout",
     "output_type": "stream",
     "text": [
      "7.0\n"
     ]
    }
   ],
   "source": [
    "print(3.0 + 4)"
   ]
  },
  {
   "cell_type": "code",
   "execution_count": 13,
   "metadata": {},
   "outputs": [
    {
     "data": {
      "text/plain": [
       "3.0"
      ]
     },
     "execution_count": 13,
     "metadata": {},
     "output_type": "execute_result"
    }
   ],
   "source": [
    "float(3)"
   ]
  },
  {
   "cell_type": "markdown",
   "metadata": {},
   "source": [
    "## Integer Division: Quotients and Remainders\n",
    "\n",
    "* Usually, operations on two numbers of the **same type** result in a third number of that **same type**.  \n",
    "\n",
    "* Division of `int`s, however results in a `float`, if the corresponding fraction is not an integer.\n",
    "\n",
    "* If the **integer quotient** is required, `python` provides **integer division** as a separate operation.\n",
    "\n",
    "* The corresponding **remainder** can be computed with the **mod** operator."
   ]
  },
  {
   "cell_type": "code",
   "execution_count": 14,
   "metadata": {},
   "outputs": [
    {
     "name": "stdout",
     "output_type": "stream",
     "text": [
      "5\n",
      "2\n",
      "(5, 2)\n"
     ]
    }
   ],
   "source": [
    "print(17 // 3)  # integer quotient\n",
    "print(17 % 3)   # the remainder: 17 mod 3\n",
    "print(divmod(17, 3)) # quotient and remainder in one"
   ]
  },
  {
   "cell_type": "markdown",
   "metadata": {},
   "source": [
    "## The `math` Library\n",
    "\n",
    "* `python` comes with many additional modules, that can be used to extend its basic functionality. \n",
    "\n",
    "* One of the most important ones is the `math` library.\n",
    "\n",
    "* It needs to be `import`ed before it can be used in a program."
   ]
  },
  {
   "cell_type": "code",
   "execution_count": 15,
   "metadata": {},
   "outputs": [
    {
     "data": {
      "text/plain": [
       "1.4142135623730951"
      ]
     },
     "execution_count": 15,
     "metadata": {},
     "output_type": "execute_result"
    }
   ],
   "source": [
    "import math\n",
    "math.sqrt(2)"
   ]
  },
  {
   "cell_type": "markdown",
   "metadata": {},
   "source": [
    "* The `math` library contains many useful mathematical constants and\n",
    "additional functions:\n",
    "\n",
    "| `python` | Mathematics | English |\n",
    "|--|--|--|\n",
    "| `pi` | $\\pi$ | an approximation of the number $\\pi$ |\n",
    "| `e` | $e$ | an approximation of Euler's number $e$ |\n",
    "| `sqrt(x)` | $\\sqrt(x)$ | the square root of $x$ |\n",
    "| `sin(x)` | $\\sin(x)$ | the sine of $x$ |\n",
    "| `cos(x)` | $\\cos(x)$ | the cosine of $x$ |\n",
    "| `tan(x)` | $\\tan(x)$ | ... |\n",
    "| `asin(x)` | $\\sin^{-1}(x)$ | the inverse sine of $x$ |\n",
    "| `acos(x)` | $\\cos^{-1}(x)$ | ... |\n",
    "| `atan(x)` | $\\tan^{-1}(x)$ | ... |\n",
    "| `log(x)` | $\\ln(x)$ | the natural (base $e$) logarithm of $x$ |\n",
    "| `log10(x)` | $\\log_{10}(x)$ | the base $10$ logarithm of $x$ |\n",
    "| `exp(x)` | $e^x$ | the exponential of $x$ |\n",
    "| `ceil(x)` | $\\lceil x\\rceil$ | the smallest integer $\\geq x$ |\n",
    "| `floor(x)` | $\\lfloor x\\rfloor$ | the largest integer $\\leq x$ |"
   ]
  },
  {
   "cell_type": "code",
   "execution_count": 16,
   "metadata": {},
   "outputs": [
    {
     "data": {
      "text/plain": [
       "3"
      ]
     },
     "execution_count": 16,
     "metadata": {},
     "output_type": "execute_result"
    }
   ],
   "source": [
    "math.floor(math.pi)"
   ]
  },
  {
   "cell_type": "markdown",
   "metadata": {},
   "source": [
    "## Summary: Numbers\n",
    "\n",
    "* The **data type** of an object determines what values it\n",
    "can have and what operations it supports.\n",
    "\n",
    "* `python` has three built-in data types for representing **numerical values**: `int`, `float` and `complex`.\n",
    "\n",
    "* `float`s are (only) **approximations** to real numbers.\n",
    "\n",
    "* `int`s can be **arbitrarily large**.\n",
    "\n",
    "* Numeric data types support the basic **arithmetical operations**\n",
    "of addition (`+`), subtraction (`-`), multiplication (`*`),\n",
    "division (`/`), exponentiation (`**`) and absolute value (`abs()`).\n",
    "\n",
    "* Special operations for integers are **integer divsion** (`//`)\n",
    "and remainder (`%`).\n",
    "\n",
    "* Additional functions are defined in the `math` library.\n",
    "\n",
    "* `python` **automatically converts** numbers from one data type\n",
    "to another in certain situations.\n",
    "\n",
    "* **Explicit conversion** functions can be used, too."
   ]
  },
  {
   "cell_type": "code",
   "execution_count": null,
   "metadata": {
    "collapsed": true
   },
   "outputs": [],
   "source": []
  }
 ],
 "metadata": {
  "kernelspec": {
   "display_name": "Python 3",
   "language": "python",
   "name": "python3"
  },
  "language_info": {
   "codemirror_mode": {
    "name": "ipython",
    "version": 3
   },
   "file_extension": ".py",
   "mimetype": "text/x-python",
   "name": "python",
   "nbconvert_exporter": "python",
   "pygments_lexer": "ipython3",
   "version": "3.6.1"
  }
 },
 "nbformat": 4,
 "nbformat_minor": 2
}
