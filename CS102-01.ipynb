{
 "cells": [
  {
   "cell_type": "markdown",
   "metadata": {},
   "source": [
    "###  CS102/CS103\n",
    "\n",
    "# Lecture 1\n",
    "\n",
    "This lecture contains an informal introduction and overview of the course, together with some important administrative details."
   ]
  },
  {
   "cell_type": "markdown",
   "metadata": {
    "collapsed": true
   },
   "source": [
    "**Lecturer:** Götz Pfeiffer [ADB-1008]\n",
    "\n",
    "**Timetable:** Wed 13-14 [MRA201], Thu 09-10 [AM200]\n",
    "\n",
    "**Practicals:** Mon 15-18, details tba."
   ]
  },
  {
   "cell_type": "markdown",
   "metadata": {},
   "source": [
    "**Continuous Assessment:** Participation in Practicals and Small Programming Projects."
   ]
  }
 ],
 "metadata": {
  "kernelspec": {
   "display_name": "Python 2",
   "language": "python",
   "name": "python2"
  },
  "language_info": {
   "codemirror_mode": {
    "name": "ipython",
    "version": 2
   },
   "file_extension": ".py",
   "mimetype": "text/x-python",
   "name": "python",
   "nbconvert_exporter": "python",
   "pygments_lexer": "ipython2",
   "version": "2.7.13"
  }
 },
 "nbformat": 4,
 "nbformat_minor": 2
}
