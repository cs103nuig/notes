{
 "cells": [
  {
   "cell_type": "markdown",
   "metadata": {},
   "source": [
    "###  CS102/CS103\n",
    "\n",
    "# Lecture 1: Welcome to CS103\n",
    "\n",
    "This lecture contains an informal introduction and overview of the course, together with some important administrative details."
   ]
  },
  {
   "cell_type": "markdown",
   "metadata": {
    "collapsed": true
   },
   "source": [
    "## Admin\n",
    "\n",
    "This course is given to **two** groups of students:\n",
    "\n",
    "* **CS102** (1BPC1, 1BS1, 1EH1).\n",
    "Two semesters, two exams.\n",
    "Assessment: 60% exam + 40% CA.\n",
    "(You **have to pass the CA** in order to pass the course.)\n",
    "\n",
    "* **CS103** (1BMS1, 1BPT1, 1FM1).\n",
    "One semester, one exam.\n",
    "Assessment: 70% exam + 30% CA.\n",
    "\n",
    "**Lecturer:** Götz Pfeiffer [ADB-1008]\n",
    "\n",
    "**Timetable:** Wed 13-14 [MRA201], Thu 09-10 [AM200]\n",
    "\n",
    "**Practicals:** Mon 15-18, details tba."
   ]
  },
  {
   "cell_type": "markdown",
   "metadata": {},
   "source": [
    "**Continuous Assessment:** Participation in Practicals and Small Programming Projects."
   ]
  },
  {
   "cell_type": "markdown",
   "metadata": {},
   "source": [
    "**Textbook:** John Zelle: _Python Programming: \n",
    "An introduction to Computer Science_\n",
    "            \n",
    "(There are several copies in the library, and it can be bought online or in a bookshop.)"
   ]
  },
  {
   "cell_type": "markdown",
   "metadata": {},
   "source": [
    "## What is a Computer?\n",
    "\n",
    "A computer is a device that can be instructed to carry out arbitrary sequences of arithmetic or logical operations automatically. The ability of computers to follow generalized sets of operations, called programs, enables them to perform an extremely wide range of tasks. [(Wikipedia, accessed 05/09/2017.)](https://en.wikipedia.org/wiki/Computer)"
   ]
  },
  {
   "cell_type": "markdown",
   "metadata": {},
   "source": [
    "## Programming Languages\n",
    "\n",
    "In the (relativley short) history of programming, many programminig languages have been conceived.  Some of the most widespread are:\n",
    "\n",
    "* Assembler\n",
    "\n",
    "* C\n",
    "\n",
    "* Lisp\n",
    "\n",
    "* Java\n",
    "\n",
    "* Python\n",
    "\n",
    "All programming languages essentially serve the same purpose and they have many features in common.  In this\n",
    "course we use the `python` language to learn about the fundamental elements of computer programming."
   ]
  },
  {
   "cell_type": "markdown",
   "metadata": {},
   "source": [
    "### Assembler Example\n",
    "\n",
    "Assembler programs are made out of very low level, direct instructions to the processor, like\n",
    "\n",
    "```\n",
    "  la $t0, a\n",
    "  la $t1, b\n",
    "  la $t2, c\n",
    "  lw $s0, 0($t1)\n",
    "  lw $s1, 0($t2)\n",
    "  mult $s0, $s1\n",
    "  mflo $s0\n",
    "  sw $s0, 0($t0)\n",
    "```\n",
    "\n",
    "The effect of this program can be described by\n",
    "the mathematical formula\n",
    "$$ a = b * c$$"
   ]
  },
  {
   "cell_type": "markdown",
   "metadata": {},
   "source": [
    "### C Example\n",
    "\n",
    "The same formula as a C program looks like\n",
    "```\n",
    "  #include <stdio.h>\n",
    "  \n",
    "  int main(void) {\n",
    "    int a, b, c;\n",
    "    \n",
    "    a = 12;\n",
    "    b = 127;\n",
    "    c = a * b;\n",
    "    printf(\"c: %d\\n\", c);\n",
    "    \n",
    "    return 0;\n",
    "  }\n",
    "  ```"
   ]
  },
  {
   "cell_type": "markdown",
   "metadata": {},
   "source": [
    "### Python example\n",
    "\n",
    "In `python` the same effect can be achieved with fewer commands, which are easier to read."
   ]
  },
  {
   "cell_type": "code",
   "execution_count": 2,
   "metadata": {
    "collapsed": false
   },
   "outputs": [
    {
     "name": "stdout",
     "output_type": "stream",
     "text": [
      "c:  1524\n"
     ]
    }
   ],
   "source": [
    "a = 12\n",
    "b = 127\n",
    "c = a * b\n",
    "print 'c: ', c"
   ]
  },
  {
   "cell_type": "code",
   "execution_count": null,
   "metadata": {
    "collapsed": true
   },
   "outputs": [],
   "source": []
  }
 ],
 "metadata": {
  "kernelspec": {
   "display_name": "Python 2",
   "language": "python",
   "name": "python2"
  },
  "language_info": {
   "codemirror_mode": {
    "name": "ipython",
    "version": 2
   },
   "file_extension": ".py",
   "mimetype": "text/x-python",
   "name": "python",
   "nbconvert_exporter": "python",
   "pygments_lexer": "ipython2",
   "version": "2.7.13"
  }
 },
 "nbformat": 4,
 "nbformat_minor": 2
}
