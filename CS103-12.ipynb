{
 "cells": [
  {
   "cell_type": "markdown",
   "metadata": {},
   "source": [
    "### CS102/CS103\n",
    "\n",
    "Prof. Götz Pfeiffer<br />\n",
    "School of Mathematics, Statistics and Applied Mathematics<br />\n",
    "NUI Galway"
   ]
  },
  {
   "cell_type": "markdown",
   "metadata": {},
   "source": [
    "# Lecture 12: Collections"
   ]
  },
  {
   "cell_type": "markdown",
   "metadata": {},
   "source": [
    "Data usually don't come on their own, but as collections\n",
    "of data, in some form or another.  `python` deals with collections\n",
    "of many kinds.  We have already seen **strings** and **lists**.  Both\n",
    "are examples of **ordered collections**.  Items in an ordered\n",
    "collection can be accessed through **indices**, their positions\n",
    "in the collection.  A **dictionary** (aka hash or record), in contrast,\n",
    "is an example of an **unordered collection**: its items are labelled (and accessed) by **keys**.  \n",
    "\n",
    "We will discuss these types of collections, what they\n",
    "have in common and what their differences are."
   ]
  },
  {
   "cell_type": "markdown",
   "metadata": {},
   "source": [
    "Before that, a brief diversion on modular arithmetic."
   ]
  },
  {
   "cell_type": "markdown",
   "metadata": {},
   "source": [
    "## Chinese Remainders"
   ]
  },
  {
   "cell_type": "markdown",
   "metadata": {},
   "source": [
    "In algebra, the **Chinese Remainder Theorem** states that\n",
    "a system of $k$ **simultaneous congruences**\n",
    "$$\n",
    "x \\equiv a_i \\pmod{m_i}, \\quad i = 1, \\dots, k\n",
    "$$\n",
    "has a **unique solution** modulo \n",
    "$$\n",
    "m = \\prod_{i=1}^k m_i\n",
    "$$\n",
    "provided that the numbers $m_i$ are **pairwise coprime**."
   ]
  },
  {
   "cell_type": "markdown",
   "metadata": {},
   "source": [
    "Moreover, that solution is determined by the (simple) formula\n",
    "$$\n",
    "x = \\sum_{i=1}^k a_i \\cdot m_i' \\cdot n_i,\n",
    "$$\n",
    "where $m_i' = m/m_i$ and $n_i$ is the **inverse** of $m_i'$ modulo $m_i$.\n",
    "\n",
    "(Then, modulo $m_i$, we have $m_i' n_i \\equiv 1$\n",
    "and $m_j' \\equiv 0$ for $j \\neq i$, whence \n",
    "$$\n",
    "x \\equiv a_1 \\cdot 0 + \\dots + a_{i-1} \\cdot 0 + a_i \\cdot 1 + a_{i+1} \\cdot 0 + \\dots + a_k \\cdot 0 \\equiv a_i,\n",
    "$$\n",
    "as desired)."
   ]
  },
  {
   "cell_type": "markdown",
   "metadata": {},
   "source": [
    "Let's try and implement this as an algorithm in `python`,\n",
    "using what we've learned and what we've made so far. From a few weeks back, we already have a function that computes **modular \n",
    "inverses** based on the extended Euclidean algorithm:"
   ]
  },
  {
   "cell_type": "code",
   "execution_count": 1,
   "metadata": {
    "collapsed": true
   },
   "outputs": [],
   "source": [
    "def egcd(a, b):\n",
    "    \"find integers  x, y  such that  gcd(a,b) = x*a + y*b\"\n",
    "    if b == 0:\n",
    "        return (1, 0)\n",
    "    x, y = egcd(b, a % b)\n",
    "    x, y = y, x - (a // b) * y\n",
    "    return (x, y)\n",
    "\n",
    "def modular_inverse(a, m):\n",
    "    \"compute the modular inverse of a modulo m\"\n",
    "    x, y = egcd(m, a)\n",
    "    d = x * m + y * a\n",
    "    if d == 1:\n",
    "        return y % m\n",
    "    print(\"error: \", a, \"has no inverse mod\", m, \": d = \", d)"
   ]
  },
  {
   "cell_type": "markdown",
   "metadata": {},
   "source": [
    "We know how to use the **accumulator pattern** to compute the \n",
    "product of a list of numbers:"
   ]
  },
  {
   "cell_type": "code",
   "execution_count": 2,
   "metadata": {
    "collapsed": true
   },
   "outputs": [],
   "source": [
    "def product_numbers(numbers):\n",
    "    \"compute the product of a list of numbers\"\n",
    "    total = 1\n",
    "    for number in numbers:\n",
    "        total *= number\n",
    "    return total"
   ]
  },
  {
   "cell_type": "markdown",
   "metadata": {},
   "source": [
    "We can now use these as **building blocks** for a short `python`\n",
    "function `chinese_remainder()` that solves any system of simultaneous congruences,\n",
    "assuming the moduli are coprime.\n",
    "We pass the list of moduli as one argument, and the list of\n",
    "residues as a second argument.  And accumulate ..."
   ]
  },
  {
   "cell_type": "code",
   "execution_count": 3,
   "metadata": {
    "collapsed": true
   },
   "outputs": [],
   "source": [
    "def chinese_remainder(moduli, residues):\n",
    "    \"compute the chinese remainders of residues mod moduli\"\n",
    "    M = product_numbers(moduli)\n",
    "    total = 0\n",
    "    for i in range(len(moduli)):\n",
    "        a = residues[i]\n",
    "        m = moduli[i]\n",
    "        m1 = M // m\n",
    "        n = modular_inverse(m1, m)\n",
    "        total += a * m1 * n\n",
    "    return total % M"
   ]
  },
  {
   "cell_type": "markdown",
   "metadata": {},
   "source": [
    "**Example.**\n",
    "$$\n",
    "x \\equiv 3 \\pmod{13}, \\quad\n",
    "x \\equiv 6 \\pmod{14}, \\quad\n",
    "x \\equiv 9 \\pmod{15}\n",
    "$$"
   ]
  },
  {
   "cell_type": "code",
   "execution_count": 4,
   "metadata": {},
   "outputs": [
    {
     "data": {
      "text/plain": [
       "2694"
      ]
     },
     "execution_count": 4,
     "metadata": {},
     "output_type": "execute_result"
    }
   ],
   "source": [
    "x = chinese_remainder([13, 14, 15], [3, 6, 9])\n",
    "x"
   ]
  },
  {
   "cell_type": "code",
   "execution_count": 5,
   "metadata": {},
   "outputs": [
    {
     "data": {
      "text/plain": [
       "(3, 6, 9)"
      ]
     },
     "execution_count": 5,
     "metadata": {},
     "output_type": "execute_result"
    }
   ],
   "source": [
    "x % 13, x % 14, x % 15"
   ]
  },
  {
   "cell_type": "markdown",
   "metadata": {},
   "source": [
    "## Tuples"
   ]
  },
  {
   "cell_type": "markdown",
   "metadata": {},
   "source": [
    "Lists are **mutable**, strings are not: they are **immutable**.\n",
    "```python\n",
    "s = \"a string\"\n",
    "s[1] = 'b'  # <-- will produce an error\n",
    "```\n",
    "\n",
    "Tuples are **immutable lists**."
   ]
  },
  {
   "cell_type": "markdown",
   "metadata": {},
   "source": [
    "## Dictionaries"
   ]
  },
  {
   "cell_type": "markdown",
   "metadata": {},
   "source": [
    "**Example.** Suppose you want to determine, from a list of names, which\n",
    "name is the most popular. If  you were to do this by hand,\n",
    "you would probably read through the list of names,\n",
    "record each new name you encounter, and keep a counter or tally\n",
    "against each name, which is incremented by $1$\n",
    "each time that name occurs.\n",
    "\n",
    "Wouldn't it be nice if there was some sort of built-in data\n",
    "structure in `python` that would allow you to do exactly this:\n",
    "maintain a list of names, each with an associated counter?!"
   ]
  },
  {
   "cell_type": "markdown",
   "metadata": {},
   "source": [
    "### Dictionary Literals"
   ]
  },
  {
   "cell_type": "markdown",
   "metadata": {},
   "source": [
    "A **dictionary** in `python` is a data structure for representing\n",
    "a **mapping** of objects to values, in the form of **key-value** pairs.  Such a data structure is extremely useful and versatile.\n",
    "\n",
    "One might, for example, use it to describe a book by its attributes:"
   ]
  },
  {
   "cell_type": "code",
   "execution_count": 6,
   "metadata": {},
   "outputs": [
    {
     "data": {
      "text/plain": [
       "{'ISBN': '978-1-59028-241-0',\n",
       " 'author': 'John Zelle',\n",
       " 'title': 'Python Programming'}"
      ]
     },
     "execution_count": 6,
     "metadata": {},
     "output_type": "execute_result"
    }
   ],
   "source": [
    "book = { \"author\" : \"John Zelle\", \"title\" : \"Python Programming\",\n",
    "       \"ISBN\" : \"978-1-59028-241-0\" }\n",
    "book"
   ]
  },
  {
   "cell_type": "markdown",
   "metadata": {},
   "source": [
    "Here all keys and all values are strings, but they could be numbers\n",
    "as well, boolean values, or even lists.  The only constraint is\n",
    "that a key must not be used more than once. \n",
    "So that **each key** has a  **unique value** assigned to it.\n",
    "Just like, in mathematics, a function $f$ assigns\n",
    "to each $x$ a unique value $y$ (which is then called **the** $f(x)$)."
   ]
  },
  {
   "cell_type": "markdown",
   "metadata": {},
   "source": [
    "In general, a dictionary literal is a sequence of comma-separated\n",
    "key-value pairs in side a pair of **curly braces**.\n",
    "Each keys is separated from its value by a colon (`:`). \n",
    "Both keys and values can be any kind of `python` object.\n",
    "Strings are a popular choice for the keys."
   ]
  },
  {
   "cell_type": "markdown",
   "metadata": {},
   "source": [
    "###  Dictionary Operations"
   ]
  },
  {
   "cell_type": "markdown",
   "metadata": {},
   "source": [
    "The values in a dictionary can then be **accessed by key**\n",
    "(as opposed to the positional access to list items)."
   ]
  },
  {
   "cell_type": "code",
   "execution_count": 7,
   "metadata": {},
   "outputs": [
    {
     "data": {
      "text/plain": [
       "'John Zelle'"
      ]
     },
     "execution_count": 7,
     "metadata": {},
     "output_type": "execute_result"
    }
   ],
   "source": [
    "book[\"author\"]"
   ]
  },
  {
   "cell_type": "markdown",
   "metadata": {},
   "source": [
    "An existing dictionary can be expanded by adding further\n",
    "key-value pairs:"
   ]
  },
  {
   "cell_type": "code",
   "execution_count": 8,
   "metadata": {},
   "outputs": [
    {
     "data": {
      "text/plain": [
       "{'ISBN': '978-1-59028-241-0',\n",
       " 'author': 'John Zelle',\n",
       " 'title': 'Python Programming',\n",
       " 'year': 2000}"
      ]
     },
     "execution_count": 8,
     "metadata": {},
     "output_type": "execute_result"
    }
   ],
   "source": [
    "book[\"year\"] = 2000\n",
    "book"
   ]
  },
  {
   "cell_type": "markdown",
   "metadata": {},
   "source": [
    "As in the case of list items, values in a dictionary can be updated:"
   ]
  },
  {
   "cell_type": "code",
   "execution_count": 9,
   "metadata": {},
   "outputs": [
    {
     "data": {
      "text/plain": [
       "{'ISBN': '978-1-59028-241-0',\n",
       " 'author': 'John Zelle',\n",
       " 'title': 'Python Programming',\n",
       " 'year': 2010}"
      ]
     },
     "execution_count": 9,
     "metadata": {},
     "output_type": "execute_result"
    }
   ],
   "source": [
    "book[\"year\"] = 2010\n",
    "book"
   ]
  },
  {
   "cell_type": "code",
   "execution_count": 10,
   "metadata": {},
   "outputs": [
    {
     "data": {
      "text/plain": [
       "dict_keys(['author', 'title', 'ISBN', 'year'])"
      ]
     },
     "execution_count": 10,
     "metadata": {},
     "output_type": "execute_result"
    }
   ],
   "source": [
    "book.keys()"
   ]
  },
  {
   "cell_type": "code",
   "execution_count": 11,
   "metadata": {},
   "outputs": [
    {
     "data": {
      "text/plain": [
       "dict_values(['John Zelle', 'Python Programming', '978-1-59028-241-0', 2010])"
      ]
     },
     "execution_count": 11,
     "metadata": {},
     "output_type": "execute_result"
    }
   ],
   "source": [
    "book.values()"
   ]
  },
  {
   "cell_type": "code",
   "execution_count": 12,
   "metadata": {},
   "outputs": [
    {
     "data": {
      "text/plain": [
       "dict_items([('author', 'John Zelle'), ('title', 'Python Programming'), ('ISBN', '978-1-59028-241-0'), ('year', 2010)])"
      ]
     },
     "execution_count": 12,
     "metadata": {},
     "output_type": "execute_result"
    }
   ],
   "source": [
    "book.items()"
   ]
  },
  {
   "cell_type": "code",
   "execution_count": 13,
   "metadata": {},
   "outputs": [
    {
     "name": "stdout",
     "output_type": "stream",
     "text": [
      "author: John Zelle\n",
      "title: Python Programming\n",
      "ISBN: 978-1-59028-241-0\n",
      "year: 2010\n"
     ]
    }
   ],
   "source": [
    "for key in book:\n",
    "    print(\"{}: {}\".format(key, book[key]))"
   ]
  },
  {
   "cell_type": "markdown",
   "metadata": {},
   "source": [
    "One can test **membership of a key** in a dictionary."
   ]
  },
  {
   "cell_type": "code",
   "execution_count": 14,
   "metadata": {},
   "outputs": [
    {
     "data": {
      "text/plain": [
       "(True, False)"
      ]
     },
     "execution_count": 14,
     "metadata": {},
     "output_type": "execute_result"
    }
   ],
   "source": [
    "'author' in book, 'price' in book"
   ]
  },
  {
   "cell_type": "markdown",
   "metadata": {},
   "source": [
    "One can delete a key ..."
   ]
  },
  {
   "cell_type": "code",
   "execution_count": 15,
   "metadata": {},
   "outputs": [
    {
     "data": {
      "text/plain": [
       "{'ISBN': '978-1-59028-241-0',\n",
       " 'author': 'John Zelle',\n",
       " 'title': 'Python Programming'}"
      ]
     },
     "execution_count": 15,
     "metadata": {},
     "output_type": "execute_result"
    }
   ],
   "source": [
    "del book[\"year\"]\n",
    "book"
   ]
  },
  {
   "cell_type": "markdown",
   "metadata": {},
   "source": [
    "... or clear out the entire dictionary:"
   ]
  },
  {
   "cell_type": "code",
   "execution_count": 16,
   "metadata": {},
   "outputs": [
    {
     "data": {
      "text/plain": [
       "{}"
      ]
     },
     "execution_count": 16,
     "metadata": {},
     "output_type": "execute_result"
    }
   ],
   "source": [
    "book.clear()\n",
    "book"
   ]
  },
  {
   "cell_type": "code",
   "execution_count": 17,
   "metadata": {
    "collapsed": true
   },
   "outputs": [],
   "source": [
    "book = { \"author\" : \"John Zelle\", \"title\" : \"Python Programming\",\n",
    "       \"ISBN\" : \"978-1-59028-241-0\" }"
   ]
  },
  {
   "cell_type": "markdown",
   "metadata": {},
   "source": [
    "## Name Frequency"
   ]
  },
  {
   "cell_type": "markdown",
   "metadata": {},
   "source": [
    "Student names are listed in a file `students.csv`. \n",
    "The extension `.csv` stands for \"comma separated values\".\n",
    "Here, students' last names are separated by commas from students'\n",
    "first names.  To access the file, we open it (under its name)."
   ]
  },
  {
   "cell_type": "code",
   "execution_count": 18,
   "metadata": {
    "collapsed": true
   },
   "outputs": [],
   "source": [
    "students_file = open(\"students.csv\")"
   ]
  },
  {
   "cell_type": "markdown",
   "metadata": {},
   "source": [
    "A file can be regarded as a sequence of lines, each\n",
    "terminated by a newline character (`\\n`)"
   ]
  },
  {
   "cell_type": "code",
   "execution_count": 19,
   "metadata": {
    "collapsed": true
   },
   "outputs": [],
   "source": [
    "lines = students_file.readlines()"
   ]
  },
  {
   "cell_type": "code",
   "execution_count": 20,
   "metadata": {},
   "outputs": [
    {
     "data": {
      "text/plain": [
       "'MC NAMARA,THOMAS\\n'"
      ]
     },
     "execution_count": 20,
     "metadata": {},
     "output_type": "execute_result"
    }
   ],
   "source": [
    "from random import randrange\n",
    "line = lines[randrange(0,len(lines))]\n",
    "line"
   ]
  },
  {
   "cell_type": "markdown",
   "metadata": {},
   "source": [
    "To access the first name, we need to do three things:\n",
    "* get rid of the trailing newline character,\n",
    "* split the line into its comma-separated pieces,\n",
    "* pick the second of those pieces.\n",
    "\n",
    "In `python`, we can \n",
    "* use `strip()` to clear a string off any leading or trailing whitespace,\n",
    "* use `split()` with argument `,` to split a string at every comma,\n",
    "* and, of course, indexing (`[1]`) to select one item from a sequence"
   ]
  },
  {
   "cell_type": "code",
   "execution_count": 21,
   "metadata": {},
   "outputs": [
    {
     "data": {
      "text/plain": [
       "('MC NAMARA,THOMAS', ['MC NAMARA', 'THOMAS'], 'THOMAS')"
      ]
     },
     "execution_count": 21,
     "metadata": {},
     "output_type": "execute_result"
    }
   ],
   "source": [
    "line.strip(), line.strip().split(','), line.strip().split(',')[1]"
   ]
  },
  {
   "cell_type": "markdown",
   "metadata": {},
   "source": [
    "Let's wrap this up in a function, and close the file for now."
   ]
  },
  {
   "cell_type": "code",
   "execution_count": 22,
   "metadata": {
    "collapsed": true
   },
   "outputs": [],
   "source": [
    "def csv2name(line):\n",
    "    name = line.strip()\n",
    "    name = name.split(',')\n",
    "    name = name[1]\n",
    "    return name\n",
    "\n",
    "students_file.close()"
   ]
  },
  {
   "cell_type": "code",
   "execution_count": 23,
   "metadata": {},
   "outputs": [
    {
     "data": {
      "text/plain": [
       "'THOMAS'"
      ]
     },
     "execution_count": 23,
     "metadata": {},
     "output_type": "execute_result"
    }
   ],
   "source": [
    "csv2name(line)"
   ]
  },
  {
   "cell_type": "markdown",
   "metadata": {},
   "source": [
    "So here is the plan:\n",
    "\n",
    "* Using the accumulator pattern (again), we first initialize\n",
    "a dictionary `names` as an empty dictionary (`{}`).\n",
    "\n",
    "* Then we open the `students.csv` file again, loop over its lines\n",
    "and use the above method to extract a first name from each line.\n",
    "\n",
    "* With each name found in this way we test the dictionary:\n",
    "if the name is already in there (as a key), we add $1$ to the \n",
    "associated counter;  if it's not in yet,  we\n",
    "create a new key and set its counter to $1$;\n",
    "that is we add the key-value pair `(` name `,` $1$ `)` to\n",
    "the dictionary `names`."
   ]
  },
  {
   "cell_type": "code",
   "execution_count": 24,
   "metadata": {
    "collapsed": true
   },
   "outputs": [],
   "source": [
    "names  = {}\n",
    "students_file = open(\"students.csv\")\n",
    "for line in students_file:\n",
    "    name = csv2name(line)\n",
    "    if name in names:\n",
    "        names[name] += 1\n",
    "    else:\n",
    "        names[name] = 1\n",
    "students_file.close()"
   ]
  },
  {
   "cell_type": "markdown",
   "metadata": {},
   "source": [
    "Now we have a dictionary that has all the first names as its keys,\n",
    "each with an associated value, the number of students sharing this name.  Let's look at a random key-value pair:"
   ]
  },
  {
   "cell_type": "code",
   "execution_count": 25,
   "metadata": {},
   "outputs": [
    {
     "data": {
      "text/plain": [
       "('MOLLIE', 1)"
      ]
     },
     "execution_count": 25,
     "metadata": {},
     "output_type": "execute_result"
    }
   ],
   "source": [
    "from random import choice\n",
    "name = choice(list(names.keys()))\n",
    "name, names[name]"
   ]
  },
  {
   "cell_type": "markdown",
   "metadata": {},
   "source": [
    "Actually, there is a dictionary method `get()` that can be used to\n",
    "simplify the code.  `get()` accesses a value in a dictionary by its key:  `book.get('author')` is the same as `book['author']`.\n",
    "But where `book['price']` gives an error (as the dictionary `book`\n",
    "has no key `price`, the `get()` method takes as a second argument\n",
    "a **default value** which is returned if the key is absent."
   ]
  },
  {
   "cell_type": "code",
   "execution_count": 26,
   "metadata": {},
   "outputs": [
    {
     "data": {
      "text/plain": [
       "12.0"
      ]
     },
     "execution_count": 26,
     "metadata": {},
     "output_type": "execute_result"
    }
   ],
   "source": [
    "book.get('price', 12.00)"
   ]
  },
  {
   "cell_type": "markdown",
   "metadata": {},
   "source": [
    "Here, we can use this behaviour to avoid the `if` statement\n",
    "and get a shorter program as follows."
   ]
  },
  {
   "cell_type": "code",
   "execution_count": 27,
   "metadata": {
    "collapsed": true
   },
   "outputs": [],
   "source": [
    "names  = {}\n",
    "students_file = open(\"students.csv\")\n",
    "for line in students_file:\n",
    "    name = csv2name(line)\n",
    "    names[name] = names.get(name, 0) + 1\n",
    "students_file.close()"
   ]
  },
  {
   "cell_type": "code",
   "execution_count": 28,
   "metadata": {},
   "outputs": [
    {
     "data": {
      "text/plain": [
       "('DAYLE', 1)"
      ]
     },
     "execution_count": 28,
     "metadata": {},
     "output_type": "execute_result"
    }
   ],
   "source": [
    "name = choice(list(names.keys()))\n",
    "name, names[name]"
   ]
  },
  {
   "cell_type": "markdown",
   "metadata": {},
   "source": [
    "But which name occurs more often than all the other names?"
   ]
  },
  {
   "cell_type": "code",
   "execution_count": 29,
   "metadata": {},
   "outputs": [
    {
     "name": "stdout",
     "output_type": "stream",
     "text": [
      "ELLEN: 3\n",
      "OISIN: 6\n"
     ]
    }
   ],
   "source": [
    "most = 0\n",
    "for name in names:\n",
    "    if names[name] >= most:\n",
    "        most = names[name]\n",
    "        print(\"{}: {}\".format(name, names[name]))"
   ]
  },
  {
   "cell_type": "markdown",
   "metadata": {},
   "source": [
    "More systematically, one could proceed as follows:  \n",
    "\n",
    "* Use the `items()` method to turn the dictionary into a list of pairs\n",
    "(of names and frequencies), \n",
    "\n",
    "* then sort that list according to\n",
    "frequency, \n",
    "\n",
    "* and finally print the top 10."
   ]
  },
  {
   "cell_type": "code",
   "execution_count": 30,
   "metadata": {},
   "outputs": [
    {
     "name": "stdout",
     "output_type": "stream",
     "text": [
      "OISIN              6\n",
      "SEAN               5\n",
      "MATTHEW            4\n",
      "RONAN              4\n",
      "CAOIMHE            3\n",
      "CIAN               3\n",
      "CONOR              3\n",
      "DAVID              3\n",
      "ELLEN              3\n",
      "MICHAEL            3\n"
     ]
    }
   ],
   "source": [
    "items = list(names.items())\n",
    "def frequency(item):\n",
    "    return item[1]\n",
    "items.sort()\n",
    "items.sort(key=frequency, reverse=True)\n",
    "for i in range(10):\n",
    "    name, count = items[i]\n",
    "    print(\"{0:<15}{1:>5}\".format(name, count))"
   ]
  },
  {
   "cell_type": "markdown",
   "metadata": {
    "collapsed": true
   },
   "source": [
    "## Summary: Dictionaries"
   ]
  },
  {
   "cell_type": "markdown",
   "metadata": {},
   "source": [
    "* A `python` list is a **sequential collection** of data.\n",
    "\n",
    "* In `python`, lists are **mutable**, but strings are not.\n",
    "\n",
    "* A `python` **tuple** is an **immutable** list.\n",
    "\n",
    "* A `python` dictionary implements an arbitrary **mapping** from keys to values.\n",
    "\n",
    "* Dictionaries are very useful for representing **non-sequential collections** of data.\n",
    "\n",
    "* The `sort()` method for lists takes additional **keyword arguments**\n",
    "that define the sorting criteria."
   ]
  },
  {
   "cell_type": "code",
   "execution_count": null,
   "metadata": {
    "collapsed": true
   },
   "outputs": [],
   "source": []
  }
 ],
 "metadata": {
  "kernelspec": {
   "display_name": "Python 3",
   "language": "python",
   "name": "python3"
  },
  "language_info": {
   "codemirror_mode": {
    "name": "ipython",
    "version": 3
   },
   "file_extension": ".py",
   "mimetype": "text/x-python",
   "name": "python",
   "nbconvert_exporter": "python",
   "pygments_lexer": "ipython3",
   "version": "3.6.1"
  }
 },
 "nbformat": 4,
 "nbformat_minor": 2
}
