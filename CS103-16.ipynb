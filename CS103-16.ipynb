{
 "cells": [
  {
   "cell_type": "markdown",
   "metadata": {},
   "source": [
    "### CS102/CS103\n",
    "\n",
    "Prof. Götz Pfeiffer<br />\n",
    "School of Mathematics, Statistics and Applied Mathematics<br />\n",
    "NUI Galway"
   ]
  },
  {
   "cell_type": "markdown",
   "metadata": {},
   "source": [
    "# Lecture 16: Matrices"
   ]
  },
  {
   "cell_type": "markdown",
   "metadata": {},
   "source": [
    "In Mathematics, matrices are data objects of fundamental importance.\n",
    "How can we deal with matrices in `python`?"
   ]
  },
  {
   "cell_type": "markdown",
   "metadata": {},
   "source": [
    "## Implementing Matrices"
   ]
  },
  {
   "cell_type": "markdown",
   "metadata": {},
   "source": [
    "One possible way to implement a matrix using known `python` data structures is a `list` of `list`s: A matrix is a **list of\n",
    "(row) vectors**, and a vector is a **list of numbers**.\n",
    "Of course, all the rows of a matrix have the same length ..."
   ]
  },
  {
   "cell_type": "code",
   "execution_count": 1,
   "metadata": {},
   "outputs": [
    {
     "data": {
      "text/plain": [
       "[[1, 2, -1, -1, 0], [7, 5, -6, 1, 8], [3, 3, 3, -4, 1], [6, -5, 3, 0, 4]]"
      ]
     },
     "execution_count": 1,
     "metadata": {},
     "output_type": "execute_result"
    }
   ],
   "source": [
    "A = [\n",
    "[1,2,-1,-1,0],\n",
    "[7,5,-6,1,8],\n",
    "[3,3,3,-4,1],\n",
    "[6,-5,3,0,4]]\n",
    "A"
   ]
  },
  {
   "cell_type": "code",
   "execution_count": 2,
   "metadata": {},
   "outputs": [
    {
     "data": {
      "text/plain": [
       "-4"
      ]
     },
     "execution_count": 2,
     "metadata": {},
     "output_type": "execute_result"
    }
   ],
   "source": [
    "A[2][3]"
   ]
  },
  {
   "cell_type": "markdown",
   "metadata": {},
   "source": [
    "For starters, it would be nice to see a matrix printed in a more \"matrix-like\" fashion ..."
   ]
  },
  {
   "cell_type": "code",
   "execution_count": 3,
   "metadata": {
    "collapsed": true
   },
   "outputs": [],
   "source": [
    "def str_matrix(m):\n",
    "    text = [\"[\\n\"]\n",
    "    for row in m:\n",
    "        text.append(\" {}\\n\".format(row))\n",
    "    text.append(\"]\")\n",
    "    return \"\".join(text)"
   ]
  },
  {
   "cell_type": "code",
   "execution_count": 4,
   "metadata": {},
   "outputs": [
    {
     "name": "stdout",
     "output_type": "stream",
     "text": [
      "[\n",
      " [1, 2, -1, -1, 0]\n",
      " [7, 5, -6, 1, 8]\n",
      " [3, 3, 3, -4, 1]\n",
      " [6, -5, 3, 0, 4]\n",
      "]\n"
     ]
    }
   ],
   "source": [
    "print(str_matrix(A))"
   ]
  },
  {
   "cell_type": "markdown",
   "metadata": {},
   "source": [
    "##  Row Reduction"
   ]
  },
  {
   "cell_type": "markdown",
   "metadata": {},
   "source": [
    "**Gaussian elimination** is an algorithm that transforms \n",
    "any given matrix $A$ into an equivalent matrix in  **row echolon form**\n",
    "by a systematic\n",
    "application of **elementary row operations**.\n",
    "The algorithm can be used to find the **inverse**\n",
    "of a (square, invertible) matrix, and to **solve\n",
    "systems of linear equations**, like\n",
    "$$\n",
    "\\begin{array}{rcl}\n",
    "x + 2y - x - w &=& 0,\\\\\n",
    "7x + 5y - 6z + w &=& 8,\\\\\n",
    "3x + 3y + 3z - 4w &=& 1,\\\\\n",
    "6x - 5y + 3z &=& 4.\n",
    "\\end{array}\n",
    "$$"
   ]
  },
  {
   "cell_type": "markdown",
   "metadata": {},
   "source": [
    "The **algorithm** can be described as follows.\n",
    "\n",
    "**Input:** an $m \\times n$-matrix $A = (a_{ij})$\n",
    "\n",
    "**Output:** an equivalent matrix in row reduced form.\n",
    "\n",
    "2. Choose a **pivot**, i.e., an entry $a = a_{ij} \\neq 0$ such that\n",
    "all columns to the left of $a_{ij}$ consist entirely of zeros.\n",
    "\n",
    "1. **Stop** if no pivot can be found (then **all** entries in $A$ are $0$ and an all-zero matrix is in row reduced form.)\n",
    "\n",
    "3. Otherwise, if $i > 1$, **swap rows** $1$ and $i$ (so that the\n",
    "pivot lies in the top row.\n",
    "\n",
    "4. **Clear the column** below the pivot: for each $i$ ($i > 1$),\n",
    "replace row $i$ by row $i$ minus $c$ times row $1$,\n",
    "where $c = a_{ij}^{-1}/a$, to produce an entry $0$ under the\n",
    "pivot in row $i$.\n",
    "\n",
    "5. Enter **recursion**: Let $B$ be the matrix obtained from $A$ by ignoring the first row and go back to step 1 with $B$ in place of $A$."
   ]
  },
  {
   "cell_type": "markdown",
   "metadata": {},
   "source": [
    "Let's try and implement this in `python`.  It will be convenient\n",
    "to apply the row operations **in place** (thereby destroying the original matrix ...).\n",
    "Recall that list positions in `python` start at $0$.\n",
    "So the **first** row of a matrix represented as list `A`\n",
    "will be `A[0]`.\n",
    "\n",
    "We apply a **divide-and-conquer** strategy (a **top-down design**)\n",
    "and implement the algorithm in terms of subroutines,\n",
    "leaving it to the (yet to be written) functions that implement\n",
    "those subroutines to worry about the details."
   ]
  },
  {
   "cell_type": "code",
   "execution_count": 5,
   "metadata": {
    "collapsed": true
   },
   "outputs": [],
   "source": [
    "def echelon_form(A, row, col):\n",
    "    \"transform a matrix A into row echelon form\"\n",
    "    \n",
    "    # 1. find a pivot\n",
    "    pivot = pivot_coordinates(A, row, col)\n",
    "    \n",
    "    # 2. return if A is a zero matrix\n",
    "    if pivot == None: \n",
    "        return\n",
    "    \n",
    "    # 3. make pivot row the 'first' row\n",
    "    i, j = pivot\n",
    "    if i > row:\n",
    "        row_op_swap(A, i, row)\n",
    "    \n",
    "    # 4. clear column under pivot\n",
    "    clear_column(A, row, j)\n",
    "    \n",
    "    # 5. enter recursion\n",
    "    echelon_form(A, row + 1, col + 1)"
   ]
  },
  {
   "cell_type": "markdown",
   "metadata": {},
   "source": [
    "Unfortunately, we can't test this function before all the gaps\n",
    "are closed.  "
   ]
  },
  {
   "cell_type": "markdown",
   "metadata": {},
   "source": [
    "## Elementary Row Operations"
   ]
  },
  {
   "cell_type": "markdown",
   "metadata": {},
   "source": [
    "Let's implement elementary **row operations** next.  In place.  That is,\n",
    "rather than returning a value, these functions will **modify**\n",
    "the entries of a given matrix ..."
   ]
  },
  {
   "cell_type": "markdown",
   "metadata": {},
   "source": [
    "As our matrices are lists of rows, swapping two rows simply amounts to swapping the corresponding list items."
   ]
  },
  {
   "cell_type": "code",
   "execution_count": 6,
   "metadata": {
    "collapsed": true
   },
   "outputs": [],
   "source": [
    "def row_op_swap(A, i, k):\n",
    "    \"swap rows i and k\"\n",
    "    A[i], A[k] = A[k], A[i]"
   ]
  },
  {
   "cell_type": "markdown",
   "metadata": {},
   "source": [
    "We can test this function on our matrix `A`: let's swap rows 1 and 2 ..."
   ]
  },
  {
   "cell_type": "code",
   "execution_count": 7,
   "metadata": {},
   "outputs": [
    {
     "name": "stdout",
     "output_type": "stream",
     "text": [
      "[\n",
      " [1, 2, -1, -1, 0]\n",
      " [7, 5, -6, 1, 8]\n",
      " [3, 3, 3, -4, 1]\n",
      " [6, -5, 3, 0, 4]\n",
      "]\n"
     ]
    }
   ],
   "source": [
    "print(str_matrix(A))"
   ]
  },
  {
   "cell_type": "code",
   "execution_count": 8,
   "metadata": {
    "collapsed": true
   },
   "outputs": [],
   "source": [
    "row_op_swap(A, 1, 2)"
   ]
  },
  {
   "cell_type": "code",
   "execution_count": 9,
   "metadata": {},
   "outputs": [
    {
     "name": "stdout",
     "output_type": "stream",
     "text": [
      "[\n",
      " [1, 2, -1, -1, 0]\n",
      " [3, 3, 3, -4, 1]\n",
      " [7, 5, -6, 1, 8]\n",
      " [6, -5, 3, 0, 4]\n",
      "]\n"
     ]
    }
   ],
   "source": [
    "print(str_matrix(A))"
   ]
  },
  {
   "cell_type": "markdown",
   "metadata": {},
   "source": [
    "... and swap them back."
   ]
  },
  {
   "cell_type": "code",
   "execution_count": 10,
   "metadata": {
    "collapsed": true
   },
   "outputs": [],
   "source": [
    "row_op_swap(A, 1, 2)"
   ]
  },
  {
   "cell_type": "markdown",
   "metadata": {},
   "source": [
    "The other two types of elementary row operations are\n",
    "**row scaling** and **row addition**.\n",
    "Here, we use a loop over all column indices (i.e., the range `range(len(A[i]))`) to modify the entries in row `i` as required."
   ]
  },
  {
   "cell_type": "code",
   "execution_count": 11,
   "metadata": {
    "collapsed": true
   },
   "outputs": [],
   "source": [
    "def row_op_scale(A, i, c):\n",
    "    \"scale row i by c != 0\"\n",
    "    for j in range(len(A[i])):\n",
    "        A[i][j] = c * A[i][j]"
   ]
  },
  {
   "cell_type": "code",
   "execution_count": 12,
   "metadata": {
    "collapsed": true
   },
   "outputs": [],
   "source": [
    "def row_op_add(A, i, k, c):\n",
    "    \"add c-multiple of row k to row i\"\n",
    "    for j in range(len(A[i])):\n",
    "        A[i][j] = A[i][j] + c * A[k][j]"
   ]
  },
  {
   "cell_type": "markdown",
   "metadata": {},
   "source": [
    "That's one gap in the `echelon_form()` function filled.  Let's fill\n",
    "in the details of `pivot_coordinates()` next.\n",
    "\n",
    "Finding a **pivot** is straight-forward if you do it by hand.\n",
    "But how do you instruct a computer program to do this?"
   ]
  },
  {
   "cell_type": "code",
   "execution_count": 13,
   "metadata": {
    "collapsed": true
   },
   "outputs": [],
   "source": [
    "def pivot_coordinates(A, i, j):\n",
    "    \"find first nonzero entry in matrix A, or None\"\n",
    "    m, n = len(A), len(A[1])\n",
    "    while j < n:\n",
    "        k = i\n",
    "        while k < m and A[k][j] == 0:\n",
    "            k += 1\n",
    "        if k < m:\n",
    "            return k, j\n",
    "        j += 1"
   ]
  },
  {
   "cell_type": "markdown",
   "metadata": {},
   "source": [
    "For added flexibility, this implementation of `pivot_coordinates()` restricts the\n",
    "search to rows with index $\\geq i$ and columns with index $\\geq j$.\n",
    "Later in the process, when some pivots have already been dealt with, the\n",
    "remaining pivots have to be found below and to the right of those pivots."
   ]
  },
  {
   "cell_type": "markdown",
   "metadata": {},
   "source": [
    "In the first instance the function is applied with\n",
    "`i = 0` and `j = 0`.  And we can test the function right now:"
   ]
  },
  {
   "cell_type": "code",
   "execution_count": 14,
   "metadata": {},
   "outputs": [
    {
     "data": {
      "text/plain": [
       "(0, 0)"
      ]
     },
     "execution_count": 14,
     "metadata": {},
     "output_type": "execute_result"
    }
   ],
   "source": [
    "pivot_coordinates(A, 0, 0)"
   ]
  },
  {
   "cell_type": "code",
   "execution_count": 15,
   "metadata": {},
   "outputs": [
    {
     "data": {
      "text/plain": [
       "(3, 4)"
      ]
     },
     "execution_count": 15,
     "metadata": {},
     "output_type": "execute_result"
    }
   ],
   "source": [
    "pivot_coordinates(A, 3, 3)"
   ]
  },
  {
   "cell_type": "markdown",
   "metadata": {},
   "source": [
    "The next gap to fill is `clear_column()`.  An opportunity\n",
    "to apply `row_op_add()` ..."
   ]
  },
  {
   "cell_type": "code",
   "execution_count": 16,
   "metadata": {
    "collapsed": true
   },
   "outputs": [],
   "source": [
    "def clear_column(A, row, col):\n",
    "    for i in range(row + 1, len(A)):\n",
    "        row_op_add(A, i, row, -A[i][col]/A[row][col])"
   ]
  },
  {
   "cell_type": "markdown",
   "metadata": {},
   "source": [
    "And that's it:"
   ]
  },
  {
   "cell_type": "code",
   "execution_count": 17,
   "metadata": {},
   "outputs": [
    {
     "name": "stdout",
     "output_type": "stream",
     "text": [
      "[\n",
      " [1, 2, -1, -1, 0]\n",
      " [0.0, -9.0, 1.0, 8.0, 8.0]\n",
      " [0.0, 0.0, 5.666666666666667, -3.6666666666666665, -1.6666666666666665]\n",
      " [0.0, 0.0, 8.881784197001252e-16, -4.509803921568628, -9.019607843137255]\n",
      "]\n"
     ]
    }
   ],
   "source": [
    "echelon_form(A, 0, 0)\n",
    "print(str_matrix(A))"
   ]
  },
  {
   "cell_type": "markdown",
   "metadata": {},
   "source": [
    "Hmm. Rounding errors ... Let's print the entries in text fields\n",
    "of width 8, with only 1 digit after the decimal dot."
   ]
  },
  {
   "cell_type": "code",
   "execution_count": 18,
   "metadata": {},
   "outputs": [
    {
     "name": "stdout",
     "output_type": "stream",
     "text": [
      "'     0.0'\n",
      "'12345678'\n"
     ]
    }
   ],
   "source": [
    "print(\"'{:8.1f}'\".format(A[3][2]))\n",
    "print(\"'12345678'\")"
   ]
  },
  {
   "cell_type": "code",
   "execution_count": 19,
   "metadata": {
    "collapsed": true
   },
   "outputs": [],
   "source": [
    "def str_matrix(m):\n",
    "    text = [\"[\\n\"]\n",
    "    for row in m:\n",
    "        entries = []\n",
    "        for entry in row:\n",
    "            entries.append(\"{:8.1f}\".format(entry))        \n",
    "        text.append(\" [{}],\\n\".format(\", \".join(entries)))\n",
    "    text.append(\"]\")\n",
    "    return \"\".join(text)"
   ]
  },
  {
   "cell_type": "code",
   "execution_count": 20,
   "metadata": {},
   "outputs": [
    {
     "name": "stdout",
     "output_type": "stream",
     "text": [
      "[\n",
      " [     1.0,      2.0,     -1.0,     -1.0,      0.0],\n",
      " [     0.0,     -9.0,      1.0,      8.0,      8.0],\n",
      " [     0.0,      0.0,      5.7,     -3.7,     -1.7],\n",
      " [     0.0,      0.0,      0.0,     -4.5,     -9.0],\n",
      "]\n"
     ]
    }
   ],
   "source": [
    "print(str_matrix(A))"
   ]
  },
  {
   "cell_type": "markdown",
   "metadata": {},
   "source": [
    "## Back Substitution"
   ]
  },
  {
   "cell_type": "markdown",
   "metadata": {},
   "source": [
    "The Jordan part of the **Gauss-Jordan** algorithm\n",
    "continues with further row operations to produce the\n",
    "**reduced** row echelon form (aka row **canonical form**) of\n",
    "the matrix $A$:\n",
    "\n",
    "For each nonzero row $R_k$, from the bottom to the top of $A$:\n",
    "\n",
    "1. if the pivot $a$ in row $R_k$ is not $1$, replace\n",
    "$R_k$ by $\\frac1a R_k$ to **make the pivot equal to $1$**.\n",
    "\n",
    "2. **clear the column above** the pivot: to each row $i$\n",
    "add $c R_k$, where $c = -a_{ik}$, to produce an entry $0$\n",
    "above the pivot.\n",
    "\n",
    "We'll use a version of `echelon_form()` that returns the column coordinates of\n",
    "the pivots in the resulting matrix:"
   ]
  },
  {
   "cell_type": "code",
   "execution_count": 21,
   "metadata": {
    "collapsed": true
   },
   "outputs": [],
   "source": [
    "def echelon_form(A, row, col):\n",
    "    \"transform a matrix A into row echelon form\"\n",
    "    \n",
    "    # 1. find a pivot\n",
    "    pivot = pivot_coordinates(A, row, col)\n",
    "    \n",
    "    # 2. return if A is a zero matrix\n",
    "    if pivot == None: \n",
    "        return []\n",
    "    \n",
    "    # 3. make pivot row the 'first' row\n",
    "    i, j = pivot\n",
    "    if i > row:\n",
    "        row_op_swap(A, i, row)\n",
    "    \n",
    "    # 4. clear column under pivot\n",
    "    clear_column(A, row, j)\n",
    "    \n",
    "    # 5. enter recursion\n",
    "    return [j] + echelon_form(A, row + 1, col + 1)"
   ]
  },
  {
   "cell_type": "markdown",
   "metadata": {},
   "source": [
    "The full Gauss-Jordan algorithm can now be implemented as follows:"
   ]
  },
  {
   "cell_type": "code",
   "execution_count": 22,
   "metadata": {
    "collapsed": true
   },
   "outputs": [],
   "source": [
    "def canonical_form(A):\n",
    "    pivots = echelon_form(A, 0, 0)\n",
    "    for i in reversed(range(len(pivots))):\n",
    "        clear_column_above(A, i, pivots[i])"
   ]
  },
  {
   "cell_type": "markdown",
   "metadata": {},
   "source": [
    "And the missing function `clear_column_above()` can be formulated in terms of the row operations\n",
    "`row_op_scale()` and `row_op_add()`."
   ]
  },
  {
   "cell_type": "code",
   "execution_count": 23,
   "metadata": {
    "collapsed": true
   },
   "outputs": [],
   "source": [
    "def clear_column_above(A, row, col):\n",
    "    if A[row][col] != 1:\n",
    "        row_op_scale(A, row, 1/A[row][col])\n",
    "    for k in range(row):\n",
    "        row_op_add(A, k, row, -A[k][col])        "
   ]
  },
  {
   "cell_type": "markdown",
   "metadata": {},
   "source": [
    "That's it. Let's find the row canonical form of the matrix $A$."
   ]
  },
  {
   "cell_type": "code",
   "execution_count": 24,
   "metadata": {},
   "outputs": [
    {
     "name": "stdout",
     "output_type": "stream",
     "text": [
      "[\n",
      " [     1.0,      0.0,      0.0,      0.0,      1.0],\n",
      " [    -0.0,      1.0,     -0.0,     -0.0,      1.0],\n",
      " [     0.0,      0.0,      1.0,      0.0,      1.0],\n",
      " [    -0.0,     -0.0,     -0.0,      1.0,      2.0],\n",
      "]\n"
     ]
    }
   ],
   "source": [
    "A = [\n",
    "[1,2,-1,-1,0],\n",
    "[7,5,-6,1,8],\n",
    "[3,3,3,-4,1],\n",
    "[6,-5,3,0,4]]\n",
    "canonical_form(A)\n",
    "print(str_matrix(A))"
   ]
  },
  {
   "cell_type": "markdown",
   "metadata": {},
   "source": [
    "So $x = y = z = 1$ and $w = 2$."
   ]
  },
  {
   "cell_type": "markdown",
   "metadata": {},
   "source": [
    "Finally, if we add reporting functionality to the row operations, like this ..."
   ]
  },
  {
   "cell_type": "code",
   "execution_count": 25,
   "metadata": {
    "collapsed": true
   },
   "outputs": [],
   "source": [
    "def row_op_swap(A, i, k):\n",
    "    \"swap rows i and k\"\n",
    "    print(\"A[{}] <-> A[{}]\".format(i, k))\n",
    "    A[i], A[k] = A[k], A[i]"
   ]
  },
  {
   "cell_type": "code",
   "execution_count": 26,
   "metadata": {
    "collapsed": true
   },
   "outputs": [],
   "source": [
    "def row_op_scale(A, i, c):\n",
    "    \"scale row i by c != 0\"\n",
    "    print(\"A[{0}] <- {1:.1f} * A[{0}]\".format(i, c))\n",
    "    for j in range(len(A[i])):\n",
    "        A[i][j] = c * A[i][j]"
   ]
  },
  {
   "cell_type": "code",
   "execution_count": 27,
   "metadata": {
    "collapsed": true
   },
   "outputs": [],
   "source": [
    "def row_op_add(A, i, k, c):\n",
    "    \"add c-multiple of row k to row i\"\n",
    "    print(\"A[{0}] <- A[{0}] + {2:.1f} * A[{1}]\".format(i, k, c))\n",
    "    for j in range(len(A[i])):\n",
    "        A[i][j] = A[i][j] + c * A[k][j]"
   ]
  },
  {
   "cell_type": "markdown",
   "metadata": {},
   "source": [
    "... we can watch Gaussian elimination in action ..."
   ]
  },
  {
   "cell_type": "code",
   "execution_count": 28,
   "metadata": {},
   "outputs": [
    {
     "name": "stdout",
     "output_type": "stream",
     "text": [
      "A[1] <- A[1] + -7.0 * A[0]\n",
      "A[2] <- A[2] + -3.0 * A[0]\n",
      "A[3] <- A[3] + -6.0 * A[0]\n",
      "A[2] <- A[2] + -0.3 * A[1]\n",
      "A[3] <- A[3] + -1.9 * A[1]\n",
      "A[3] <- A[3] + -1.3 * A[2]\n",
      "A[3] <- -0.2 * A[3]\n",
      "A[0] <- A[0] + 1.0 * A[3]\n",
      "A[1] <- A[1] + -8.0 * A[3]\n",
      "A[2] <- A[2] + 3.7 * A[3]\n",
      "A[2] <- 0.2 * A[2]\n",
      "A[0] <- A[0] + 1.0 * A[2]\n",
      "A[1] <- A[1] + -1.0 * A[2]\n",
      "A[1] <- -0.1 * A[1]\n",
      "A[0] <- A[0] + -2.0 * A[1]\n",
      "[\n",
      " [     1.0,      0.0,      0.0,      0.0,      1.0],\n",
      " [    -0.0,      1.0,     -0.0,     -0.0,      1.0],\n",
      " [     0.0,      0.0,      1.0,      0.0,      1.0],\n",
      " [    -0.0,     -0.0,     -0.0,      1.0,      2.0],\n",
      "]\n"
     ]
    }
   ],
   "source": [
    "A = [\n",
    "[1,2,-1,-1,0],\n",
    "[7,5,-6,1,8],\n",
    "[3,3,3,-4,1],\n",
    "[6,-5,3,0,4]]\n",
    "canonical_form(A)\n",
    "print(str_matrix(A))"
   ]
  },
  {
   "cell_type": "markdown",
   "metadata": {},
   "source": [
    "##  Summary: Matrices"
   ]
  },
  {
   "cell_type": "markdown",
   "metadata": {},
   "source": [
    "* **Matrices** can be implemented as lists of lists (of the same length).\n",
    "\n",
    "* **Elementary row operations** can be implemented as functions that\n",
    "modify a given matrix **in place** (rather than returning a new matrix object).\n",
    "\n",
    "* **Gaussian elimination** is an algorithm that applies\n",
    "row operations systematically to find the **reduced row echelon form** of a given matrix.\n",
    "\n",
    "* Division of `int` values produces `float` values.\n",
    "\n",
    "* `floats` are (only) approximations to real numbers.\n",
    "\n",
    "* **String formatting** can be used to print `float` values\n",
    "in a nice way."
   ]
  },
  {
   "cell_type": "code",
   "execution_count": null,
   "metadata": {
    "collapsed": true
   },
   "outputs": [],
   "source": []
  }
 ],
 "metadata": {
  "kernelspec": {
   "display_name": "Python 3",
   "language": "python",
   "name": "python3"
  },
  "language_info": {
   "codemirror_mode": {
    "name": "ipython",
    "version": 3
   },
   "file_extension": ".py",
   "mimetype": "text/x-python",
   "name": "python",
   "nbconvert_exporter": "python",
   "pygments_lexer": "ipython3",
   "version": "3.6.1"
  }
 },
 "nbformat": 4,
 "nbformat_minor": 2
}
