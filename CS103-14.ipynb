{
 "cells": [
  {
   "cell_type": "markdown",
   "metadata": {},
   "source": [
    "### CS102/CS103\n",
    "\n",
    "Prof. Götz Pfeiffer<br />\n",
    "School of Mathematics, Statistics and Applied Mathematics<br />\n",
    "NUI Galway"
   ]
  },
  {
   "cell_type": "markdown",
   "metadata": {},
   "source": [
    "# Lecture 14: File Processing"
   ]
  },
  {
   "cell_type": "markdown",
   "metadata": {},
   "source": [
    "Files contain data and programs.  Files provide permanent storage.\n",
    "Files are used to transport data from one place to another.\n",
    "Dealing with the physical aspects of storing, retrieving and\n",
    "updating data on file is one of the tasks of the operating\n",
    "system. A `python` programmer need not worry about these issues\n",
    "and can access files through an abstract interface.  We'll\n",
    "discuss the `python` tools provided for this. "
   ]
  },
  {
   "cell_type": "markdown",
   "metadata": {},
   "source": [
    "But first, a few more thoughts on encoding and encrypting. "
   ]
  },
  {
   "cell_type": "markdown",
   "metadata": {},
   "source": [
    "##  Encryption"
   ]
  },
  {
   "cell_type": "markdown",
   "metadata": {},
   "source": [
    "Single letter message units over the 37-letter alphabet\n",
    "`0`, `1`, ..., `9`, `A`, `B`, ..., `Z`, `_`\n",
    "are encrypted by an **affine encryption function** of the form\n",
    "$$\n",
    "f \\colon x \\mapsto \\alpha x + \\beta,\\, \\mathbb{Z}_{37} \\to \\mathbb{Z}_{37}\n",
    "$$"
   ]
  },
  {
   "cell_type": "code",
   "execution_count": 1,
   "metadata": {},
   "outputs": [
    {
     "data": {
      "text/plain": [
       "12"
      ]
     },
     "execution_count": 1,
     "metadata": {},
     "output_type": "execute_result"
    }
   ],
   "source": [
    "alphabet = \"0123456789ABCDEFGHIJKLMNOPQRSTUVWXYZ_\"\n",
    "\n",
    "def my_ord(c):\n",
    "    \"encode character c relative to alphabet\"\n",
    "    i = alphabet.index(c)\n",
    "    return i\n",
    "\n",
    "my_ord('C')"
   ]
  },
  {
   "cell_type": "code",
   "execution_count": 2,
   "metadata": {},
   "outputs": [
    {
     "data": {
      "text/plain": [
       "'C'"
      ]
     },
     "execution_count": 2,
     "metadata": {},
     "output_type": "execute_result"
    }
   ],
   "source": [
    "def my_chr(code):\n",
    "    \"decode code relative to alphabet\"\n",
    "    c = alphabet[code]\n",
    "    return c\n",
    "\n",
    "my_chr(12)"
   ]
  },
  {
   "cell_type": "code",
   "execution_count": 3,
   "metadata": {
    "collapsed": true
   },
   "outputs": [],
   "source": [
    "def text2code(message):\n",
    "    \"convert a textual message into a sequence of code points\"\n",
    "    codes = []\n",
    "    for c in message:\n",
    "        code = my_ord(c)\n",
    "        codes.append(code)\n",
    "    return codes"
   ]
  },
  {
   "cell_type": "code",
   "execution_count": 4,
   "metadata": {},
   "outputs": [
    {
     "data": {
      "text/plain": [
       "[17, 18, 36, 29, 17, 14, 27, 14]"
      ]
     },
     "execution_count": 4,
     "metadata": {},
     "output_type": "execute_result"
    }
   ],
   "source": [
    "text2code(\"HI_THERE\")"
   ]
  },
  {
   "cell_type": "code",
   "execution_count": 5,
   "metadata": {
    "collapsed": true
   },
   "outputs": [],
   "source": [
    "def code2text(codes):\n",
    "    \"efficiently convert code points into text\"\n",
    "    chars = []\n",
    "    for code in codes:\n",
    "        c = my_chr(code)\n",
    "        chars.append(c)\n",
    "    message = \"\".join(chars)\n",
    "    return message"
   ]
  },
  {
   "cell_type": "code",
   "execution_count": 6,
   "metadata": {},
   "outputs": [
    {
     "data": {
      "text/plain": [
       "'HI_THERE'"
      ]
     },
     "execution_count": 6,
     "metadata": {},
     "output_type": "execute_result"
    }
   ],
   "source": [
    "code2text([17, 18, 36, 29, 17, 14, 27, 14])"
   ]
  },
  {
   "cell_type": "code",
   "execution_count": 7,
   "metadata": {},
   "outputs": [
    {
     "data": {
      "text/plain": [
       "'K1OSROWOANUKO7SCUK1OCUKIRIUTSUWUTSK0NITLSYU3SK1OS4UK1ONS94SC97ONTSR9CQ0KITL'"
      ]
     },
     "execution_count": 7,
     "metadata": {},
     "output_type": "execute_result"
    }
   ],
   "source": [
    "secret = open(\"secret.txt\").read().strip()\n",
    "secret"
   ]
  },
  {
   "cell_type": "code",
   "execution_count": 8,
   "metadata": {},
   "outputs": [
    {
     "data": {
      "text/plain": [
       "[27, 9, 12, 26, 0, 20, 18, 29, 21]"
      ]
     },
     "execution_count": 8,
     "metadata": {},
     "output_type": "execute_result"
    }
   ],
   "source": [
    "text2code(secret[-9:])"
   ]
  },
  {
   "cell_type": "code",
   "execution_count": 9,
   "metadata": {},
   "outputs": [
    {
     "data": {
      "text/plain": [
       "[12, 24, 22, 25, 30, 29, 18, 23, 16]"
      ]
     },
     "execution_count": 9,
     "metadata": {},
     "output_type": "execute_result"
    }
   ],
   "source": [
    "text2code(\"COMPUTING\")"
   ]
  },
  {
   "cell_type": "code",
   "execution_count": 10,
   "metadata": {},
   "outputs": [
    {
     "data": {
      "text/plain": [
       "17"
      ]
     },
     "execution_count": 10,
     "metadata": {},
     "output_type": "execute_result"
    }
   ],
   "source": [
    "from modular import modular_inverse\n",
    "modular_inverse(7, 37) * 8 % 37"
   ]
  },
  {
   "cell_type": "code",
   "execution_count": 11,
   "metadata": {
    "collapsed": true
   },
   "outputs": [],
   "source": [
    "def encipher(x):\n",
    "    \"affine enciphering function\"\n",
    "    return (17 * x + 8) % 37\n",
    "\n",
    "def decipher(x):\n",
    "    \"affine deciphering function\"\n",
    "    return (24 * (x - 8)) % 37\n",
    "    "
   ]
  },
  {
   "cell_type": "code",
   "execution_count": 12,
   "metadata": {},
   "outputs": [
    {
     "data": {
      "text/plain": [
       "(29, 21)"
      ]
     },
     "execution_count": 12,
     "metadata": {},
     "output_type": "execute_result"
    }
   ],
   "source": [
    "encipher(23), encipher(16)"
   ]
  },
  {
   "cell_type": "code",
   "execution_count": 13,
   "metadata": {
    "collapsed": true
   },
   "outputs": [],
   "source": [
    "def encrypt(codes):\n",
    "    \"encryption\"\n",
    "    crypto = []\n",
    "    for code in codes:\n",
    "        crypto.append(encipher(code))\n",
    "    return crypto"
   ]
  },
  {
   "cell_type": "code",
   "execution_count": 14,
   "metadata": {},
   "outputs": [
    {
     "data": {
      "text/plain": [
       "'R9CQ0KITL'"
      ]
     },
     "execution_count": 14,
     "metadata": {},
     "output_type": "execute_result"
    }
   ],
   "source": [
    "code2text(encrypt(text2code(\"COMPUTING\")))"
   ]
  },
  {
   "cell_type": "code",
   "execution_count": 15,
   "metadata": {},
   "outputs": [],
   "source": [
    "def decrypt(crypto):\n",
    "    \"decryption\"\n",
    "    codes = []\n",
    "    for code in crypto:\n",
    "        codes.append(decipher(code))\n",
    "    return codes\n"
   ]
  },
  {
   "cell_type": "code",
   "execution_count": 16,
   "metadata": {},
   "outputs": [
    {
     "data": {
      "text/plain": [
       "'THE_CELEBRATED_MATHEMATICIAN_ALAN_TURING_WAS_THE_FATHER_OF_MODERN_COMPUTING'"
      ]
     },
     "execution_count": 16,
     "metadata": {},
     "output_type": "execute_result"
    }
   ],
   "source": [
    "code2text(decrypt(text2code(secret)))"
   ]
  },
  {
   "cell_type": "markdown",
   "metadata": {},
   "source": [
    "## Files"
   ]
  },
  {
   "cell_type": "markdown",
   "metadata": {},
   "source": [
    "* Conceptually, a file is a sequence of data that is stored in secondary memory,\n",
    "usually on a disk drive. \n",
    "* Files can contain any type of data, but the easiest files to work with are those\n",
    "containing text.\n",
    "* File of text can be read and understood by humans.\n",
    "* They are easily created and edited with general purpose text editors or\n",
    "word processors.\n",
    "* A file can be regarded as a (possibly long) string.\n",
    "* A file typically consists of several lines.\n",
    "* `python` uses the newline character (`\\n`; ASCII and Unicode code point 10) as end-of-line marker."
   ]
  },
  {
   "cell_type": "code",
   "execution_count": 17,
   "metadata": {},
   "outputs": [
    {
     "data": {
      "text/plain": [
       "10"
      ]
     },
     "execution_count": 17,
     "metadata": {},
     "output_type": "execute_result"
    }
   ],
   "source": [
    "ord('\\n')"
   ]
  },
  {
   "cell_type": "markdown",
   "metadata": {},
   "source": [
    "### Workflow"
   ]
  },
  {
   "cell_type": "markdown",
   "metadata": {},
   "source": [
    "Working with files usually involves 3 steps.\n",
    "\n",
    "1. **open** the file.\n",
    "2. **read** from or **write** to the file.\n",
    "3. **close** the file."
   ]
  },
  {
   "cell_type": "markdown",
   "metadata": {},
   "source": [
    "### Opening a file\n",
    "\n",
    "* The `open()` function returns a **file object** and is most commonly used with two arguments:\n",
    "```\n",
    "open(<filename>, <mode>)\n",
    "```\n",
    "* The first argument, `<filename>`, is a string containing the name of the file in question.\n",
    "* The second argument, `<mode>`, is another string, usually a single character, indicating\n",
    "how the file will be used:\n",
    "    * mode `'r'` opens the file for reading (only) - it is an error to\n",
    "     try and read a file that does not exist;\n",
    "    * mode `'w'` opens the file for writing (only) - should a file with that name exist, its\n",
    "content is erased.  \n",
    "* The `<mode>` argument is optional and defaults to `'r'` if omitted."
   ]
  },
  {
   "cell_type": "code",
   "execution_count": 18,
   "metadata": {},
   "outputs": [],
   "source": [
    "infile = open(\"students.csv\", \"r\")\n",
    "outfile = open(\"usernames.txt\", 'w')"
   ]
  },
  {
   "cell_type": "markdown",
   "metadata": {},
   "source": [
    "### Reading from a file\n",
    "\n",
    "* `<file>.read()` reads the **entire file** and returns its content as \n",
    "a **single string**.\n",
    "\n",
    "* `<file>.readline()` reads the **next line** of the file\n",
    "and returns it as a string (including the end-of-line marker `\\n`).\n",
    "\n",
    "* `<file>.readlines()` reads the **entire file** and returns\n",
    "its content as a **list of strings**, one string per line.\n",
    "\n",
    "* `for <line> in <file>:` loops over the lines of the file.\n"
   ]
  },
  {
   "cell_type": "code",
   "execution_count": 19,
   "metadata": {},
   "outputs": [
    {
     "data": {
      "text/plain": [
       "'CASEY,ELLEN\\n'"
      ]
     },
     "execution_count": 19,
     "metadata": {},
     "output_type": "execute_result"
    }
   ],
   "source": [
    "infile.readline()"
   ]
  },
  {
   "cell_type": "code",
   "execution_count": 20,
   "metadata": {},
   "outputs": [
    {
     "data": {
      "text/plain": [
       "'O SHEA,HUGO\\n'"
      ]
     },
     "execution_count": 20,
     "metadata": {},
     "output_type": "execute_result"
    }
   ],
   "source": [
    "infile.readline()"
   ]
  },
  {
   "cell_type": "code",
   "execution_count": 21,
   "metadata": {
    "collapsed": true
   },
   "outputs": [],
   "source": [
    "lines = infile.readlines()\n",
    "lines2 = infile.readlines()"
   ]
  },
  {
   "cell_type": "code",
   "execution_count": 22,
   "metadata": {},
   "outputs": [
    {
     "data": {
      "text/plain": [
       "[]"
      ]
     },
     "execution_count": 22,
     "metadata": {},
     "output_type": "execute_result"
    }
   ],
   "source": [
    "lines2"
   ]
  },
  {
   "cell_type": "markdown",
   "metadata": {},
   "source": [
    "### Writing to a file\n",
    "\n",
    "* `<file>.write(<string>)` writes (appends) a string to the file, unformatted.\n",
    "\n",
    "* `print(<string>, file=<file>)` writes a string to the file, standard print formatting\n",
    "is applied."
   ]
  },
  {
   "cell_type": "code",
   "execution_count": 23,
   "metadata": {},
   "outputs": [],
   "source": [
    "from username import username, csv2name"
   ]
  },
  {
   "cell_type": "code",
   "execution_count": 24,
   "metadata": {},
   "outputs": [],
   "source": [
    "first, last = csv2name(lines[0])"
   ]
  },
  {
   "cell_type": "code",
   "execution_count": 25,
   "metadata": {
    "collapsed": true
   },
   "outputs": [],
   "source": [
    "uname = username(first, last)"
   ]
  },
  {
   "cell_type": "code",
   "execution_count": 26,
   "metadata": {},
   "outputs": [
    {
     "data": {
      "text/plain": [
       "'sculliga'"
      ]
     },
     "execution_count": 26,
     "metadata": {},
     "output_type": "execute_result"
    }
   ],
   "source": [
    "uname"
   ]
  },
  {
   "cell_type": "code",
   "execution_count": 27,
   "metadata": {},
   "outputs": [
    {
     "data": {
      "text/plain": [
       "8"
      ]
     },
     "execution_count": 27,
     "metadata": {},
     "output_type": "execute_result"
    }
   ],
   "source": [
    "outfile.write(uname)"
   ]
  },
  {
   "cell_type": "markdown",
   "metadata": {},
   "source": [
    "### Closing a file"
   ]
  },
  {
   "cell_type": "markdown",
   "metadata": {},
   "source": [
    "* `<file>.close()` closes the file."
   ]
  },
  {
   "cell_type": "code",
   "execution_count": 28,
   "metadata": {
    "collapsed": true
   },
   "outputs": [],
   "source": [
    "infile.close()\n",
    "outfile.close()"
   ]
  },
  {
   "cell_type": "markdown",
   "metadata": {},
   "source": [
    "### Example:  Batch Usernames\n",
    "\n",
    "In batch processing, input and output is done through files.\n",
    "Let's generate usernames for **all** students on file."
   ]
  },
  {
   "cell_type": "code",
   "execution_count": 29,
   "metadata": {
    "collapsed": true
   },
   "outputs": [],
   "source": [
    "def userfile(in_name, out_name):\n",
    "    \"read student names from infile, write usernames to outfile\"\n",
    "\n",
    "    # open the files\n",
    "    infile = open(in_name, 'r')\n",
    "    outfile = open(out_name, 'w')\n",
    "    \n",
    "    # process input file line by line\n",
    "    for line in infile:\n",
    "        first, last = csv2name(line)\n",
    "        uname = username(first, last)\n",
    "        print(uname, file = outfile)\n",
    "    \n",
    "    # close the files\n",
    "    infile.close()\n",
    "    outfile.close()"
   ]
  },
  {
   "cell_type": "markdown",
   "metadata": {},
   "source": [
    "And off we go ..."
   ]
  },
  {
   "cell_type": "code",
   "execution_count": 30,
   "metadata": {
    "collapsed": true
   },
   "outputs": [],
   "source": [
    "userfile(\"students.csv\", \"usernames.txt\")"
   ]
  },
  {
   "cell_type": "markdown",
   "metadata": {},
   "source": [
    "## Summary: Files"
   ]
  },
  {
   "cell_type": "markdown",
   "metadata": {},
   "source": [
    "* **Text files** are multi-line strings stored in **secondary memory**.\n",
    "\n",
    "* A file may be opened for **reading** from or for **writing** to it.\n",
    "\n",
    "* When opened for writing, the existing content of the file is **erased*.\n",
    "\n",
    "* `python` provides three **file-reading methods**: `read()`, `readline()` and `readlines()`.\n",
    "\n",
    "* It is possible to **iterate through the lines** of a file with a `for` loop.\n",
    "\n",
    "* Data is **written** to a file using the `print` function.\n",
    "\n",
    "* Files can also be used to **store `python` programs**.\n",
    "\n",
    "* To read a `python` program **into the current session**, the `import` statement is used."
   ]
  }
 ],
 "metadata": {
  "kernelspec": {
   "display_name": "Python 3",
   "language": "python",
   "name": "python3"
  },
  "language_info": {
   "codemirror_mode": {
    "name": "ipython",
    "version": 3
   },
   "file_extension": ".py",
   "mimetype": "text/x-python",
   "name": "python",
   "nbconvert_exporter": "python",
   "pygments_lexer": "ipython3",
   "version": "3.6.1"
  }
 },
 "nbformat": 4,
 "nbformat_minor": 2
}
