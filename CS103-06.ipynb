{
 "cells": [
  {
   "cell_type": "markdown",
   "metadata": {},
   "source": [
    "### CS102/CS103\n",
    "\n",
    "Prof. Götz Pfeiffer<br />\n",
    "School of Mathematics, Statistics and Applied Mathematics<br />\n",
    "NUI Galway"
   ]
  },
  {
   "cell_type": "markdown",
   "metadata": {},
   "source": [
    "# Lecture 6: Statements"
   ]
  },
  {
   "cell_type": "markdown",
   "metadata": {
    "collapsed": true
   },
   "source": [
    "A `python` program is made up of literals, variables, keywords,\n",
    "expressions and other elements.  At the top level, a `python` program\n",
    "is a sequence of **statements**, that is step-by-step instructions\n",
    "the tell the `python` interpreter what to do.  \n",
    "There are several kinds of statements.\n",
    "Assignments, for example, are statements.\n",
    "And so are the output commands described as `print` statements.\n",
    "Function definitions are another kind of statement.\n",
    "And then there are statements whose purpose is to\n",
    "modify the flow of control through a list of statements ...\n",
    "We'll look at some simple examples here."
   ]
  },
  {
   "cell_type": "markdown",
   "metadata": {},
   "source": [
    "### Euclid's Algorithm Revisited"
   ]
  },
  {
   "cell_type": "markdown",
   "metadata": {},
   "source": [
    "Recall from last week:"
   ]
  },
  {
   "cell_type": "code",
   "execution_count": 1,
   "metadata": {},
   "outputs": [
    {
     "data": {
      "text/plain": [
       "1"
      ]
     },
     "execution_count": 1,
     "metadata": {},
     "output_type": "execute_result"
    }
   ],
   "source": [
    "def gcd(a, b):\n",
    "    if b == 0:\n",
    "        return a\n",
    "    return gcd(b, a % b)\n",
    "    \n",
    "gcd(352, 123)"
   ]
  },
  {
   "cell_type": "markdown",
   "metadata": {},
   "source": [
    "In order to get an idea of how the algorithm works,\n",
    "of how much work it actually does, let's have it print its\n",
    "arguments, every time it is called"
   ]
  },
  {
   "cell_type": "code",
   "execution_count": 2,
   "metadata": {},
   "outputs": [
    {
     "name": "stdout",
     "output_type": "stream",
     "text": [
      "gcd( 352 , 123 ) = \n",
      "gcd( 123 , 106 ) = \n",
      "gcd( 106 , 17 ) = \n",
      "gcd( 17 , 4 ) = \n",
      "gcd( 4 , 1 ) = \n",
      "gcd( 1 , 0 ) = \n"
     ]
    },
    {
     "data": {
      "text/plain": [
       "1"
      ]
     },
     "execution_count": 2,
     "metadata": {},
     "output_type": "execute_result"
    }
   ],
   "source": [
    "def gcd(a, b):\n",
    "    print(\"gcd(\", a, \",\", b, \") = \")  # <-- add a print statement\n",
    "    if b == 0:\n",
    "        return a\n",
    "    return gcd(b, a % b)\n",
    "    \n",
    "gcd(352, 123)"
   ]
  },
  {
   "cell_type": "code",
   "execution_count": 3,
   "metadata": {},
   "outputs": [
    {
     "name": "stdout",
     "output_type": "stream",
     "text": [
      "gcd( 723787828715804560415 , 748219355 ) = \n",
      "gcd( 748219355 , 5775360 ) = \n",
      "gcd( 5775360 , 3197915 ) = \n",
      "gcd( 3197915 , 2577445 ) = \n",
      "gcd( 2577445 , 620470 ) = \n",
      "gcd( 620470 , 95565 ) = \n",
      "gcd( 95565 , 47080 ) = \n",
      "gcd( 47080 , 1405 ) = \n",
      "gcd( 1405 , 715 ) = \n",
      "gcd( 715 , 690 ) = \n",
      "gcd( 690 , 25 ) = \n",
      "gcd( 25 , 15 ) = \n",
      "gcd( 15 , 10 ) = \n",
      "gcd( 10 , 5 ) = \n",
      "gcd( 5 , 0 ) = \n"
     ]
    },
    {
     "data": {
      "text/plain": [
       "5"
      ]
     },
     "execution_count": 3,
     "metadata": {},
     "output_type": "execute_result"
    }
   ],
   "source": [
    "gcd(723787828715804560415, 748219355)"
   ]
  },
  {
   "cell_type": "markdown",
   "metadata": {},
   "source": [
    "## Output statements"
   ]
  },
  {
   "cell_type": "markdown",
   "metadata": {},
   "source": [
    "We have already seen how `python`'s built-in `print()` function can be used\n",
    "to display information.  Calling `print()` on an expression\n",
    "makes an **output statement**, or a **print statement**.\n",
    "It is single line of `python` code, meant to print\n",
    "a textual representation of whatever expression is given\n",
    "inside the parenthesis."
   ]
  },
  {
   "cell_type": "code",
   "execution_count": 4,
   "metadata": {},
   "outputs": [
    {
     "name": "stdout",
     "output_type": "stream",
     "text": [
      "Hello World!\n"
     ]
    }
   ],
   "source": [
    "print(\"Hello \" + \"World!\")"
   ]
  },
  {
   "cell_type": "markdown",
   "metadata": {},
   "source": [
    "In fact, `print()` can take several arguments, or none at all."
   ]
  },
  {
   "cell_type": "code",
   "execution_count": 5,
   "metadata": {},
   "outputs": [
    {
     "name": "stdout",
     "output_type": "stream",
     "text": [
      "3 4 7\n",
      "\n",
      "Hello world!\n",
      "The answer is 42 .\n"
     ]
    }
   ],
   "source": [
    "print(3, 4, 7)\n",
    "print()\n",
    "print(\"Hello\", \"world!\")\n",
    "print(\"The answer is\", 42, \".\")"
   ]
  },
  {
   "cell_type": "markdown",
   "metadata": {},
   "source": [
    "Note how `print()` automatically puts a separating\n",
    "space between its arguments, and a newline\n",
    "at the end of every line.\n",
    "One can change the separator with an additional\n",
    "**keyword argument** `sep`, and the end-of-line\n",
    "behaviour with an a keyword argument `end`."
   ]
  },
  {
   "cell_type": "code",
   "execution_count": 6,
   "metadata": {},
   "outputs": [
    {
     "name": "stdout",
     "output_type": "stream",
     "text": [
      "3654\n",
      "3,6,5,4,2\n"
     ]
    }
   ],
   "source": [
    "print(3, 6, 5, 4, sep=\"\")\n",
    "print(3, 6, 5, 4, sep=\",\", end=\",\")\n",
    "print(2)"
   ]
  },
  {
   "cell_type": "markdown",
   "metadata": {},
   "source": [
    "##  Assignment Statements\n",
    "\n",
    "Assignments (of values to variables) are statements, on of the most\n",
    "important kinds of statements in a `python` program.\n",
    "\n",
    "A basic **assignment** statement has the form\n",
    "```\n",
    "   <variable> = <expr>\n",
    "```\n",
    "\n",
    "Here, `<variable>` is an identifier and `<expr>` is an expression.\n",
    "The **effect** (i.e., the meaning, or semantics) of this statement\n",
    "is that the expression is evaluated to produce a value\n",
    "which is then associated with the named variable on the left."
   ]
  },
  {
   "cell_type": "markdown",
   "metadata": {},
   "source": [
    "Note that, it would be **wrong** to describe variables in `python`\n",
    "as named memory locations, like boxes into which values are put.\n",
    "No. In `python`, the data values sit somewhere in memory, and variables are references to them.  Over time, the same variable\n",
    "may refer to different memory locations.  More on this later ..."
   ]
  },
  {
   "cell_type": "markdown",
   "metadata": {},
   "source": [
    "### Assigning input\n",
    "\n",
    "A special case of assignment uses the built-in `input()` function\n",
    "on the right hand side.  It has the form\n",
    "```\n",
    "  <variable> = input( <prompt> )\n",
    "```\n",
    "Here `<prompt>` is a string prompting the user for input.\n",
    "`python` prints out this string and then pauses until the user\n",
    "has typed in an answer, followed by `Enter`.\n",
    "Whatever the user has typed (a string)\n",
    "will then become the **value** of the `input()` **expression**,\n",
    "and associated with the variable."
   ]
  },
  {
   "cell_type": "code",
   "execution_count": 7,
   "metadata": {},
   "outputs": [
    {
     "name": "stdout",
     "output_type": "stream",
     "text": [
      "Your Name: Mary\n"
     ]
    }
   ],
   "source": [
    "name = input(\"Your Name: \")"
   ]
  },
  {
   "cell_type": "code",
   "execution_count": 8,
   "metadata": {},
   "outputs": [
    {
     "data": {
      "text/plain": [
       "'Mary'"
      ]
     },
     "execution_count": 8,
     "metadata": {},
     "output_type": "execute_result"
    }
   ],
   "source": [
    "name"
   ]
  },
  {
   "cell_type": "markdown",
   "metadata": {},
   "source": [
    "When the input is expected to be a number, it is convenient to convert the string value of the `input()` expression with the\n",
    "built-in function `eval()`."
   ]
  },
  {
   "cell_type": "code",
   "execution_count": 9,
   "metadata": {},
   "outputs": [
    {
     "name": "stdout",
     "output_type": "stream",
     "text": [
      "Your Age: 21\n"
     ]
    }
   ],
   "source": [
    "age = eval(input(\"Your Age: \"))"
   ]
  },
  {
   "cell_type": "code",
   "execution_count": 10,
   "metadata": {},
   "outputs": [
    {
     "data": {
      "text/plain": [
       "21"
      ]
     },
     "execution_count": 10,
     "metadata": {},
     "output_type": "execute_result"
    }
   ],
   "source": [
    "age"
   ]
  },
  {
   "cell_type": "markdown",
   "metadata": {},
   "source": [
    "In fact, `eval` is short for 'evaluate', and the `eval()` function\n",
    "takes its argument of type string, and evaluates it as a `python`\n",
    "expression."
   ]
  },
  {
   "cell_type": "code",
   "execution_count": 11,
   "metadata": {},
   "outputs": [
    {
     "data": {
      "text/plain": [
       "20"
      ]
     },
     "execution_count": 11,
     "metadata": {},
     "output_type": "execute_result"
    }
   ],
   "source": [
    "eval(\"17 + 3\")"
   ]
  },
  {
   "cell_type": "code",
   "execution_count": 12,
   "metadata": {},
   "outputs": [
    {
     "data": {
      "text/plain": [
       "'Hello World!'"
      ]
     },
     "execution_count": 12,
     "metadata": {},
     "output_type": "execute_result"
    }
   ],
   "source": [
    "eval(\"'Hello ' + 'World!'\")"
   ]
  },
  {
   "cell_type": "markdown",
   "metadata": {},
   "source": [
    "### Simultaneous Assignment\n",
    "\n",
    "`python` allows us to assign several values in one go:\n",
    "```\n",
    "<var_1>, <var_2>, ..., <var_n> = <expr_1>, <expr_2>, ..., <expr_n>\n",
    "```"
   ]
  },
  {
   "cell_type": "code",
   "execution_count": 13,
   "metadata": {},
   "outputs": [
    {
     "name": "stdout",
     "output_type": "stream",
     "text": [
      "q = 3 r = 17\n"
     ]
    }
   ],
   "source": [
    "q, r = divmod(128, 37)\n",
    "print(\"q =\", q, \"r =\", r)"
   ]
  },
  {
   "cell_type": "code",
   "execution_count": 14,
   "metadata": {},
   "outputs": [
    {
     "name": "stdout",
     "output_type": "stream",
     "text": [
      "x = 17 y = 3\n",
      "x = 3 y = 17\n"
     ]
    }
   ],
   "source": [
    "x = 17\n",
    "y = 3\n",
    "print(\"x =\", x, \"y =\", y)\n",
    "x, y = y, x\n",
    "print(\"x =\", x, \"y =\", y)"
   ]
  },
  {
   "cell_type": "markdown",
   "metadata": {},
   "source": [
    "Here is a simple program that computes the average of two\n",
    "exam scores, using simultaneous assignment of input values."
   ]
  },
  {
   "cell_type": "code",
   "execution_count": 15,
   "metadata": {
    "scrolled": true
   },
   "outputs": [
    {
     "name": "stdout",
     "output_type": "stream",
     "text": [
      "This program computes the average of two exam scores.\n",
      "Enter two scores, separated by comma: 96, 99\n",
      "The average score is: 97.5\n"
     ]
    }
   ],
   "source": [
    "# a simple program to compute the average of two exam scores.\n",
    "print(\"This program computes the average of two exam scores.\")\n",
    "score1, score2 = eval(input(\"Enter two scores, separated by comma: \"))\n",
    "average = (score1 + score2)/2.0\n",
    "print(\"The average score is:\", average)"
   ]
  },
  {
   "cell_type": "markdown",
   "metadata": {},
   "source": [
    "## Definite Loops\n",
    "\n",
    "In programming, loops are used to execute the same set of\n",
    "statements a number of times.  The **definite loop** is the \n",
    "simplest kind of loop. It will execute a given set of statements\n",
    "a definite number of times.   We have seen an example of\n",
    "a definite loop in the `chaos` program:\n",
    "```python\n",
    "for i in range(10):\n",
    "    x = 3.9 * x * (x - 1)\n",
    "    print(x)\n",
    "```\n",
    "This loop is one statement, consisting of a loop heading\n",
    "(`for ...:`) and a list of (two) statements, indented by\n",
    "the same number of spaces (4) under that heading.\n",
    "A loop is a kind of **compound statement**. It is a\n",
    "statement that consists of a **heading** and a **block** of\n",
    "statements.  The general form of a `for` loop in `python` is:\n",
    "```\n",
    "for <var> in <sequence>:\n",
    "    <body>\n",
    "```\n",
    "The body of a loop can be any sequence of `python` statements."
   ]
  },
  {
   "cell_type": "markdown",
   "metadata": {},
   "source": [
    "The variable between the **keywords** `for` and `in` is called the\n",
    "**loop index**.  It takes as its value each element in the `<sequence>`, and the statements in the `<block>` are executed\n",
    "once for each value.  For example, `range(5)` is an expression\n",
    "that represents the sequence of (five) integers from $0$ to $4$."
   ]
  },
  {
   "cell_type": "code",
   "execution_count": 16,
   "metadata": {},
   "outputs": [
    {
     "name": "stdout",
     "output_type": "stream",
     "text": [
      "0\n",
      "1\n",
      "2\n",
      "3\n",
      "4\n"
     ]
    }
   ],
   "source": [
    "for a in range(5):\n",
    "    print(a)"
   ]
  },
  {
   "cell_type": "markdown",
   "metadata": {},
   "source": [
    "## Function Definitions"
   ]
  },
  {
   "cell_type": "markdown",
   "metadata": {},
   "source": [
    "A **function definition** is statement, consisting of a heading\n",
    "that starts with the **keyword** `def`, and a **body** that is\n",
    "a list of statements:\n",
    "```\n",
    "def <name>(<parameters>):\n",
    "    <body>\n",
    "```\n",
    "We'll see more details of functions, their attributes\n",
    "and what can be done with them later."
   ]
  },
  {
   "cell_type": "markdown",
   "metadata": {},
   "source": [
    "##  A `python` Program is a Sequence of Statements"
   ]
  },
  {
   "cell_type": "markdown",
   "metadata": {},
   "source": [
    "Any `python` program is a sequence of statements.  Here is last week's temperature converter again, as an unnamed, disposable\n",
    "sequence of statements."
   ]
  },
  {
   "cell_type": "code",
   "execution_count": 17,
   "metadata": {},
   "outputs": [
    {
     "name": "stdout",
     "output_type": "stream",
     "text": [
      "This program converts Fahrenheit into Celsius temperatures.\n",
      "Temperature in Fahrenheit: 77\n",
      "The temperature is 25.0 degrees Celsius.\n"
     ]
    }
   ],
   "source": [
    "# A program to convert Fahrenheit into Celsius temperatures.\n",
    "print(\"This program converts Fahrenheit into Celsius temperatures.\")\n",
    "fahrenheit = eval(input(\"Temperature in Fahrenheit: \"))\n",
    "celsius = 5/9 * (fahrenheit - 32)\n",
    "print(\"The temperature is\", celsius, \"degrees Celsius.\")"
   ]
  },
  {
   "cell_type": "markdown",
   "metadata": {},
   "source": [
    "We'll build a few more programs like this, short sequences of\n",
    "simple statements, in next week's practical.  They will all follow\n",
    "the **IPO pattern**:\n",
    "\n",
    "I: get **input** from the user,\n",
    "\n",
    "P: **process** the input by, e.g., applying a formula,\n",
    "\n",
    "O: **output** the result of the processing."
   ]
  },
  {
   "cell_type": "markdown",
   "metadata": {},
   "source": [
    "## Summary: Statements"
   ]
  },
  {
   "cell_type": "markdown",
   "metadata": {},
   "source": [
    "* A **statement** is a single command given in the `python` language.\n",
    "\n",
    "* A `python` program is a sequence of commands, which are \n",
    "usually executed one by one.\n",
    "\n",
    "* There are different kinds of statements.\n",
    "\n",
    "* **Output statements** use the `print()` function to display information.\n",
    "\n",
    "* **Assignment statements** assign values to\n",
    "one or many variables at the same time.\n",
    "\n",
    "* **Definite Loops** are compound statements, starting with the keyword `for`, executing a **body** of statements a definite number of times.\n",
    "\n",
    "* **Function definitions** are compound statements, consisting\n",
    "of a heading and a body of statements.\n",
    "\n",
    "* A **simple statement** is a single line of program code.\n",
    "\n",
    "* A **compound statement** contains other statements and usually\n",
    "spreads over several lines of code.\n",
    "\n",
    "* When a program is executed, the machine executes one statement\n",
    "at a time, from the top to the bottom of the code.\n",
    "\n",
    "* This is called the **sequential flow** of program execution.\n",
    "\n",
    "* Useful programs often follow the **IPO pattern**: Input, Processing, Output."
   ]
  },
  {
   "cell_type": "code",
   "execution_count": null,
   "metadata": {
    "collapsed": true
   },
   "outputs": [],
   "source": []
  }
 ],
 "metadata": {
  "kernelspec": {
   "display_name": "Python 3",
   "language": "python",
   "name": "python3"
  },
  "language_info": {
   "codemirror_mode": {
    "name": "ipython",
    "version": 3
   },
   "file_extension": ".py",
   "mimetype": "text/x-python",
   "name": "python",
   "nbconvert_exporter": "python",
   "pygments_lexer": "ipython3",
   "version": "3.6.1"
  }
 },
 "nbformat": 4,
 "nbformat_minor": 2
}
