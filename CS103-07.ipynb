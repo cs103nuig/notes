{
 "cells": [
  {
   "cell_type": "markdown",
   "metadata": {},
   "source": [
    "### CS102/CS103\n",
    "\n",
    "Prof. Götz Pfeiffer<br />\n",
    "School of Mathematics, Statistics and Applied Mathematics<br />\n",
    "NUI Galway"
   ]
  },
  {
   "cell_type": "markdown",
   "metadata": {},
   "source": [
    "# Lecture 7: Functions"
   ]
  },
  {
   "cell_type": "markdown",
   "metadata": {},
   "source": [
    "Functions are used to wrap up well-defined pieces\n",
    "of functionality into re-usable boxes.  Functions have names by which they can be called.\n",
    "And functions provide natural places for the I, P and O parts\n",
    "of a typical program.  We have already used functions\n",
    "like `print()`, `input()` and `math.sqrt()`.  Here we will discuss\n",
    "how to define your own functions, as in the examples of the\n",
    "`chaos()` and `convert()` functions from previous lectures."
   ]
  },
  {
   "cell_type": "markdown",
   "metadata": {},
   "source": [
    "## `jupyter` worksheets"
   ]
  },
  {
   "cell_type": "markdown",
   "metadata": {},
   "source": [
    "Before that, a few words on the Computer Labs.\n",
    "\n",
    "1. If anything is unclear, let us (me or the demonstrators) know.\n",
    "\n",
    "2. Be patient with the software.\n",
    "https://try.jupyter.org is back online.\n",
    "If you can, complete this week's assignment before Friday, 5pm.\n",
    "If you can not: let me know before Friday.\n",
    "And we are working on a more stable local solution.  \n",
    "\n",
    "2. Or download your own copy of the `jupyter` software\n",
    "as part of the `anaconda` distribution at\n",
    "https://www.anaconda.com/download/ (available for `linux`, `macos` and\n",
    "`windows`).\n",
    "\n",
    "3. When submitting your completed notebook, selecting\n",
    "`Kernel > Restart & Run All` will execute all `python` cells \n",
    "in the notebook and that should not produce any errors.\n",
    "\n",
    "4. Finally, make sure to submit the notebook (`*.ipynb`)\n",
    "version, not a `pdf` or `html` file."
   ]
  },
  {
   "cell_type": "markdown",
   "metadata": {},
   "source": [
    "##  A Function Example"
   ]
  },
  {
   "cell_type": "markdown",
   "metadata": {},
   "source": [
    "Suppose that you are given a random DNA sequence (as a `python` string),\n",
    "and you want to determine its AT content, that is\n",
    "the proportion of letters `A` and `T` in the given sequence."
   ]
  },
  {
   "cell_type": "markdown",
   "metadata": {},
   "source": [
    "A brief **analysis** of the problem suggest that,\n",
    "if you know the length $l$ of the DNA string,\n",
    "the number $a$ of letters `A` in the string\n",
    "and the number $t$ of letters `T` in the string,\n",
    "the formula\n",
    "$$c = \\frac{a + t}{l}$$\n",
    "yields the desired answer."
   ]
  },
  {
   "cell_type": "markdown",
   "metadata": {},
   "source": [
    "A program that\n",
    "solves the problem of determining the AT content of a given\n",
    "DNA sequence would have as its **specification**\n",
    "a DNA sequence as its **input** and the AT content of that \n",
    "sequence as its **output**."
   ]
  },
  {
   "cell_type": "markdown",
   "metadata": {},
   "source": [
    "You might remember (or have researched this on the internet)\n",
    "that the function `len()` can determine the length of a string,\n",
    "and that the method `count()` can be applied to determine the\n",
    "number of occurrences of a letter in a string."
   ]
  },
  {
   "cell_type": "markdown",
   "metadata": {},
   "source": [
    "This then suggests the following design of a program that\n",
    "solves the problem of determining the AT content of a given\n",
    "DNA sequence.\n",
    "\n",
    "1. **Input** the DNA sequence as string, call it `dna`.\n",
    "\n",
    "2. Use `len()` and `count()` in an **expression**\n",
    "that computes the AT content, which is then **assigned**\n",
    "to a variable called `at`.\n",
    "\n",
    "3. **Output** the value of `at`"
   ]
  },
  {
   "cell_type": "markdown",
   "metadata": {},
   "source": [
    "In the **minimal IPO format** from this week's practical, an **implementation** of this design looks as follows:"
   ]
  },
  {
   "cell_type": "code",
   "execution_count": 1,
   "metadata": {},
   "outputs": [
    {
     "data": {
      "text/plain": [
       "0.3888888888888889"
      ]
     },
     "execution_count": 1,
     "metadata": {},
     "output_type": "execute_result"
    }
   ],
   "source": [
    "# this program determines the AT content of a DNA sequence.\n",
    "dna = 'TAGTADDAAGDDAGTAGTTGADGDGTDGDADGGDGD'      # (I)nput\n",
    "at = (dna.count('A') + dna.count('T')) / len(dna) # (P)rocess\n",
    "at                                                # (O)utput"
   ]
  },
  {
   "cell_type": "markdown",
   "metadata": {},
   "source": [
    "Chances are that if you have done this once, there are AT contents of other\n",
    "DNA sequences waiting to be determined.  To process another one,\n",
    "you can go back to the cell above and replace its\n",
    "`dna` string with a new one.  Here, for better readability,\n",
    "we use a copy of that cell, with a different value for `dna`.\n",
    "The rest remains the same."
   ]
  },
  {
   "cell_type": "code",
   "execution_count": 2,
   "metadata": {},
   "outputs": [
    {
     "data": {
      "text/plain": [
       "0.4444444444444444"
      ]
     },
     "execution_count": 2,
     "metadata": {},
     "output_type": "execute_result"
    }
   ],
   "source": [
    "# this program determines the AT content of a DNA sequence.\n",
    "dna = 'TDTGGTDDTTDDATAGGDDATTGAADTDGGDGTADG'      # (I)nput\n",
    "at = (dna.count('A') + dna.count('T')) / len(dna) # (P)rocess\n",
    "at                                                # (O)utput"
   ]
  },
  {
   "cell_type": "markdown",
   "metadata": {},
   "source": [
    "## From IPO to Functions"
   ]
  },
  {
   "cell_type": "markdown",
   "metadata": {},
   "source": [
    "Functions are a powerful tool for structuring programs. \n",
    "For starters a function provides dedicated spaces for the\n",
    "I, P, O and other parts of a program.  The function version \n",
    "of the AT content calculation,  called `at_content`, say,\n",
    "looks as follows."
   ]
  },
  {
   "cell_type": "code",
   "execution_count": 3,
   "metadata": {},
   "outputs": [
    {
     "data": {
      "text/plain": [
       "0.3888888888888889"
      ]
     },
     "execution_count": 3,
     "metadata": {},
     "output_type": "execute_result"
    }
   ],
   "source": [
    "def at_content(dna):\n",
    "    \"this function computes the AT content of a DNA sequence\"\n",
    "    at = (dna.count('A') + dna.count('T')) / len(dna)\n",
    "    return at\n",
    "\n",
    "at_content('TAGTADDAAGDDAGTAGTTGADGDGTDGDADGGDGD')"
   ]
  },
  {
   "cell_type": "markdown",
   "metadata": {},
   "source": [
    "This cell contains **two statements**: a **function definition**\n",
    "and a **function call**.  We focus on the function definition.  Its\n",
    "general form is\n",
    "```\n",
    "def <name>(<parameters>):\n",
    "    <body>\n",
    "```\n",
    "and consists of a **heading**, from the keyword `def` to the colon (`:`),\n",
    "and a **body**, which is a sequence of statements."
   ]
  },
  {
   "cell_type": "markdown",
   "metadata": {},
   "source": [
    "### (I)nput\n",
    "\n",
    "Our function heading\n",
    "```python\n",
    "def at_content(dna):\n",
    "```\n",
    "assigns the **name** `at_content`\n",
    "to the function to be defined.\n",
    "\n",
    "I also declares an **input parameter** `dna`,\n",
    "to be used in the program with whatever\n",
    "value is given to the function call."
   ]
  },
  {
   "cell_type": "markdown",
   "metadata": {},
   "source": [
    "### (P)rocess\n",
    "\n",
    "The Processing part of the program is literally the \n",
    "same as in the previous version:\n",
    "```python\n",
    "    at = (dna.count('A') + dna.count('T')) / len(dna)\n",
    "```\n",
    "just that,\n",
    "as part of the function body, it is **indented**\n",
    "by (4) spaces."
   ]
  },
  {
   "cell_type": "markdown",
   "metadata": {},
   "source": [
    "### (O)utput\n",
    "\n",
    "The last statement in the function body\n",
    "```\n",
    "    return at\n",
    "```\n",
    "is a **return statement**.  \n",
    "The value returned here will then become the value\n",
    "of the **function call expression**\n",
    "```\n",
    "at_content('TAGTADDAAGDDAGTAGTTGADGDGTDGDADGGDGD')\n",
    "```"
   ]
  },
  {
   "cell_type": "markdown",
   "metadata": {},
   "source": [
    "### Documenting\n",
    "\n",
    "The function even provides a space to \n",
    "document its purpose.  This is a co-called\n",
    "**doc-string**,\n",
    "and it appears as the first statement of the function body.\n",
    "This documentation can be accessed with the built-in `help()` function:"
   ]
  },
  {
   "cell_type": "code",
   "execution_count": 4,
   "metadata": {},
   "outputs": [
    {
     "name": "stdout",
     "output_type": "stream",
     "text": [
      "Help on function at_content in module __main__:\n",
      "\n",
      "at_content(dna)\n",
      "    this function computes the AT content of a DNA sequence\n",
      "\n"
     ]
    }
   ],
   "source": [
    "help(at_content)"
   ]
  },
  {
   "cell_type": "markdown",
   "metadata": {},
   "source": [
    "To find the AT content of another DNA string, you simply call the \n",
    "function again, with the new DNA string as **argument**."
   ]
  },
  {
   "cell_type": "code",
   "execution_count": 5,
   "metadata": {},
   "outputs": [
    {
     "data": {
      "text/plain": [
       "0.4444444444444444"
      ]
     },
     "execution_count": 5,
     "metadata": {},
     "output_type": "execute_result"
    }
   ],
   "source": [
    "at_content('TDTGGTDDTTDDATAGGDDATTGAADTDGGDGTADG')"
   ]
  },
  {
   "cell_type": "markdown",
   "metadata": {},
   "source": [
    "The function call captures the **input** as arguments inside\n",
    "the parentheses, refers to the named function \n",
    "for the **processing** if the input data, and\n",
    "then receives as its value the **output** of the function body."
   ]
  },
  {
   "cell_type": "markdown",
   "metadata": {},
   "source": [
    "## Another Example."
   ]
  },
  {
   "cell_type": "markdown",
   "metadata": {},
   "source": [
    "The program that computes the average of two exam scores,\n",
    "in minimal IPO format:"
   ]
  },
  {
   "cell_type": "code",
   "execution_count": 6,
   "metadata": {},
   "outputs": [
    {
     "data": {
      "text/plain": [
       "97.5"
      ]
     },
     "execution_count": 6,
     "metadata": {},
     "output_type": "execute_result"
    }
   ],
   "source": [
    "# this program computes the average of two exam scores.\n",
    "score1, score2 = 99, 96\n",
    "average = (score1 + score2) / 2\n",
    "average"
   ]
  },
  {
   "cell_type": "markdown",
   "metadata": {},
   "source": [
    "This becomes the follwing **function**, illustrating how\n",
    "a function can have **more than one input parameter**."
   ]
  },
  {
   "cell_type": "code",
   "execution_count": 7,
   "metadata": {},
   "outputs": [
    {
     "data": {
      "text/plain": [
       "97.5"
      ]
     },
     "execution_count": 7,
     "metadata": {},
     "output_type": "execute_result"
    }
   ],
   "source": [
    "def average2(score1, score2):\n",
    "    \"This function computes the average of tow exam scores\"\n",
    "    average = (score1 + score2) / 2\n",
    "    return average\n",
    "\n",
    "average2(99, 96)"
   ]
  },
  {
   "cell_type": "code",
   "execution_count": 8,
   "metadata": {},
   "outputs": [
    {
     "data": {
      "text/plain": [
       "23.5"
      ]
     },
     "execution_count": 8,
     "metadata": {},
     "output_type": "execute_result"
    }
   ],
   "source": [
    "average2(12, 35)"
   ]
  },
  {
   "cell_type": "code",
   "execution_count": 9,
   "metadata": {},
   "outputs": [
    {
     "name": "stdout",
     "output_type": "stream",
     "text": [
      "Help on function average2 in module __main__:\n",
      "\n",
      "average2(score1, score2)\n",
      "    This function computes the average of tow exam scores\n",
      "\n"
     ]
    }
   ],
   "source": [
    "help(average2)"
   ]
  },
  {
   "cell_type": "markdown",
   "metadata": {},
   "source": [
    "## Summary: Functions\n",
    "\n",
    "* A `python` program can (and usually does) contain **many functions**.\n",
    "\n",
    "* A function can be considered a **subprogram** - a small program inside a larger one.\n",
    "\n",
    "* Once defined, a function can be **invoked** (or called) later,\n",
    "possibly many times.\n",
    "\n",
    "* Functions provide **structure** in a program, making it easier\n",
    "to write, read, understand, and debug.\n",
    "\n",
    "* Functions can make a large program smaller, by reducing\n",
    "the amount of repetition.\n",
    "\n",
    "* Functions appear in **two different roles**:\n",
    "as function definition, and as a function call.\n",
    "\n",
    "* A **function definition** is a **statement** that\n",
    "names and defines the parts of a **new** function.\n",
    "\n",
    "* A **function call** is an **expression**\n",
    "that causes (the statements in the body of) a **known** function\n",
    "to be executed.\n",
    "\n",
    "* A function call takes **arguments** as input\n",
    "for the named **parameters** which form part of the\n",
    "function definition.\n",
    "\n",
    "* The **function body** processes the input data\n",
    "and uses the parameter names to refer to them.\n",
    "\n",
    "* A **return statement** in the function body\n",
    "outputs the **value** of the function call expression."
   ]
  },
  {
   "cell_type": "code",
   "execution_count": null,
   "metadata": {
    "collapsed": true
   },
   "outputs": [],
   "source": []
  }
 ],
 "metadata": {
  "kernelspec": {
   "display_name": "Python 3",
   "language": "python",
   "name": "python3"
  },
  "language_info": {
   "codemirror_mode": {
    "name": "ipython",
    "version": 3
   },
   "file_extension": ".py",
   "mimetype": "text/x-python",
   "name": "python",
   "nbconvert_exporter": "python",
   "pygments_lexer": "ipython3",
   "version": "3.6.1"
  }
 },
 "nbformat": 4,
 "nbformat_minor": 2
}
