{
 "cells": [
  {
   "cell_type": "markdown",
   "metadata": {},
   "source": [
    "### CS102/CS103\n",
    "\n",
    "Prof. Götz Pfeiffer<br />\n",
    "School of Mathematics, Statistics and Applied Mathematics<br />\n",
    "NUI Galway"
   ]
  },
  {
   "cell_type": "markdown",
   "metadata": {},
   "source": [
    "# Lecture 10: More on Loops"
   ]
  },
  {
   "cell_type": "markdown",
   "metadata": {},
   "source": [
    "A definite loop loops over the elements of a list\n",
    "and finishes with the last item in the list.\n",
    "An **indefinite loop** uses a **condition** to decide\n",
    "whether to finish or not.  In general, there is no\n",
    "guarantee that an indefinite loop will ever come to\n",
    "an end.  In many cases, though, a logical argument\n",
    "can show that a certain indefinite loop will terminate.\n",
    "We will discuss indefinite loops and their applications.\n",
    "We will see how a definite loop (i.e., a `for` loop)\n",
    "can be regarded as a special case of\n",
    "indefinite loop.  "
   ]
  },
  {
   "cell_type": "markdown",
   "metadata": {},
   "source": [
    "Before that, some more words on decision structures."
   ]
  },
  {
   "cell_type": "markdown",
   "metadata": {},
   "source": [
    "##  Multiway Decisions: `if`-`elif`-`else`"
   ]
  },
  {
   "cell_type": "markdown",
   "metadata": {},
   "source": [
    "An `if`-`elif`-`else` statement has the general form\n",
    "```\n",
    "if <condition_1>:\n",
    "    <body_1>\n",
    "elif <condition_2>:\n",
    "    <body_2>\n",
    "...\n",
    "elif <condition_n>:\n",
    "    <body_n>\n",
    "else:\n",
    "    <body_0>\n",
    "```"
   ]
  },
  {
   "cell_type": "markdown",
   "metadata": {},
   "source": [
    "## Example"
   ]
  },
  {
   "cell_type": "code",
   "execution_count": 1,
   "metadata": {
    "collapsed": true
   },
   "outputs": [],
   "source": [
    "from math import sqrt\n",
    "\n",
    "def quadratic_roots3(a, b, c):\n",
    "    \"compute the (real) roots of a x^2 + b x + c\"\n",
    "    discriminant = b*b - 4*a*c\n",
    "    if a == 0:\n",
    "        print(\"error: input is not a quadratic\")\n",
    "    elif discriminant < 0:\n",
    "        return []\n",
    "    elif discriminant == 0:\n",
    "        return [-b/2/a]\n",
    "    else:\n",
    "        root = sqrt(discriminant)\n",
    "#        x1, x2 = (-b + root)/2/a, (-b - root)/2/a\n",
    "#        return x1, x2\n",
    "        return [(-b + sign*root)/2/a for sign in [+1, -1]]"
   ]
  },
  {
   "cell_type": "code",
   "execution_count": 2,
   "metadata": {},
   "outputs": [
    {
     "data": {
      "text/plain": [
       "[]"
      ]
     },
     "execution_count": 2,
     "metadata": {},
     "output_type": "execute_result"
    }
   ],
   "source": [
    "quadratic_roots3(1,1,6)"
   ]
  },
  {
   "cell_type": "code",
   "execution_count": 3,
   "metadata": {},
   "outputs": [
    {
     "name": "stdout",
     "output_type": "stream",
     "text": [
      "error: input is not a quadratic\n"
     ]
    }
   ],
   "source": [
    "quadratic_roots3(0,1,6)"
   ]
  },
  {
   "cell_type": "code",
   "execution_count": 4,
   "metadata": {},
   "outputs": [
    {
     "data": {
      "text/plain": [
       "[2.0, -3.0]"
      ]
     },
     "execution_count": 4,
     "metadata": {},
     "output_type": "execute_result"
    }
   ],
   "source": [
    "quadratic_roots3(1,1,-6)"
   ]
  },
  {
   "cell_type": "code",
   "execution_count": 5,
   "metadata": {},
   "outputs": [
    {
     "data": {
      "text/plain": [
       "[3.0]"
      ]
     },
     "execution_count": 5,
     "metadata": {},
     "output_type": "execute_result"
    }
   ],
   "source": [
    "quadratic_roots3(1, -6, 9)"
   ]
  },
  {
   "cell_type": "code",
   "execution_count": 6,
   "metadata": {},
   "outputs": [
    {
     "data": {
      "text/plain": [
       "[0, 1, 4, 9, 16, 25, 36, 49, 64, 81]"
      ]
     },
     "execution_count": 6,
     "metadata": {},
     "output_type": "execute_result"
    }
   ],
   "source": [
    "[x*x for x in range(10)]"
   ]
  },
  {
   "cell_type": "markdown",
   "metadata": {},
   "source": [
    "## Indefinite Loops"
   ]
  },
  {
   "cell_type": "markdown",
   "metadata": {
    "collapsed": true
   },
   "source": [
    "An **indefinite** (or **conditional**) loop keeps looping until\n",
    "a certain condition is met.  In `python`, an indefinite loop is implemented as a\n",
    "`while` statement, which has the following general form:\n",
    "```\n",
    "while <condition>:\n",
    "    <body>\n",
    "```\n",
    "Here, `<condition>` is an expression that evaluates to either `True` or `False`.\n",
    "\n",
    "When a `while` statement is executed, first the `<condition>` is evaluated.\n",
    "If its value is `False` the `<body>` is skipped, and control passes to after\n",
    "the `while` statement.  It the value is `True`, the `<body>` of statements is\n",
    "executed.   Then the `<condition>` is evaluated again ... This process is\n",
    "repeated over and over, until at some point the `<condition>` becomes `False`."
   ]
  },
  {
   "cell_type": "markdown",
   "metadata": {},
   "source": [
    "### Example: Countdown"
   ]
  },
  {
   "cell_type": "code",
   "execution_count": 7,
   "metadata": {
    "collapsed": true
   },
   "outputs": [],
   "source": [
    "from time import sleep\n",
    "\n",
    "def countdown(count):\n",
    "    while count > 0:\n",
    "        print(count)\n",
    "        sleep(1)\n",
    "        count = count - 1\n",
    "    print(\"0: liftoff!\")\n",
    "        \n",
    "        "
   ]
  },
  {
   "cell_type": "code",
   "execution_count": 8,
   "metadata": {},
   "outputs": [
    {
     "name": "stdout",
     "output_type": "stream",
     "text": [
      "10\n",
      "9\n",
      "8\n",
      "7\n",
      "6\n",
      "5\n",
      "4\n",
      "3\n",
      "2\n",
      "1\n",
      "0: liftoff!\n"
     ]
    }
   ],
   "source": [
    "countdown(10)"
   ]
  },
  {
   "cell_type": "markdown",
   "metadata": {},
   "source": [
    "### Ten Green Bottles"
   ]
  },
  {
   "cell_type": "markdown",
   "metadata": {},
   "source": [
    "A popular children's [song](http://www.standingstones.com/greenbot.html)."
   ]
  },
  {
   "cell_type": "code",
   "execution_count": 9,
   "metadata": {},
   "outputs": [
    {
     "name": "stdout",
     "output_type": "stream",
     "text": [
      "10 green bottles hanging on the wall\n",
      "10 green bottles hanging on the wall\n",
      "And if one green bottle should accidentally fall\n",
      "There'll be 9 green bottles hanging on the wall\n"
     ]
    }
   ],
   "source": [
    "print(\"10 green bottles hanging on the wall\")\n",
    "print(\"10 green bottles hanging on the wall\")\n",
    "print(\"And if one green bottle should accidentally fall\")\n",
    "print(\"There'll be 9 green bottles hanging on the wall\")"
   ]
  },
  {
   "cell_type": "markdown",
   "metadata": {},
   "source": [
    "From here, count down to **no** green bottles remaining. Like so:"
   ]
  },
  {
   "cell_type": "code",
   "execution_count": 10,
   "metadata": {
    "collapsed": true
   },
   "outputs": [],
   "source": [
    "def bottles(count):\n",
    "    while count > 0:\n",
    "        print(\"{} green bottles hanging on the wall\".format(count))\n",
    "        print(\"{} green bottles hanging on the wall\".format(count))\n",
    "        print(\"And if one green bottle should accidentally fall\")\n",
    "        count = count - 1\n",
    "        print(\"There'll be {} green bottles hanging on the wall\".format(count))\n",
    "        print()\n",
    "        sleep(1)"
   ]
  },
  {
   "cell_type": "code",
   "execution_count": 11,
   "metadata": {
    "scrolled": true
   },
   "outputs": [
    {
     "name": "stdout",
     "output_type": "stream",
     "text": [
      "10 green bottles hanging on the wall\n",
      "10 green bottles hanging on the wall\n",
      "And if one green bottle should accidentally fall\n",
      "There'll be 9 green bottles hanging on the wall\n",
      "\n",
      "9 green bottles hanging on the wall\n",
      "9 green bottles hanging on the wall\n",
      "And if one green bottle should accidentally fall\n",
      "There'll be 8 green bottles hanging on the wall\n",
      "\n",
      "8 green bottles hanging on the wall\n",
      "8 green bottles hanging on the wall\n",
      "And if one green bottle should accidentally fall\n",
      "There'll be 7 green bottles hanging on the wall\n",
      "\n",
      "7 green bottles hanging on the wall\n",
      "7 green bottles hanging on the wall\n",
      "And if one green bottle should accidentally fall\n",
      "There'll be 6 green bottles hanging on the wall\n",
      "\n",
      "6 green bottles hanging on the wall\n",
      "6 green bottles hanging on the wall\n",
      "And if one green bottle should accidentally fall\n",
      "There'll be 5 green bottles hanging on the wall\n",
      "\n",
      "5 green bottles hanging on the wall\n",
      "5 green bottles hanging on the wall\n",
      "And if one green bottle should accidentally fall\n",
      "There'll be 4 green bottles hanging on the wall\n",
      "\n",
      "4 green bottles hanging on the wall\n",
      "4 green bottles hanging on the wall\n",
      "And if one green bottle should accidentally fall\n",
      "There'll be 3 green bottles hanging on the wall\n",
      "\n",
      "3 green bottles hanging on the wall\n",
      "3 green bottles hanging on the wall\n",
      "And if one green bottle should accidentally fall\n",
      "There'll be 2 green bottles hanging on the wall\n",
      "\n",
      "2 green bottles hanging on the wall\n",
      "2 green bottles hanging on the wall\n",
      "And if one green bottle should accidentally fall\n",
      "There'll be 1 green bottles hanging on the wall\n",
      "\n",
      "1 green bottles hanging on the wall\n",
      "1 green bottles hanging on the wall\n",
      "And if one green bottle should accidentally fall\n",
      "There'll be 0 green bottles hanging on the wall\n",
      "\n"
     ]
    }
   ],
   "source": [
    "bottles(10)"
   ]
  },
  {
   "cell_type": "markdown",
   "metadata": {},
   "source": [
    "Possible improvements:\n",
    "\n",
    "* avoid repetition!\n",
    "\n",
    "* arrange for the correct plural!\n",
    "\n",
    "* $0$ isn't pronounced as 'no'"
   ]
  },
  {
   "cell_type": "code",
   "execution_count": 12,
   "metadata": {
    "collapsed": true
   },
   "outputs": [],
   "source": [
    "def bottles(count):\n",
    "    text = \"{} green bottle{} hanging on the wall\"\n",
    "    fall = \"And if one green bottle should accidentally fall\"\n",
    "    s = \"s\"\n",
    "    while count != \"no\":\n",
    "        for i in range(2):\n",
    "            print(text.format(count, s))\n",
    "        print(fall)\n",
    "        count = count - 1\n",
    "        if count == 1:\n",
    "            s = \"\"\n",
    "        elif count == 0:\n",
    "            count = \"no\"\n",
    "        print(\"There'll be\", text.format(count, s))\n",
    "        print()\n",
    "        sleep(1)"
   ]
  },
  {
   "cell_type": "code",
   "execution_count": 13,
   "metadata": {},
   "outputs": [
    {
     "name": "stdout",
     "output_type": "stream",
     "text": [
      "3 green bottles hanging on the wall\n",
      "3 green bottles hanging on the wall\n",
      "And if one green bottle should accidentally fall\n",
      "There'll be 2 green bottles hanging on the wall\n",
      "\n",
      "2 green bottles hanging on the wall\n",
      "2 green bottles hanging on the wall\n",
      "And if one green bottle should accidentally fall\n",
      "There'll be 1 green bottle hanging on the wall\n",
      "\n",
      "1 green bottle hanging on the wall\n",
      "1 green bottle hanging on the wall\n",
      "And if one green bottle should accidentally fall\n",
      "There'll be no green bottle hanging on the wall\n",
      "\n"
     ]
    }
   ],
   "source": [
    "bottles(3)"
   ]
  },
  {
   "cell_type": "markdown",
   "metadata": {},
   "source": [
    "## Definite Loops as Indefinite Loops"
   ]
  },
  {
   "cell_type": "markdown",
   "metadata": {},
   "source": [
    "Every `for` loop can be written as a `while` loop, at the expense of additional statements that manipulate the loop variable."
   ]
  },
  {
   "cell_type": "code",
   "execution_count": 14,
   "metadata": {},
   "outputs": [
    {
     "data": {
      "text/plain": [
       "41"
      ]
     },
     "execution_count": 14,
     "metadata": {},
     "output_type": "execute_result"
    }
   ],
   "source": [
    "primes = [2, 3, 5, 7, 11, 13]\n",
    "total = 0\n",
    "for prime in primes:\n",
    "    total += prime\n",
    "total"
   ]
  },
  {
   "cell_type": "code",
   "execution_count": 15,
   "metadata": {},
   "outputs": [
    {
     "data": {
      "text/plain": [
       "41"
      ]
     },
     "execution_count": 15,
     "metadata": {},
     "output_type": "execute_result"
    }
   ],
   "source": [
    "primes = [2, 3, 5, 7, 11, 13]\n",
    "total = 0\n",
    "i = 0\n",
    "while i < len(primes):\n",
    "    total += primes[i]\n",
    "    i += 1\n",
    "total"
   ]
  },
  {
   "cell_type": "markdown",
   "metadata": {},
   "source": [
    "##  Summary: Loop Structures"
   ]
  },
  {
   "cell_type": "markdown",
   "metadata": {},
   "source": [
    "* In `python`, a `for` loop is a **definite loop** that iterates through a sequence.\n",
    "\n",
    "* A `while` statement is an example of an **indefinite loop**; it continues to iterate as long as the\n",
    "**loop condition** remains `True`.\n",
    "\n",
    "* When using an indefinite loop, the programmer is in charge of\n",
    "avoiding an infinite loop.\n",
    "\n",
    "* Loops can be **nested**: one of the statements in a loop's\n",
    "body can be itself a loop.\n",
    "\n",
    "* A **definite loop** is a special case of an **indefinite loop**.\n",
    "\n",
    "* **String formatting** can be used to modify a string containing placeholders."
   ]
  },
  {
   "cell_type": "code",
   "execution_count": null,
   "metadata": {
    "collapsed": true
   },
   "outputs": [],
   "source": []
  }
 ],
 "metadata": {
  "kernelspec": {
   "display_name": "Python 3",
   "language": "python",
   "name": "python3"
  },
  "language_info": {
   "codemirror_mode": {
    "name": "ipython",
    "version": 3
   },
   "file_extension": ".py",
   "mimetype": "text/x-python",
   "name": "python",
   "nbconvert_exporter": "python",
   "pygments_lexer": "ipython3",
   "version": "3.6.1"
  }
 },
 "nbformat": 4,
 "nbformat_minor": 2
}
