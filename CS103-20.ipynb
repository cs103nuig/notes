{
 "cells": [
  {
   "cell_type": "markdown",
   "metadata": {},
   "source": [
    "### CS102/CS103\n",
    "\n",
    "Prof. Götz Pfeiffer<br />\n",
    "School of Mathematics, Statistics and Applied Mathematics<br />\n",
    "NUI Galway"
   ]
  },
  {
   "cell_type": "markdown",
   "metadata": {},
   "source": [
    "# Lecture 20: Public Key Encryption"
   ]
  },
  {
   "cell_type": "markdown",
   "metadata": {
    "collapsed": true
   },
   "source": [
    "Modular arithmetic is prominently applied in encryption.\n",
    "A popular scheme is the [RSA cryptosystem](https://en.wikipedia.org/wiki/RSA_%28cryptosystem%29), which consists of a pair\n",
    "of keys, a **public key** to encrypt messages, and a **private key** to decrypt a received secret message. The security of this system\n",
    "relies on the difficulty of factorising large numbers.\n",
    "\n",
    "Here, we define a `Key` class that can provide both private and\n",
    "public keys.  "
   ]
  },
  {
   "cell_type": "markdown",
   "metadata": {},
   "source": [
    "##  RSA Encryption"
   ]
  },
  {
   "cell_type": "markdown",
   "metadata": {},
   "source": [
    " A **key pair** can be generated as follows:\n",
    " \n",
    " * Pick two (large) **prime numbers**, $p$ and $q$ say\n",
    " (and keep them secret).\n",
    " \n",
    " * Calculate their **product** $m = p q$ (which will be\n",
    " made public).\n",
    " \n",
    " * Compute $r = \\phi(m) = (p-1)(q-1)$ (and keep it secret).\n",
    " (Here, $\\phi(m)$ is [Euler's totient function](https://en.wikipedia.org/wiki/Euler%27s_totient_function).)\n",
    " \n",
    " * Pick a number $e$ with $\\gcd(r, e) = 1$ (so $e$ has an inverse\n",
    " modulo $r$).\n",
    " \n",
    " * Compute the **inverse** $d$ of $e$ (modulo $r$).\n",
    " \n",
    " The **public key** then is the pair $(e, m)$ and the **private\n",
    " key** is the pair $(d, m)$ (with $d$ kept secret).\n",
    " \n",
    " * **Encryption** is a function \n",
    " $$E \\colon x \\mapsto x^e \\pmod{m}.$$\n",
    " \n",
    " * **Decryption** is a function \n",
    " $$D \\colon x \\mapsto x^d \\pmod{m}.$$\n",
    " \n",
    "[Euler's Theorem](https://en.wikipedia.org/wiki/Euler%27s_theorem) states that, if $\\gcd(n, a) = 1$ then\n",
    "$$\n",
    "a^{\\phi(n)} \\equiv 1 \\pmod{n}.\n",
    "$$\n",
    " \n",
    "Hence, $D(E(x)) = x^{ed} = x^{1 + kr} = x \\cdot (x^r)^k \\equiv x \\pmod{m}$, as $r = \\phi(m)$. "
   ]
  },
  {
   "cell_type": "markdown",
   "metadata": {},
   "source": [
    "##  Fast Exponentiation"
   ]
  },
  {
   "cell_type": "markdown",
   "metadata": {},
   "source": [
    "In order to apply these encryption and decryption methods, it helps to have an **efficient exponentiation** algorithm for possibly large\n",
    "exponents, modulo $m$.\n",
    "\n",
    "The [binary method](https://en.wikipedia.org/wiki/Modular_exponentiation) for modular exponentiation is an adaption of a method known as [Russian peasant multiplication](https://en.wikipedia.org/wiki/Ancient_Egyptian_multiplication#Russian_peasant_multiplication)."
   ]
  },
  {
   "cell_type": "markdown",
   "metadata": {},
   "source": [
    "We can implement this as a **special method** `__pow__()` of a class `Residue` (defined in a file `residue.py`), whose instances\n",
    "represent residue classes modulo $m$, with instance variables `val` \n",
    "and `mod`.\n",
    "\n",
    "```python\n",
    "def __pow__(self, exp):\n",
    "    \"self ** exp\"\n",
    "    if exp == 0:\n",
    "        return Residue(1, self.mod)\n",
    "    elif exp == 1:\n",
    "        return self\n",
    "    else:\n",
    "        q, r = divmod(exp, 2) # exp == 2 * q + r, r < 2\n",
    "        result = (self * self) ** q\n",
    "        if r > 0:\n",
    "            result *= self\n",
    "        return result\n",
    "```"
   ]
  },
  {
   "cell_type": "code",
   "execution_count": 1,
   "metadata": {
    "collapsed": true
   },
   "outputs": [],
   "source": [
    "from residue import *\n",
    "a = Residue(17, 1234689)"
   ]
  },
  {
   "cell_type": "code",
   "execution_count": 2,
   "metadata": {},
   "outputs": [
    {
     "data": {
      "text/plain": [
       "Residue(400912, 1234689)"
      ]
     },
     "execution_count": 2,
     "metadata": {},
     "output_type": "execute_result"
    }
   ],
   "source": [
    "a**78678"
   ]
  },
  {
   "cell_type": "markdown",
   "metadata": {},
   "source": [
    "## Keys"
   ]
  },
  {
   "cell_type": "markdown",
   "metadata": {},
   "source": [
    "A **key**, like a residue class, is an object that has\n",
    "a modulus and a value as attributes. We call the value\n",
    "the **exponent** of the key, and store modulus and exponent\n",
    "in **instance variables** `mod` and `exp`.  These are the data\n",
    "a key instance **knows**.\n",
    "\n",
    "Then there is one thing a key can **do**: it can transform\n",
    "a given code (a number) into a new one, by raising it into the power\n",
    "of its exponent, modulo its modulus.  We implement this as\n",
    "a **method** `transform` of the following `Key` class."
   ]
  },
  {
   "cell_type": "code",
   "execution_count": 3,
   "metadata": {
    "collapsed": true
   },
   "outputs": [],
   "source": [
    "class Key:\n",
    "    \"RSA encryption and decryption\"\n",
    "\n",
    "    def __init__(self, residue):\n",
    "        \"constructor\"\n",
    "        self.mod = residue.mod\n",
    "        self.exp = residue.val\n",
    "\n",
    "    def transform(self, code):\n",
    "        \"encrypt or decrypt\"\n",
    "        return (Residue(code, self.mod) ** self.exp).val\n"
   ]
  },
  {
   "cell_type": "markdown",
   "metadata": {},
   "source": [
    "For example, ..."
   ]
  },
  {
   "cell_type": "code",
   "execution_count": 4,
   "metadata": {},
   "outputs": [],
   "source": [
    "p, q = 17, 23\n",
    "m, r, e = p * q, (p - 1) * (q - 1), 123\n",
    "res = Residue(e, r)"
   ]
  },
  {
   "cell_type": "code",
   "execution_count": 5,
   "metadata": {},
   "outputs": [
    {
     "data": {
      "text/plain": [
       "Residue(123, 352)"
      ]
     },
     "execution_count": 5,
     "metadata": {},
     "output_type": "execute_result"
    }
   ],
   "source": [
    "res"
   ]
  },
  {
   "cell_type": "code",
   "execution_count": 6,
   "metadata": {},
   "outputs": [
    {
     "data": {
      "text/plain": [
       "83"
      ]
     },
     "execution_count": 6,
     "metadata": {},
     "output_type": "execute_result"
    }
   ],
   "source": [
    "d = res.inverse().val\n",
    "d"
   ]
  },
  {
   "cell_type": "code",
   "execution_count": 7,
   "metadata": {},
   "outputs": [],
   "source": [
    "public = Key(Residue(e, m)) \n",
    "private = Key(Residue(d, m))"
   ]
  },
  {
   "cell_type": "code",
   "execution_count": 8,
   "metadata": {},
   "outputs": [
    {
     "data": {
      "text/plain": [
       "250"
      ]
     },
     "execution_count": 8,
     "metadata": {},
     "output_type": "execute_result"
    }
   ],
   "source": [
    "message = 283\n",
    "secret = public.transform(message)\n",
    "secret"
   ]
  },
  {
   "cell_type": "code",
   "execution_count": 9,
   "metadata": {},
   "outputs": [
    {
     "data": {
      "text/plain": [
       "283"
      ]
     },
     "execution_count": 9,
     "metadata": {},
     "output_type": "execute_result"
    }
   ],
   "source": [
    "private.transform(secret)"
   ]
  },
  {
   "cell_type": "markdown",
   "metadata": {},
   "source": [
    "## Generating Key Pairs"
   ]
  },
  {
   "cell_type": "code",
   "execution_count": 10,
   "metadata": {
    "collapsed": true
   },
   "outputs": [],
   "source": [
    "def primes_upto(limit):\n",
    "    \"generator: all primes up to limit\"\n",
    "    is_prime = [False, False] + [True] * (limit - 2)\n",
    "    for n in range(2, limit):\n",
    "        if is_prime[n]:\n",
    "            yield n\n",
    "            for an in range(n*n, limit, n):\n",
    "                is_prime[an] = False"
   ]
  },
  {
   "cell_type": "code",
   "execution_count": 11,
   "metadata": {
    "collapsed": true
   },
   "outputs": [],
   "source": [
    "def primes_range(start, stop):\n",
    "    \"list all primes in range(start, stop)\"\n",
    "    if start < stop:\n",
    "        primes = primes_upto(stop)\n",
    "        for p in primes:\n",
    "            if p >= start:\n",
    "                return [p] + list(primes)\n",
    "    return []"
   ]
  },
  {
   "cell_type": "code",
   "execution_count": 12,
   "metadata": {},
   "outputs": [
    {
     "data": {
      "text/plain": [
       "70435"
      ]
     },
     "execution_count": 12,
     "metadata": {},
     "output_type": "execute_result"
    }
   ],
   "source": [
    "size = 10**6\n",
    "primes = primes_range(size, 2*size)\n",
    "len(primes)"
   ]
  },
  {
   "cell_type": "code",
   "execution_count": 13,
   "metadata": {},
   "outputs": [
    {
     "data": {
      "text/plain": [
       "(1277449, 1050053)"
      ]
     },
     "execution_count": 13,
     "metadata": {},
     "output_type": "execute_result"
    }
   ],
   "source": [
    "import random\n",
    "p, q = random.choice(primes), random.choice(primes)\n",
    "p, q"
   ]
  },
  {
   "cell_type": "code",
   "execution_count": 14,
   "metadata": {},
   "outputs": [
    {
     "data": {
      "text/plain": [
       "(1341389154797, 1341386827296)"
      ]
     },
     "execution_count": 14,
     "metadata": {},
     "output_type": "execute_result"
    }
   ],
   "source": [
    "m, r = p * q, (p - 1) * (q - 1)\n",
    "m, r"
   ]
  },
  {
   "cell_type": "code",
   "execution_count": 15,
   "metadata": {
    "collapsed": true
   },
   "outputs": [],
   "source": [
    "e = random.randrange(r)"
   ]
  },
  {
   "cell_type": "code",
   "execution_count": 16,
   "metadata": {},
   "outputs": [
    {
     "data": {
      "text/plain": [
       "(555445400130, 6)"
      ]
     },
     "execution_count": 16,
     "metadata": {},
     "output_type": "execute_result"
    }
   ],
   "source": [
    "e, gcd(r, e)"
   ]
  },
  {
   "cell_type": "code",
   "execution_count": 17,
   "metadata": {},
   "outputs": [
    {
     "name": "stdout",
     "output_type": "stream",
     "text": [
      "68\n",
      "1\n"
     ]
    }
   ],
   "source": [
    "while gcd(r, e) > 1:\n",
    "    e = random.randrange(r)\n",
    "    print(gcd(r, e))"
   ]
  },
  {
   "cell_type": "code",
   "execution_count": 18,
   "metadata": {},
   "outputs": [
    {
     "data": {
      "text/plain": [
       "313875753791"
      ]
     },
     "execution_count": 18,
     "metadata": {},
     "output_type": "execute_result"
    }
   ],
   "source": [
    "e"
   ]
  },
  {
   "cell_type": "code",
   "execution_count": 19,
   "metadata": {},
   "outputs": [
    {
     "data": {
      "text/plain": [
       "721141325375"
      ]
     },
     "execution_count": 19,
     "metadata": {},
     "output_type": "execute_result"
    }
   ],
   "source": [
    "d = Residue(e, r).inverse().val\n",
    "d"
   ]
  },
  {
   "cell_type": "code",
   "execution_count": 20,
   "metadata": {
    "collapsed": true
   },
   "outputs": [],
   "source": [
    "public = Key(Residue(e, m)) \n",
    "private = Key(Residue(d, m))"
   ]
  },
  {
   "cell_type": "code",
   "execution_count": 21,
   "metadata": {},
   "outputs": [
    {
     "data": {
      "text/plain": [
       "652427520030"
      ]
     },
     "execution_count": 21,
     "metadata": {},
     "output_type": "execute_result"
    }
   ],
   "source": [
    "message = random.randrange(m)\n",
    "message"
   ]
  },
  {
   "cell_type": "code",
   "execution_count": 22,
   "metadata": {},
   "outputs": [
    {
     "data": {
      "text/plain": [
       "611681437758"
      ]
     },
     "execution_count": 22,
     "metadata": {},
     "output_type": "execute_result"
    }
   ],
   "source": [
    "secret = public.transform(message)\n",
    "secret"
   ]
  },
  {
   "cell_type": "code",
   "execution_count": 23,
   "metadata": {},
   "outputs": [
    {
     "data": {
      "text/plain": [
       "652427520030"
      ]
     },
     "execution_count": 23,
     "metadata": {},
     "output_type": "execute_result"
    }
   ],
   "source": [
    "private.transform(secret)"
   ]
  },
  {
   "cell_type": "markdown",
   "metadata": {},
   "source": [
    "## Summary: Encryption"
   ]
  },
  {
   "cell_type": "markdown",
   "metadata": {},
   "source": [
    "* Modular **exponentiation** can be done in a way that keeps intermediate results small.\n",
    "\n",
    "* Encryption and decryption methods can be implemented as\n",
    "**methods** of suitable `python` classes.\n",
    "\n",
    "* Function/method **bodies** need not be long.\n",
    "\n",
    "* In a **public key encryption** system, the encryption key\n",
    "can be made public, without compromising the security of\n",
    "the system, as long as the decryption key is kept private.\n",
    "\n",
    "* **Factorization** (in contrast to multiplication) is **computationally hard**.\n",
    "\n",
    "* The **RSA cryptosystem** relies on the difficulty of\n",
    "recovering $p$ and $q$ from the product $p q$.\n",
    "\n",
    "* The Euler **totient function** $\\phi(m)$ can only\n",
    "be computed if the **prime factorization** of $m$ is known.\n",
    "\n",
    "* **Euler's theorem** implies that if $e$ and $d$ are\n",
    "inverse to each other modulo $\\phi(m)$ then\n",
    "$(x^e)^d = x^{ed} \\equiv x \\pmod{m}$, i.e., exponentiation with\n",
    "$e$ and $d$ undo each other."
   ]
  },
  {
   "cell_type": "code",
   "execution_count": null,
   "metadata": {
    "collapsed": true
   },
   "outputs": [],
   "source": []
  }
 ],
 "metadata": {
  "kernelspec": {
   "display_name": "Python 3",
   "language": "python",
   "name": "python3"
  },
  "language_info": {
   "codemirror_mode": {
    "name": "ipython",
    "version": 3
   },
   "file_extension": ".py",
   "mimetype": "text/x-python",
   "name": "python",
   "nbconvert_exporter": "python",
   "pygments_lexer": "ipython3",
   "version": "3.6.1"
  }
 },
 "nbformat": 4,
 "nbformat_minor": 2
}
