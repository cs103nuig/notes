{
 "cells": [
  {
   "cell_type": "markdown",
   "metadata": {},
   "source": [
    "###  CS102/CS103\n",
    "\n",
    "Prof. Götz Pfeiffer<br>\n",
    "School of Mathematics, Statistics and Applied Mathematics\n",
    "\n",
    "# Lecture 1: Welcome to CS103\n",
    "\n",
    "This lecture contains an informal introduction and overview of the course, together with some important administrative details."
   ]
  },
  {
   "cell_type": "markdown",
   "metadata": {
    "collapsed": true
   },
   "source": [
    "## Admin\n",
    "\n",
    "This course is given to **two** groups of students:\n",
    "\n",
    "* **CS102** (1BPC1, 1BS1, 1MR1).\n",
    "Two semesters, two exams.\n",
    "Assessment: 60% exam + 40% CA.\n",
    "(You **have to pass the CA** in order to pass the course.)\n",
    "\n",
    "* **CS103** (1BMS1, 1BPT1, 1FM1).\n",
    "One semester, one exam.\n",
    "Assessment: 70% exam + 30% CA.\n",
    "\n",
    "**Lecturer:** Götz Pfeiffer [ADB-1008]\n",
    "\n",
    "**Timetable:** Wed 13-14 [MRA201], Thu 09-10 [AM200]\n",
    "\n",
    "**Practicals:** ???, details tba."
   ]
  },
  {
   "cell_type": "markdown",
   "metadata": {},
   "source": [
    "**Continuous Assessment:** Participation in Practicals and Small Programming Projects."
   ]
  },
  {
   "cell_type": "markdown",
   "metadata": {},
   "source": [
    "**Textbook:** John Zelle: _Python Programming: \n",
    "An introduction to Computer Science_\n",
    "            \n",
    "(There are several copies in the library, and it can be bought online or in a bookshop.)"
   ]
  },
  {
   "cell_type": "markdown",
   "metadata": {},
   "source": [
    "## What is a Computer?\n",
    "\n",
    "A computer is a device that can be instructed to carry out arbitrary sequences of arithmetic or logical operations automatically. The ability of computers to follow generalized sets of operations, called programs, enables them to perform an extremely wide range of tasks. [(Wikipedia, accessed 05/09/2017.)](https://en.wikipedia.org/wiki/Computer)\n",
    "\n",
    "* A computer is a **universal machine**.\n",
    "\n",
    "* A computer is a machine that **stores and manipulates\n",
    "    information** under the control of a **changeable program**.\n",
    "    \n",
    "* A **computer program** is a detailed step-by-step\n",
    "set of **instructions** telling a computer exactly what \n",
    "to do.\n",
    "\n",
    "* A computer is a machine for **executing programs**.\n",
    "\n",
    "* **Computer Science** studies: What is **computable**?\n",
    " (Computer Science does not study computers.)\n",
    "\n",
    "* In theory, all computers have the **same power**.\n",
    "\n",
    "* A computer does **anything you want** it to do, provided you can\n",
    "  describe the task in **sufficient detail**.\n",
    "\n",
    "\n"
   ]
  },
  {
   "cell_type": "markdown",
   "metadata": {},
   "source": [
    "## Programming\n",
    "\n",
    "*  In Computer Science, a **recipe** for solving a\n",
    "particular type of problems is called an **algorithm**.\n",
    "\n",
    "* **Computer Science** is the **design** and **analysis** of and\n",
    "  **experimentation** with **algorithms**.\n",
    "  \n",
    "* An **algorithm** is a mathematical step-by-step process for achieving a\n",
    "  desired result.\n",
    "  \n",
    "* If an algorithm exists which solves a\n",
    "particular problem then this  problem is **computable**.\n",
    "\n",
    "* By **mathematical analysis** one can find  \n",
    "that some problem is not solvable by any algorithm.\n",
    "\n",
    "* By **experimentation** with computer programs one can find\n",
    "  improvements of algorithms.\n",
    "  \n",
    "* **Programming** is the process of **creating software**\n",
    "  by **implementing algorithms** on computers.\n"
   ]
  },
  {
   "cell_type": "markdown",
   "metadata": {},
   "source": [
    "## Programming Languages\n",
    "\n",
    "* Human languages are not well suited for describing\n",
    "complex algorithms.\n",
    "\n",
    "* A **programming language** is a (mathematical) notation\n",
    "used to express computations in an exact way.\n",
    "\n",
    "* Every part of a program has a precise **form**\n",
    "(its **syntax**) and a precise **meaning**\n",
    "(its **semantics**).\n",
    "\n",
    "* A **low level** language is designed for machine readabilty.\n",
    "\n",
    "* A **high level** language is more human readable,\n",
    "automatically compiled into machine language.\n",
    "\n",
    "\n",
    "In the (relativley short) history of programming, many programminig languages have been conceived.  Some of the most widespread are:\n",
    "\n",
    "* Assembler\n",
    "\n",
    "* C\n",
    "\n",
    "* Lisp\n",
    "\n",
    "* Java\n",
    "\n",
    "* Python\n",
    "\n",
    "All programming languages essentially serve the same purpose and they have many features in common.  In this\n",
    "course we use the `python` language to learn about the fundamental elements of computer programming."
   ]
  },
  {
   "cell_type": "markdown",
   "metadata": {},
   "source": [
    "### Assembler Example\n",
    "\n",
    "Assembler programs are made out of very low level, direct instructions to the processor, like\n",
    "\n",
    "```\n",
    "  la $t0, a\n",
    "  la $t1, b\n",
    "  la $t2, c\n",
    "  lw $s0, 0($t1)\n",
    "  lw $s1, 0($t2)\n",
    "  mult $s0, $s1\n",
    "  mflo $s0\n",
    "  sw $s0, 0($t0)\n",
    "```\n",
    "\n",
    "The effect of this program can be described by\n",
    "the mathematical formula\n",
    "$$ a = b * c$$"
   ]
  },
  {
   "cell_type": "markdown",
   "metadata": {},
   "source": [
    "### C Example\n",
    "\n",
    "The same formula as a C program looks like\n",
    "```\n",
    "  #include <stdio.h>\n",
    "  \n",
    "  int main(void) {\n",
    "    int a, b, c;\n",
    "    \n",
    "    a = 12;\n",
    "    b = 127;\n",
    "    c = a * b;\n",
    "    printf(\"c: %d\\n\", c);\n",
    "    \n",
    "    return 0;\n",
    "  }\n",
    "  ```"
   ]
  },
  {
   "cell_type": "markdown",
   "metadata": {},
   "source": [
    "### Python example\n",
    "\n",
    "In `python` the same effect can be achieved with fewer commands, which are easier to read."
   ]
  },
  {
   "cell_type": "code",
   "execution_count": 2,
   "metadata": {},
   "outputs": [
    {
     "name": "stdout",
     "output_type": "stream",
     "text": [
      "c:  1524\n"
     ]
    }
   ],
   "source": [
    "a = 12\n",
    "b = 127\n",
    "c = a * b\n",
    "print('c: ', c)"
   ]
  },
  {
   "cell_type": "markdown",
   "metadata": {},
   "source": [
    "## Why Python?\n",
    "\n",
    "Because Python ...\n",
    "\n",
    "* ...  is **easy to learn** and **easy to use**.\n",
    "\n",
    "* ... is **powerful** and in **widespread use**.\n",
    "\n",
    "* ... is a **new** programming language\n",
    "(and knows about the internet).\n",
    "\n",
    "* ...  is a **high level** language\n",
    "(like C, Java, ...).\n",
    "\n",
    "* ...  is **interpreted** \n",
    "(rather than compiled).\n",
    "\n",
    "* ...  is **object oriented**.\n",
    "\n",
    "* ...  is **free**\n",
    "(as in \"free speech\", and as in \"free beer\").\n",
    "\n",
    "See [www.python.org](http://www.python.org).\n"
   ]
  },
  {
   "cell_type": "markdown",
   "metadata": {
    "collapsed": true,
    "slideshow": {
     "slide_type": "-"
    }
   },
   "source": [
    "## Summary: Computer Programming\n",
    "\n",
    "* A computer is a **universal machine**.\n",
    "\n",
    "* **Computer science** is the study of what can be computed.\n",
    "\n",
    "* Computer **programs** are written using a formal notation known as a\n",
    "  **programming language**.\n",
    "\n",
    "* Python is an **interpreted language**.\n",
    "\n",
    "* A Python program is a sequence of commands (called **statements**)\n",
    "  for the Python interpreter to execute.\n"
   ]
  }
 ],
 "metadata": {
  "celltoolbar": "Raw Cell Format",
  "kernelspec": {
   "display_name": "Python 3",
   "language": "python",
   "name": "python3"
  },
  "language_info": {
   "codemirror_mode": {
    "name": "ipython",
    "version": 3
   },
   "file_extension": ".py",
   "mimetype": "text/x-python",
   "name": "python",
   "nbconvert_exporter": "python",
   "pygments_lexer": "ipython3",
   "version": "3.6.1"
  }
 },
 "nbformat": 4,
 "nbformat_minor": 2
}
