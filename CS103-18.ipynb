{
 "cells": [
  {
   "cell_type": "markdown",
   "metadata": {},
   "source": [
    "### CS102/CS103\n",
    "\n",
    "Prof. Götz Pfeiffer<br />\n",
    "School of Mathematics, Statistics and Applied Mathematics<br />\n",
    "NUI Galway"
   ]
  },
  {
   "cell_type": "markdown",
   "metadata": {},
   "source": [
    "# Lecture 18: Rationals"
   ]
  },
  {
   "cell_type": "markdown",
   "metadata": {},
   "source": [
    "Defining new objects (via `class`) can **simplify the structure** of a program by allowing a single\n",
    "variable to store a constellation of related data. Objects are useful for **modeling real world\n",
    "entities**. These entities may have **complex behavior** that is captured in method algorithms\n",
    "or they may be little more than a **collection of relevant information** about\n",
    "some individual (e.g., a student record).\n",
    "\n",
    "Correctly designed classes provide **encapsulation**. The internal details of an object are hidden\n",
    "inside the class definition so that other portions of the program do not need to know how an\n",
    "object is implemented. This **separation of concerns** is a programming convention in Python;\n",
    "the instance variables of an object should only be accessed or modified through the interface\n",
    "methods of the class.\n",
    "\n",
    "Here, we will define a class that represents **rationals** as pairs of integers.\n",
    "This class will make use of **special methods** that allow the newly defined rationals\n",
    "to **behave like numbers**, i.e., to be added and multiplied."
   ]
  },
  {
   "cell_type": "markdown",
   "metadata": {},
   "source": [
    "## Special Methods"
   ]
  },
  {
   "cell_type": "markdown",
   "metadata": {},
   "source": [
    "A class can behave like a list, or a dictionary, or a number, or even like a function\n",
    "by implementing certain special methods.\n",
    "There is a range of special methods that can be useful for various purposes.\n",
    "\n",
    "* Arithmetic: `__add__()`, `__sub__()`, `__mul__()`, ...\n",
    "* Comparison: `__eq__()`, `__lt__()`, ..."
   ]
  },
  {
   "cell_type": "markdown",
   "metadata": {},
   "source": [
    "If we provide implementations of the `__eq__()` and `__lt__()` methods in our `Date` class, we will be able to compare dates."
   ]
  },
  {
   "cell_type": "code",
   "execution_count": 1,
   "metadata": {
    "collapsed": true
   },
   "outputs": [],
   "source": [
    "class Date:\n",
    "    \"represent dates - year, month and day\"\n",
    "    \n",
    "    def __init__(self, year, month, day):\n",
    "        self.year = year\n",
    "        self.month = month\n",
    "        self.day = day\n",
    "    \n",
    "    def __str__(self):\n",
    "        return \"{}/{}/{}\".format(self.day, self.month, self.year)\n",
    "    \n",
    "    def __eq__(self, other):\n",
    "        return self.year == other.year and self.month == other.month and self.day == other.day\n",
    "\n",
    "    def __lt__(self, other):\n",
    "        if self.year != other.year:\n",
    "            return self.year < other.year\n",
    "        elif self.month != other.month:\n",
    "            return self.month < other.month\n",
    "        else:\n",
    "            return self.day < other.day\n",
    "        "
   ]
  },
  {
   "cell_type": "markdown",
   "metadata": {},
   "source": [
    "With these methods in place, the usual comparison operators can be used to compare dates."
   ]
  },
  {
   "cell_type": "code",
   "execution_count": 2,
   "metadata": {
    "collapsed": true
   },
   "outputs": [],
   "source": [
    "today = Date(2017, 11, 8)\n",
    "tomorrow = Date(2017, 11, 9)"
   ]
  },
  {
   "cell_type": "code",
   "execution_count": 3,
   "metadata": {},
   "outputs": [
    {
     "data": {
      "text/plain": [
       "False"
      ]
     },
     "execution_count": 3,
     "metadata": {},
     "output_type": "execute_result"
    }
   ],
   "source": [
    "today == tomorrow"
   ]
  },
  {
   "cell_type": "code",
   "execution_count": 4,
   "metadata": {},
   "outputs": [
    {
     "data": {
      "text/plain": [
       "True"
      ]
     },
     "execution_count": 4,
     "metadata": {},
     "output_type": "execute_result"
    }
   ],
   "source": [
    "today < tomorrow"
   ]
  },
  {
   "cell_type": "markdown",
   "metadata": {
    "collapsed": true
   },
   "source": [
    "This works as follows:  in order to evaluate the expression `today == tomorrow`,  where the operands are objects, `python` looks into the class of the `today` object and calls the `__eq__()` method\n",
    "with arguments `today` and `tomorrow` (if the class has such a method).  Similar for the\n",
    "expression `today < tomorrow`: here `python` looks for a `__lt__()` method to call in the\n",
    "class of `today`"
   ]
  },
  {
   "cell_type": "markdown",
   "metadata": {},
   "source": [
    "## Rationals as Objects"
   ]
  },
  {
   "cell_type": "markdown",
   "metadata": {},
   "source": [
    "A **rational** number is a pair of integers, a **numerator** and a **denominator**, usually in lowest terms.\n",
    "There are precise rules for how to add and how to multiply rationals.\n",
    "Let's define a `python` class that encapsulates this collection of data and behaviour.\n",
    "For this, it might be useful to have a function that computes the **greatest common divisor** of two integers."
   ]
  },
  {
   "cell_type": "code",
   "execution_count": 5,
   "metadata": {
    "collapsed": true
   },
   "outputs": [],
   "source": [
    "def gcd(a, b):\n",
    "    \"greatest common divisor: Euclid's algorithm\"\n",
    "    if b == 0:\n",
    "        return a\n",
    "    else:\n",
    "        return gcd(b, a % b)"
   ]
  },
  {
   "cell_type": "markdown",
   "metadata": {},
   "source": [
    "The **data** part of a rational clearly consists of its numerator and denominator.\n",
    "These are data of type `int`, a basic data type in `python`.  Let's decide that this\n",
    "information is kept in **instance variables** `num` and `den` (for brevity) of rational\n",
    "objects.  Then we can define a first version of the class like this:"
   ]
  },
  {
   "cell_type": "code",
   "execution_count": 6,
   "metadata": {
    "collapsed": true
   },
   "outputs": [],
   "source": [
    "class Rational:\n",
    "    \"rationals as pairs of integers\"\n",
    "    \n",
    "    def __init__(self, num, den):\n",
    "        if den == 0:\n",
    "            raise ZeroDivisionError(\"denominator must not be 0\")\n",
    "        d = gcd(num, den)\n",
    "        self.num = num // d\n",
    "        self.den = den // d\n",
    "        \n",
    "    def __repr__(self):\n",
    "        return \"{}/{}\".format(self.num, self.den)"
   ]
  },
  {
   "cell_type": "markdown",
   "metadata": {},
   "source": [
    "Here, the initializer function `__init__()` is put in charge of ensuring that all\n",
    "rational objects that will ever be created as instances of this class are in lowest terms: it first determines the gcd\n",
    "of numerator and denominator, and then divides the given values by this number, before assigning them to the instance variables.\n",
    "\n",
    "`__init__()` also prevents the denominator from being $0$.  In the case of an attempt to create\n",
    "a rational number with denominator $0$, it raises a `ZeroDivisionError` and the object will\n",
    "not be initialized.  `ZeroDivisionError` is a built-in type of exception.  Exceptions are programming errors\n",
    "that are detected during program execution.  In `python`, an exception is an **object** representing what\n",
    "went wrong.  It can be used to recover gracefully."
   ]
  },
  {
   "cell_type": "markdown",
   "metadata": {},
   "source": [
    "The special method `__repr__()` is like `__str__()`: it computes a string representation of the object,\n",
    "except that it doesn't depend on `print()` applied to the object.\n",
    "\n",
    "We can now create new rational instances, and see them reduced to lowest terms."
   ]
  },
  {
   "cell_type": "code",
   "execution_count": 7,
   "metadata": {},
   "outputs": [
    {
     "data": {
      "text/plain": [
       "3/4"
      ]
     },
     "execution_count": 7,
     "metadata": {},
     "output_type": "execute_result"
    }
   ],
   "source": [
    "a = Rational(6, 8)\n",
    "a"
   ]
  },
  {
   "cell_type": "markdown",
   "metadata": {},
   "source": [
    "A useful side effect of dividing by the GCD is that the **sign** of a rational is always part of its\n",
    "numerator, and that the denominator is always a positive number."
   ]
  },
  {
   "cell_type": "code",
   "execution_count": 8,
   "metadata": {},
   "outputs": [
    {
     "data": {
      "text/plain": [
       "(-1/3, -1/4)"
      ]
     },
     "execution_count": 8,
     "metadata": {},
     "output_type": "execute_result"
    }
   ],
   "source": [
    "Rational(-4, 12), Rational(3, -12)"
   ]
  },
  {
   "cell_type": "markdown",
   "metadata": {},
   "source": [
    "However, `python` doesn't know (yet) how to add or multiply rationals:\n",
    "```python\n",
    "Rational(1, 2) * Rational(1, 3)\n",
    "```\n",
    "would cause an error, because the `*` operation is currently not implemented for `Rational` instances.\n",
    "But there is an easy fix: we just need to provide an implementation as part of the class definition."
   ]
  },
  {
   "cell_type": "markdown",
   "metadata": {},
   "source": [
    "## Rationals as Numbers"
   ]
  },
  {
   "cell_type": "markdown",
   "metadata": {},
   "source": [
    "The product of two rationals $a/b$ and $c/d$ is given by the formula\n",
    "$$\n",
    "\\frac{a}{b} \\cdot \\frac{c}{d} = \\frac{ac}{bd}.\n",
    "$$\n",
    "We can implement this as special method `__mul__()` in the `Rational` class as follows."
   ]
  },
  {
   "cell_type": "code",
   "execution_count": 9,
   "metadata": {
    "collapsed": true
   },
   "outputs": [],
   "source": [
    "class Rational:\n",
    "    \"rationals as pairs of integers\"\n",
    "    \n",
    "    def __init__(self, num, den):\n",
    "        if den == 0:\n",
    "            raise ZeroDivisionError(\"denominator must not be 0\")\n",
    "        d = gcd(num, den)\n",
    "        self.num = num // d\n",
    "        self.den = den // d\n",
    "        \n",
    "    def __repr__(self):\n",
    "        return \"{}/{}\".format(self.num, self.den)\n",
    "    \n",
    "    def __mul__(self, other):\n",
    "        \"self * other\"\n",
    "        return Rational(self.num * other.num, self.den * other.den)"
   ]
  },
  {
   "cell_type": "markdown",
   "metadata": {},
   "source": [
    "Now we can multiply rationals"
   ]
  },
  {
   "cell_type": "code",
   "execution_count": 10,
   "metadata": {},
   "outputs": [
    {
     "data": {
      "text/plain": [
       "1/8"
      ]
     },
     "execution_count": 10,
     "metadata": {},
     "output_type": "execute_result"
    }
   ],
   "source": [
    "Rational(3, 4) * Rational(1, 6)"
   ]
  },
  {
   "cell_type": "markdown",
   "metadata": {},
   "source": [
    "Note how the result is automatically reduced to lowest terms."
   ]
  },
  {
   "cell_type": "markdown",
   "metadata": {},
   "source": [
    "Addition is not much different.  The formula for computing the sum of $a/b$ and $c/d$ is\n",
    "$$\n",
    "\\frac{a}{b} + \\frac{c}{d} = \\frac{ad + bc}{bd}.\n",
    "$$\n",
    "We implement this as special method `__add__()` in the `Rational` class."
   ]
  },
  {
   "cell_type": "code",
   "execution_count": 11,
   "metadata": {
    "collapsed": true
   },
   "outputs": [],
   "source": [
    "class Rational:\n",
    "    \"rationals as pairs of integers\"\n",
    "    \n",
    "    def __init__(self, num, den):\n",
    "        if den == 0:\n",
    "            raise ZeroDivisionError(\"denominator must not be 0\")\n",
    "        d = gcd(num, den)\n",
    "        self.num = num // d\n",
    "        self.den = den // d\n",
    "        \n",
    "    def __repr__(self):\n",
    "        return \"{}/{}\".format(self.num, self.den)\n",
    "    \n",
    "    def __mul__(self, other):\n",
    "        \"self * other\"\n",
    "        return Rational(self.num * other.num, self.den * other.den)\n",
    "    \n",
    "    def __add__(self, other):\n",
    "        \"self + other\"\n",
    "        return Rational(self.num * other.den + self.den * other.num,\n",
    "                       self.den * other.den)"
   ]
  },
  {
   "cell_type": "code",
   "execution_count": 12,
   "metadata": {},
   "outputs": [
    {
     "data": {
      "text/plain": [
       "5/6"
      ]
     },
     "execution_count": 12,
     "metadata": {},
     "output_type": "execute_result"
    }
   ],
   "source": [
    "Rational(1, 2) + Rational(1, 3)"
   ]
  },
  {
   "cell_type": "markdown",
   "metadata": {},
   "source": [
    "Subtraction and division of rationals could be handled by similar methods, but\n",
    "really these are only special cases of addition and multiplication, once the\n",
    "negative and the inverse of a rational is implemented.\n",
    "\n",
    "The negative is handled by the special method `__neg__()`. \n",
    "For the inverse, there is no special method. But that shouold not keep us from\n",
    "providing an implementation."
   ]
  },
  {
   "cell_type": "code",
   "execution_count": 13,
   "metadata": {
    "collapsed": true
   },
   "outputs": [],
   "source": [
    "class Rational:\n",
    "    \"rationals as pairs of integers\"\n",
    "    \n",
    "    def __init__(self, num, den):\n",
    "        if den == 0:\n",
    "            raise ZeroDivisionError(\"denominator must not be 0\")\n",
    "        d = gcd(num, den)\n",
    "        self.num = num // d\n",
    "        self.den = den // d\n",
    "        \n",
    "    def __repr__(self):\n",
    "        return \"{}/{}\".format(self.num, self.den)\n",
    "    \n",
    "    def __mul__(self, other):\n",
    "        \"self * other\"\n",
    "        return Rational(self.num * other.num, self.den * other.den)\n",
    "    \n",
    "    def __add__(self, other):\n",
    "        \"self + other\"\n",
    "        return Rational(self.num * other.den + self.den * other.num,\n",
    "                       self.den * other.den)\n",
    "    \n",
    "    def __neg__(self):\n",
    "        \"-self\"\n",
    "        return Rational(-self.num, self.den)\n",
    "    \n",
    "    def inverse(self):\n",
    "        \"self**(-1)\"\n",
    "        return Rational(self.den, self.num)"
   ]
  },
  {
   "cell_type": "code",
   "execution_count": 14,
   "metadata": {},
   "outputs": [
    {
     "data": {
      "text/plain": [
       "-2/3"
      ]
     },
     "execution_count": 14,
     "metadata": {},
     "output_type": "execute_result"
    }
   ],
   "source": [
    "-Rational(2,3)"
   ]
  },
  {
   "cell_type": "code",
   "execution_count": 15,
   "metadata": {},
   "outputs": [
    {
     "data": {
      "text/plain": [
       "3/2"
      ]
     },
     "execution_count": 15,
     "metadata": {},
     "output_type": "execute_result"
    }
   ],
   "source": [
    "Rational(2,3).inverse()"
   ]
  },
  {
   "cell_type": "markdown",
   "metadata": {},
   "source": [
    "Now we can implement subtraction as addition of the negative, and division as \n",
    "multiplication by the inverse."
   ]
  },
  {
   "cell_type": "code",
   "execution_count": 16,
   "metadata": {
    "collapsed": true
   },
   "outputs": [],
   "source": [
    "class Rational:\n",
    "    \"rationals as pairs of integers\"\n",
    "    \n",
    "    def __init__(self, num, den):\n",
    "        if den == 0:\n",
    "            raise ZeroDivisionError(\"denominator must not be 0\")\n",
    "        d = gcd(num, den)\n",
    "        self.num = num // d\n",
    "        self.den = den // d\n",
    "        \n",
    "    def __repr__(self):\n",
    "        return \"{}/{}\".format(self.num, self.den)\n",
    "    \n",
    "    def __mul__(self, other):\n",
    "        \"self * other\"\n",
    "        return Rational(self.num * other.num, self.den * other.den)\n",
    "    \n",
    "    def __add__(self, other):\n",
    "        \"self + other\"\n",
    "        return Rational(self.num * other.den + self.den * other.num,\n",
    "                       self.den * other.den)\n",
    "\n",
    "    def __neg__(self):\n",
    "        \"-self\"\n",
    "        return Rational(-self.num, self.den)\n",
    "    \n",
    "    def inverse(self):\n",
    "        \"self**(-1)\"\n",
    "        return Rational(self.den, self.num)\n",
    "    \n",
    "    def __truediv__(self, other):\n",
    "        \"self / other\"\n",
    "        return self * other.inverse()\n",
    "    \n",
    "    def __sub__(self, other):\n",
    "        \"self - other\"\n",
    "        return self + -other"
   ]
  },
  {
   "cell_type": "code",
   "execution_count": 17,
   "metadata": {},
   "outputs": [
    {
     "data": {
      "text/plain": [
       "5/6"
      ]
     },
     "execution_count": 17,
     "metadata": {},
     "output_type": "execute_result"
    }
   ],
   "source": [
    "Rational(2, 3) / Rational(4, 5)"
   ]
  },
  {
   "cell_type": "code",
   "execution_count": 18,
   "metadata": {},
   "outputs": [
    {
     "data": {
      "text/plain": [
       "-2/15"
      ]
     },
     "execution_count": 18,
     "metadata": {},
     "output_type": "execute_result"
    }
   ],
   "source": [
    "Rational(2, 3) - Rational(4, 5)"
   ]
  },
  {
   "cell_type": "markdown",
   "metadata": {},
   "source": [
    "##  Comparing Rationals"
   ]
  },
  {
   "cell_type": "markdown",
   "metadata": {},
   "source": [
    "The `Rational` class represents each rational instance as a **unique** pair \n",
    "consisting of a numerator and a denominator in lowest terms, where the denominator\n",
    "is always positive.  Hence rationals can be compared for equality, by simply\n",
    "comparing their (internal) numerators and denominators.  To compare two rationals $a/b$ and\n",
    "$c/d$ for size, one can use the formula\n",
    "$$\n",
    "\\frac{a}{b} < \\frac{c}{d} \\iff ad < bc,\n",
    "$$\n",
    "again using the property that denominators are always positive."
   ]
  },
  {
   "cell_type": "code",
   "execution_count": 19,
   "metadata": {
    "collapsed": true
   },
   "outputs": [],
   "source": [
    "class Rational:\n",
    "    \"rationals as pairs of integers\"\n",
    "    \n",
    "    def __init__(self, num, den):\n",
    "        if den == 0:\n",
    "            raise ZeroDivisionError(\"denominator must not be 0\")\n",
    "        d = gcd(num, den)\n",
    "        self.num = num // d\n",
    "        self.den = den // d\n",
    "        \n",
    "    def __repr__(self):\n",
    "        return \"{}/{}\".format(self.num, self.den)\n",
    "    \n",
    "    def __mul__(self, other):\n",
    "        \"self * other\"\n",
    "        return Rational(self.num * other.num, self.den * other.den)\n",
    "    \n",
    "    def __add__(self, other):\n",
    "        \"self + other\"\n",
    "        return Rational(self.num * other.den + self.den * other.num,\n",
    "                       self.den * other.den)\n",
    "\n",
    "    def __neg__(self):\n",
    "        \"-self\"\n",
    "        return Rational(-self.num, self.den)\n",
    "    \n",
    "    def inverse(self):\n",
    "        \"self**(-1)\"\n",
    "        return Rational(self.den, self.num)\n",
    "    \n",
    "    def __truediv__(self, other):\n",
    "        \"self / other\"\n",
    "        return self * other.inverse()\n",
    "    \n",
    "    def __sub__(self, other):\n",
    "        \"self - other\"\n",
    "        return self + -other\n",
    "    \n",
    "    def __eq__(self, other):\n",
    "        \"self == other\"\n",
    "        return self.num == other.num and self.den == other.den\n",
    "    \n",
    "    def __lt__(self, other):\n",
    "        \"self < other\"\n",
    "        return self.num * other.den < self.den * other.num\n",
    "    \n",
    "    def __le__(self, other):\n",
    "        \"self <= other\"\n",
    "        return self.num * other.den <= self.den * other.num"
   ]
  },
  {
   "cell_type": "code",
   "execution_count": 20,
   "metadata": {},
   "outputs": [
    {
     "data": {
      "text/plain": [
       "True"
      ]
     },
     "execution_count": 20,
     "metadata": {},
     "output_type": "execute_result"
    }
   ],
   "source": [
    "Rational(1,2) == Rational(3, 6)"
   ]
  },
  {
   "cell_type": "code",
   "execution_count": 21,
   "metadata": {},
   "outputs": [
    {
     "data": {
      "text/plain": [
       "True"
      ]
     },
     "execution_count": 21,
     "metadata": {},
     "output_type": "execute_result"
    }
   ],
   "source": [
    "Rational(1,3) < Rational(1, 2)"
   ]
  },
  {
   "cell_type": "markdown",
   "metadata": {},
   "source": [
    "## Summary: Rationals"
   ]
  },
  {
   "cell_type": "markdown",
   "metadata": {},
   "source": [
    "* Instances of new classes can **behave like numbers**, i.e, be added, multiplied, compared, etc.\n",
    "\n",
    "* This is achieved by providing implementations of **special methods**.\n",
    "\n",
    "* When `python` evaluates the expression `a + b` for objects `a` and `b` it calls upon the\n",
    "`__add__()` method in the class of `a`.\n",
    "\n",
    "* When `python` evaluates the expression `a * b` for objects `a` and `b` it calls upon the\n",
    "`__mul__()` method in the class of `a`.\n",
    "\n",
    "* ...\n",
    "\n",
    "* A complete arithmetic for **rational numbers** can be programmed by\n",
    "providing implementations for the arithmetical and comparison special functions.\n",
    "\n",
    "* A `Rational` class that represents numerators and denominators as `int` values \n",
    "inherits the **precision** of the `int` data type\n",
    "(and does not suffer from rounding errors as experienced with `float` values).\n",
    "\n",
    "* The `python` **standard library** contains an implementation of rational numbers in\n",
    "the form of the `Fraction` class that can be imported with the statement `from fraction import Fraction`.\n",
    "\n",
    "* **Exceptions** are objects that represent errors during program execution.\n",
    "\n",
    "* The `raise` statement can be used to create an exception and stop program\n",
    "execution with an informative error message."
   ]
  },
  {
   "cell_type": "code",
   "execution_count": null,
   "metadata": {
    "collapsed": true
   },
   "outputs": [],
   "source": []
  }
 ],
 "metadata": {
  "kernelspec": {
   "display_name": "Python 3",
   "language": "python",
   "name": "python3"
  },
  "language_info": {
   "codemirror_mode": {
    "name": "ipython",
    "version": 3
   },
   "file_extension": ".py",
   "mimetype": "text/x-python",
   "name": "python",
   "nbconvert_exporter": "python",
   "pygments_lexer": "ipython3",
   "version": "3.6.1"
  }
 },
 "nbformat": 4,
 "nbformat_minor": 2
}
