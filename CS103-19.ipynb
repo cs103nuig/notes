{
 "cells": [
  {
   "cell_type": "markdown",
   "metadata": {},
   "source": [
    "### CS102/CS103\n",
    "\n",
    "Prof. Götz Pfeiffer<br />\n",
    "School of Mathematics, Statistics and Applied Mathematics<br />\n",
    "NUI Galway"
   ]
  },
  {
   "cell_type": "markdown",
   "metadata": {},
   "source": [
    "# Lecture 19: Hamilton's Quaternions"
   ]
  },
  {
   "cell_type": "markdown",
   "metadata": {},
   "source": [
    "The [quaternions](https://en.wikipedia.org/wiki/Quaternion) form a number system that extends the\n",
    "more common system of complex numbers by a further two real dimensions. The were discovered on Monday, October 16, 1843\n",
    "by the Irish mathematician [William Rowen Hamilton](https://en.wikipedia.org/wiki/William_Rowan_Hamilton),\n",
    "while walking with his wife along the Royal Canal in Dublin, on his way to a meeting of the Royal Irish Academy ...\n",
    "\n",
    "Quaternions have many applications to **physics** and **geometry**.  More recently, quaternions are used in **computer graphics**, for programming 3D games and animated movies. "
   ]
  },
  {
   "cell_type": "markdown",
   "metadata": {},
   "source": [
    "Here, we will use quaternions as a further example of classes and objects, in particular as **objects that behave\n",
    "like numbers**.  This gives us opportunities to review known and to see a few more new **useful features of lists and functions** in `python`."
   ]
  },
  {
   "cell_type": "markdown",
   "metadata": {},
   "source": [
    "## Representing Quaternions"
   ]
  },
  {
   "cell_type": "markdown",
   "metadata": {},
   "source": [
    "Quaternions are expressed in a similar manner as complex numbers, except that there are **three imaginary units**\n",
    "$i$, $j$, and $k$ (instead of just $i$).  A typical quaternion thus has **four real coefficients**, $a$, $b$, $c$, and $d$, say, and is written as\n",
    "$$ a + b\\,i +c\\,j + d\\,k.$$\n",
    "So we can write a first version of a `Quaternion` class, that can construct `Quaternion` instances\n",
    "and print them nicely as strings.  The coefficients $a, b, c, d$ are to be stored\n",
    "as a list (or vector) in an **instance variable** `coeffs`."
   ]
  },
  {
   "cell_type": "code",
   "execution_count": 1,
   "metadata": {
    "collapsed": true
   },
   "outputs": [],
   "source": [
    "class Quaternion:\n",
    "    \"Hamilton's quaternions\"\n",
    "    \n",
    "    def __init__(self, coeffs):\n",
    "        \"quaternion constructor\"\n",
    "        self.coeffs = coeffs\n",
    "\n",
    "    def __repr__(self):\n",
    "        \"string representation\"\n",
    "        return \"{} + {}i + {}j + {}k\".format(self.coeffs[0], self.coeffs[1], self.coeffs[2], self.coeffs[3])"
   ]
  },
  {
   "cell_type": "markdown",
   "metadata": {},
   "source": [
    "Now we can create `Quaternion` instances and look at their string representations"
   ]
  },
  {
   "cell_type": "code",
   "execution_count": 2,
   "metadata": {},
   "outputs": [
    {
     "data": {
      "text/plain": [
       "1 + 2i + 3j + 4k"
      ]
     },
     "execution_count": 2,
     "metadata": {},
     "output_type": "execute_result"
    }
   ],
   "source": [
    "q = Quaternion([1, 2, 3, 4])\n",
    "q"
   ]
  },
  {
   "cell_type": "code",
   "execution_count": 3,
   "metadata": {},
   "outputs": [
    {
     "data": {
      "text/plain": [
       "[1, 2, 3, 4]"
      ]
     },
     "execution_count": 3,
     "metadata": {},
     "output_type": "execute_result"
    }
   ],
   "source": [
    "q.coeffs"
   ]
  },
  {
   "cell_type": "markdown",
   "metadata": {},
   "source": [
    "But, wouldn't it be nice if we could \n",
    "\n",
    "1. leave out the square brackets (`[ ]`) around the coefficient list in the constructor call\n",
    "`Quaternion([1, 2, 3, 4])`?\n",
    "\n",
    "2. avoid the repetition `self.coeffs[0], self.coeffs[1], ...` in the string formatting?\n",
    "\n",
    "We can indeed ..."
   ]
  },
  {
   "cell_type": "markdown",
   "metadata": {},
   "source": [
    "## Arbitrary Argument Lists"
   ]
  },
  {
   "cell_type": "markdown",
   "metadata": {},
   "source": [
    "Functions in `python` can be defined so that they take an arbitrary number of arguments.\n",
    "For this, the **last parameter** in the function definition has to be marked with an \n",
    "asterisk (`*`).  If the function is called, after matching arguments up with the other\n",
    "parameters, all remaining arguments will be assigned to that parameter, as a tuple."
   ]
  },
  {
   "cell_type": "code",
   "execution_count": 4,
   "metadata": {
    "collapsed": true
   },
   "outputs": [],
   "source": [
    "class Quaternion:\n",
    "    \"Hamilton's quaternions\"\n",
    "\n",
    "    def __init__(self, *coeffs):\n",
    "        \"quaternion constructor\"\n",
    "        self.coeffs = coeffs\n",
    "\n",
    "    def __repr__(self):\n",
    "        \"string representation\"\n",
    "        return \"{} + {}i + {}j + {}k\".format(self.coeffs[0], self.coeffs[1], self.coeffs[2], self.coeffs[3])"
   ]
  },
  {
   "cell_type": "markdown",
   "metadata": {},
   "source": [
    "Adjusting the class definition accordingly, allows us to now enter quaternion instances with\n",
    "one less pair of brackets."
   ]
  },
  {
   "cell_type": "code",
   "execution_count": 5,
   "metadata": {},
   "outputs": [
    {
     "data": {
      "text/plain": [
       "1 + 2i + 3j + 4k"
      ]
     },
     "execution_count": 5,
     "metadata": {},
     "output_type": "execute_result"
    }
   ],
   "source": [
    "q = Quaternion(1, 2, 3, 4)\n",
    "q"
   ]
  },
  {
   "cell_type": "code",
   "execution_count": 6,
   "metadata": {},
   "outputs": [
    {
     "data": {
      "text/plain": [
       "(1, 2, 3, 4)"
      ]
     },
     "execution_count": 6,
     "metadata": {},
     "output_type": "execute_result"
    }
   ],
   "source": [
    "q.coeffs"
   ]
  },
  {
   "cell_type": "markdown",
   "metadata": {},
   "source": [
    "##  Unpacking Argument Lists."
   ]
  },
  {
   "cell_type": "markdown",
   "metadata": {},
   "source": [
    "The repetition in the string formatting expression is the opposite of the previous problem: Here,\n",
    "the arguments needed for the `format()` call are the individual coefficients, and `self.coeffs`\n",
    "as a list has a pair of brackets too many!  Again, the `*`-operator can be used, this time\n",
    "to unpack a given list (or tuple) into its individual items:  using `format(*self.coeffs)`\n",
    "instead of the old, explicit form."
   ]
  },
  {
   "cell_type": "code",
   "execution_count": 7,
   "metadata": {
    "collapsed": true
   },
   "outputs": [],
   "source": [
    "class Quaternion:\n",
    "    \"Hamilton's quaternions\"\n",
    "\n",
    "    def __init__(self, *coeffs):\n",
    "        \"quaternion constructor\"\n",
    "        self.coeffs = coeffs\n",
    "\n",
    "    def __repr__(self):\n",
    "        \"string representation\"\n",
    "        return \"{} + {}i + {}j + {}k\".format(*self.coeffs)"
   ]
  },
  {
   "cell_type": "code",
   "execution_count": 8,
   "metadata": {},
   "outputs": [
    {
     "data": {
      "text/plain": [
       "1 + 2i + 3j + 4k"
      ]
     },
     "execution_count": 8,
     "metadata": {},
     "output_type": "execute_result"
    }
   ],
   "source": [
    "q = Quaternion(1, 2, 3, 4)\n",
    "q"
   ]
  },
  {
   "cell_type": "markdown",
   "metadata": {},
   "source": [
    "## Adding  and Subtracting Quaternions"
   ]
  },
  {
   "cell_type": "markdown",
   "metadata": {},
   "source": [
    "Back to the quaternions.  The **negative** of a quaternion has as its coefficients the negatives\n",
    "of the original coefficients.  If $w = a + b\\,i + c\\,j + d\\,k$, then\n",
    "$$-w = -a -b\\,i -c\\,j -d\\,k.$$\n",
    "This can be implemented as the **special method** `__neg__()`, as follows."
   ]
  },
  {
   "cell_type": "code",
   "execution_count": 9,
   "metadata": {
    "collapsed": true
   },
   "outputs": [],
   "source": [
    "class Quaternion:\n",
    "    \"Hamilton's quaternions\"\n",
    "\n",
    "    def __init__(self, *coeffs):\n",
    "        \"quaternion constructor\"\n",
    "        self.coeffs = coeffs\n",
    "\n",
    "    def __repr__(self):\n",
    "        \"string representation\"\n",
    "        return \"{} + {}i + {}j + {}k\".format(*self.coeffs)\n",
    "    \n",
    "    def __neg__(self):\n",
    "        \"-self\"\n",
    "        return Quaternion(-self.coeffs[0], -self.coeffs[1], -self.coeffs[2], -self.coeffs[3])"
   ]
  },
  {
   "cell_type": "code",
   "execution_count": 10,
   "metadata": {},
   "outputs": [
    {
     "data": {
      "text/plain": [
       "-1 + -2i + -3j + -4k"
      ]
     },
     "execution_count": 10,
     "metadata": {},
     "output_type": "execute_result"
    }
   ],
   "source": [
    "q = Quaternion(1,2 , 3, 4)\n",
    "-q"
   ]
  },
  {
   "cell_type": "markdown",
   "metadata": {},
   "source": [
    "Ok, this could be printed with a bit more care, but it's not wrong! \n",
    "More worrying is the repetition in forming the negatives of all four coefficients.\n",
    "This will most likely happen again ..."
   ]
  },
  {
   "cell_type": "markdown",
   "metadata": {},
   "source": [
    "**Sums** of quaternions are formed by simply adding corresponding coefficients.\n",
    "That is the sum of $z = a_1 + b_1 i + c_1 j + d_1 k$ and $w = a_2 + b_2 i + c_2 j + d_2 k$ is the\n",
    "quaternion\n",
    "$$\n",
    "z + w = (a_1 + a_2) + (b_1 + b_2) i + (c_1 + c_2) j + (d_1 + d_2) k.\n",
    "$$ "
   ]
  },
  {
   "cell_type": "code",
   "execution_count": 11,
   "metadata": {
    "collapsed": true
   },
   "outputs": [],
   "source": [
    "class Quaternion:\n",
    "    \"Hamilton's quaternions\"\n",
    "\n",
    "    def __init__(self, *coeffs):\n",
    "        \"quaternion constructor\"\n",
    "        self.coeffs = coeffs\n",
    "\n",
    "    def __repr__(self):\n",
    "        \"string representation\"\n",
    "        return \"{} + {}i + {}j + {}k\".format(*self.coeffs)\n",
    "    \n",
    "    def __neg__(self):\n",
    "        \"-self\"\n",
    "        return Quaternion(-self.coeffs[0], -self.coeffs[1], -self.coeffs[2], -self.coeffs[3])   \n",
    "    \n",
    "    def __add__(self, other):\n",
    "        \"self + other\"\n",
    "        return Quaternion(self.coeffs[0] + other.coeffs[0],\n",
    "                          self.coeffs[1] + other.coeffs[1],\n",
    "                          self.coeffs[2] + other.coeffs[2],\n",
    "                          self.coeffs[3] + other.coeffs[3])\n",
    "    \n",
    "    def __sub__(self, other):\n",
    "        \"self - other\"\n",
    "        return self + -other"
   ]
  },
  {
   "cell_type": "code",
   "execution_count": 12,
   "metadata": {},
   "outputs": [
    {
     "data": {
      "text/plain": [
       "2 + 3i + 4j + 5k"
      ]
     },
     "execution_count": 12,
     "metadata": {},
     "output_type": "execute_result"
    }
   ],
   "source": [
    "q = Quaternion(1, 2, 3, 4)\n",
    "w = Quaternion(1, 1, 1, 1)\n",
    "q + w"
   ]
  },
  {
   "cell_type": "code",
   "execution_count": 13,
   "metadata": {},
   "outputs": [
    {
     "data": {
      "text/plain": [
       "0 + 1i + 2j + 3k"
      ]
     },
     "execution_count": 13,
     "metadata": {},
     "output_type": "execute_result"
    }
   ],
   "source": [
    "q - w"
   ]
  },
  {
   "cell_type": "markdown",
   "metadata": {},
   "source": [
    "We get **differences** of quaternions as before, as combination of negation and addition.  But the code \n",
    "for `__add__()` is again very repetitive (hence error-prone).  Wouldn't it be nice, if we could use \n",
    "a loop to make all these sums from a single recipe ..."
   ]
  },
  {
   "cell_type": "markdown",
   "metadata": {},
   "source": [
    "## List Comprehension"
   ]
  },
  {
   "cell_type": "markdown",
   "metadata": {},
   "source": [
    "In mathematics, sets (or sequences) can be described in **set builder notation**,\n",
    "by the **form**, or by the **properties** of the items in the set. For example,\n",
    "$$\n",
    "S = \\{ x^2 \\mid x = 0, \\dots, 9\\} \n",
    "$$\n",
    "is the set of squares of the numbers $0$ to $9$. In `python`, using a similar notation,\n",
    "this set can be obtained as"
   ]
  },
  {
   "cell_type": "code",
   "execution_count": 14,
   "metadata": {},
   "outputs": [
    {
     "data": {
      "text/plain": [
       "[0, 1, 4, 9, 16, 25, 36, 49, 64, 81]"
      ]
     },
     "execution_count": 14,
     "metadata": {},
     "output_type": "execute_result"
    }
   ],
   "source": [
    "[x**2 for x in range(10)]"
   ]
  },
  {
   "cell_type": "markdown",
   "metadata": {},
   "source": [
    "In the same way, the negatives of the coefficients of the quaternion `q` can be obtained as\n"
   ]
  },
  {
   "cell_type": "code",
   "execution_count": 15,
   "metadata": {},
   "outputs": [
    {
     "data": {
      "text/plain": [
       "[-1, -2, -3, -4]"
      ]
     },
     "execution_count": 15,
     "metadata": {},
     "output_type": "execute_result"
    }
   ],
   "source": [
    "[-x for x in q.coeffs]"
   ]
  },
  {
   "cell_type": "markdown",
   "metadata": {},
   "source": [
    "And the sums of corresponding coefficients of `q` and `w` as"
   ]
  },
  {
   "cell_type": "code",
   "execution_count": 16,
   "metadata": {},
   "outputs": [
    {
     "data": {
      "text/plain": [
       "[2, 3, 4, 5]"
      ]
     },
     "execution_count": 16,
     "metadata": {},
     "output_type": "execute_result"
    }
   ],
   "source": [
    "[q.coeffs[i] + w.coeffs[i] for i in range(4)]"
   ]
  },
  {
   "cell_type": "markdown",
   "metadata": {},
   "source": [
    "Or, using the built-in `zip()` function, which returns a list of corresponding items in the given lists,  even as"
   ]
  },
  {
   "cell_type": "code",
   "execution_count": 17,
   "metadata": {},
   "outputs": [
    {
     "data": {
      "text/plain": [
       "[2, 3, 4, 5]"
      ]
     },
     "execution_count": 17,
     "metadata": {},
     "output_type": "execute_result"
    }
   ],
   "source": [
    "[x + y for x, y in zip(q.coeffs, w.coeffs)]"
   ]
  },
  {
   "cell_type": "code",
   "execution_count": 18,
   "metadata": {},
   "outputs": [
    {
     "data": {
      "text/plain": [
       "[(1, 1), (2, 1), (3, 1), (4, 1)]"
      ]
     },
     "execution_count": 18,
     "metadata": {},
     "output_type": "execute_result"
    }
   ],
   "source": [
    "list(zip(q.coeffs, w.coeffs))"
   ]
  },
  {
   "cell_type": "markdown",
   "metadata": {},
   "source": [
    "The class definition can be adjusted accordingly, and the gained space can be used\n",
    "to check the type of the `other` argument, and to raise a `TypeError` in case it is not \n",
    "a quaternion instance."
   ]
  },
  {
   "cell_type": "code",
   "execution_count": 19,
   "metadata": {
    "collapsed": true
   },
   "outputs": [],
   "source": [
    "class Quaternion:\n",
    "    \"Hamilton's quaternions\"\n",
    "\n",
    "    def __init__(self, *coeffs):\n",
    "        \"quaternion constructor\"\n",
    "        self.coeffs = coeffs\n",
    "\n",
    "    def __repr__(self):\n",
    "        \"string representation\"\n",
    "        return \"{} + {}i + {}j + {}k\".format(*self.coeffs)\n",
    "    \n",
    "    def __neg__(self):\n",
    "        \"-self\"\n",
    "        return Quaternion(*[-x for x in self.coeffs])   \n",
    "    \n",
    "    def __add__(self, other):\n",
    "        \"self + other\"\n",
    "        if not isinstance(other, type(self)):\n",
    "            raise TypeError(\"type mismatch: {} + {}\"\n",
    "                        .format(*[type(x).__name__ for x in [self, other]]))\n",
    "        return Quaternion(*[x + y for x, y in zip(self.coeffs, other.coeffs)])\n",
    "    \n",
    "    def __sub__(self, other):\n",
    "        \"self - other\"\n",
    "        return self + -other"
   ]
  },
  {
   "cell_type": "code",
   "execution_count": 20,
   "metadata": {},
   "outputs": [
    {
     "data": {
      "text/plain": [
       "2 + 3i + 4j + 5k"
      ]
     },
     "execution_count": 20,
     "metadata": {},
     "output_type": "execute_result"
    }
   ],
   "source": [
    "q = Quaternion(1, 2, 3, 4)\n",
    "w = Quaternion(1, 1, 1, 1)\n",
    "q + w"
   ]
  },
  {
   "cell_type": "markdown",
   "metadata": {},
   "source": [
    "## Multiplying Quaternions"
   ]
  },
  {
   "cell_type": "markdown",
   "metadata": {},
   "source": [
    "The **product** of two quaternions $q = a_0 + a_1 i + a_2 j + a_3 k$ and $w = b_1 + b_2 i + b_3 j + b_4 k$ is determined by the rules\n",
    "$$i^2 = j^2 = k^2 = ijk = -1$$\n",
    "(the ones that Hamilton at the time could not resist carving into the stone of Brougham Bridge ...)\n",
    "\n",
    "From these, one gets the following multiplication table.\n",
    "\n",
    "|$1$|$i$|$j$|$k$\n",
    ":--|:-:|:-:|:-:|:-:\n",
    "$1$|$1$|$i$|$j$|$k$\n",
    "$i$|$i$|$-1$|$k$|$-j$\n",
    "$j$|$j$|$-k$|$-1$|$i$\n",
    "$k$|$k$|$j$|$-i$|$-1$\n",
    "\n",
    "(Note that this multiplication is **not commutative**: $ij = k$, but $ji = -k$.)"
   ]
  },
  {
   "cell_type": "markdown",
   "metadata": {},
   "source": [
    "From this table, it follows that $qw = c_0 + c_1 i + c_2 j + c_3 k$, with coefficients\n",
    "$$\n",
    "c_0 = a_0 b_0 - a_1 b_1 - a_2 b_2 - a_3 b_3, \\\\\n",
    "c_1 = a_0 b_1 + a_1 b_0 + a_2 b_3 - a_3 b_2, \\\\\n",
    "c_2 = a_0 b_2 - a_1 b_3 + a_2 b_0 + a_3 b_1, \\\\\n",
    "c_3 = a_0 b_3 + a_1 b_2 - a_2 b_2 + a_3 b_0.\n",
    "$$\n",
    "These formulas for the coefficients form the basis of an implementation of quaternionic multiplication\n",
    "as special method `__mult__()` in the `Quaternion` class."
   ]
  },
  {
   "cell_type": "markdown",
   "metadata": {},
   "source": [
    "We also provide an implementation of the special method `__rmul__()` which allows **right multiplication** of a quaternion instance with a scalar, using the formula\n",
    "$$\n",
    "\\alpha q = \\alpha a_0 + \\alpha a_1 i + \\alpha a_2 j + \\alpha a_3 k,\n",
    "$$\n",
    "the coefficients of the scalar multiple $\\alpha q$ of $q$ are the $\\alpha$-multiples of the coefficients of $q$."
   ]
  },
  {
   "cell_type": "code",
   "execution_count": 21,
   "metadata": {
    "collapsed": true
   },
   "outputs": [],
   "source": [
    "class Quaternion:\n",
    "    \"Hamilton's quaternions\"\n",
    "\n",
    "    def __init__(self, *coeffs):\n",
    "        \"quaternion constructor\"\n",
    "        self.coeffs = coeffs\n",
    "\n",
    "    def __repr__(self):\n",
    "        \"string representation\"\n",
    "        return \"{} + {}i + {}j + {}k\".format(*self.coeffs)\n",
    "    \n",
    "    def __neg__(self):\n",
    "        \"-self\"\n",
    "        return Quaternion(*[-x for x in self.coeffs])   \n",
    "    \n",
    "    def __add__(self, other):\n",
    "        \"self + other\"\n",
    "        if not isinstance(other, type(self)):\n",
    "            raise TypeError(\"type mismatch: {} + {}\"\n",
    "                        .format(*[type(x).__name__ for x in [self, other]]))\n",
    "        return Quaternion(*[x + y for x, y in zip(self.coeffs, other.coeffs)])\n",
    "    \n",
    "    def __sub__(self, other):\n",
    "        \"self - other\"\n",
    "        return self + -other\n",
    "    \n",
    "    def __mul__(self, other):\n",
    "        \"self * other\"\n",
    "        if not isinstance(other, type(self)):\n",
    "            raise TypeError(\"type mismatch: {} * {}\"\n",
    "                        .format(*[type(x).__name__ for x in [self, other]]))\n",
    "\n",
    "        a, b = self.coeffs, other.coeffs\n",
    "        return Quaternion(\n",
    "            a[0]*b[0] - a[1]*b[1] - a[2]*b[2] - a[3]*b[3],\n",
    "            a[0]*b[1] + a[1]*b[0] + a[2]*b[3] - a[3]*b[2],\n",
    "            a[0]*b[2] - a[1]*b[3] + a[2]*b[0] + a[3]*b[1],\n",
    "            a[0]*b[3] + a[1]*b[2] - a[2]*b[1] + a[3]*b[0]\n",
    "        )\n",
    "    \n",
    "    def __rmul__(self, number):\n",
    "        \"number * self\"\n",
    "        return Quaternion(*[number * x for x in self.coeffs])"
   ]
  },
  {
   "cell_type": "code",
   "execution_count": 22,
   "metadata": {},
   "outputs": [
    {
     "data": {
      "text/plain": [
       "-8 + 2i + 6j + 4k"
      ]
     },
     "execution_count": 22,
     "metadata": {},
     "output_type": "execute_result"
    }
   ],
   "source": [
    "q, w = Quaternion(1, 2, 3, 4), Quaternion(1, 1, 1, 1)\n",
    "q * w"
   ]
  },
  {
   "cell_type": "code",
   "execution_count": 23,
   "metadata": {},
   "outputs": [
    {
     "data": {
      "text/plain": [
       "-8 + 4i + 2j + 6k"
      ]
     },
     "execution_count": 23,
     "metadata": {},
     "output_type": "execute_result"
    }
   ],
   "source": [
    "w * q"
   ]
  },
  {
   "cell_type": "code",
   "execution_count": 24,
   "metadata": {},
   "outputs": [
    {
     "data": {
      "text/plain": [
       "-0.5 + -1.0i + -1.5j + -2.0k"
      ]
     },
     "execution_count": 24,
     "metadata": {},
     "output_type": "execute_result"
    }
   ],
   "source": [
    "-1/2 * q "
   ]
  },
  {
   "cell_type": "markdown",
   "metadata": {},
   "source": [
    "## Conjugate, Norm, Inverse, Equality"
   ]
  },
  {
   "cell_type": "markdown",
   "metadata": {},
   "source": [
    "Like a complex number, a quaternion has a conjugate.  The **conjugate** of the quaternion $q = a + b\\,i + c\\,j + d\\,k$ is the quaternion\n",
    "$$\n",
    "q^* = a - b\\,i - c\\,j - d\\,k\n",
    "$$\n",
    "```python\n",
    "def conjugate(self):\n",
    "    \"self^*\"\n",
    "    return Quaternion(self.coeffs[0], *[-x for x in self.coeffs[1:]])\n",
    "```"
   ]
  },
  {
   "cell_type": "markdown",
   "metadata": {},
   "source": [
    "The **norm** of the quaternion $q = a + b\\,i + c\\,j + d\\,k$ is the real number\n",
    "$$\\|q\\| = \\sqrt{a^2 + b^2 + c^2 + d^2}.$$\n",
    "```python\n",
    "from math import sqrt\n",
    "\n",
    "def norm(self):\n",
    "    return sqrt(sum(x ** 2 for x in self.coeffs))\n",
    "\n",
    "```"
   ]
  },
  {
   "cell_type": "markdown",
   "metadata": {},
   "source": [
    "The norm has the property\n",
    "$$\\|q\\|^2 = q q^*.$$\n",
    "Hence, the **inverse** of a quaternion $q$ is the quaternion \n",
    "$$q^{-1} = \\|q\\|^{-2} q^*.$$\n",
    "```python\n",
    "def norm_squared(self):\n",
    "    return sum(x ** 2 for x in self.coeffs)\n",
    "\n",
    "def inverse(self):\n",
    "    return 1 / self.norm_squared() * self.conjugate()\n",
    "```"
   ]
  },
  {
   "cell_type": "markdown",
   "metadata": {},
   "source": [
    "Two quaternions are **equal**, if they have the same coefficients.\n",
    "```python\n",
    "def __eq__(self, other):\n",
    "    \"self == other\"\n",
    "    if not isinstance(other, type(self)):\n",
    "        return False\n",
    "    for x, y in zip(self.coeffs, other.coeffs):\n",
    "        if x != y:\n",
    "            return False\n",
    "    return True\n",
    "```\n",
    "We can use this, for example, to verify the **identity**\n",
    "$$\n",
    "q^* = -\\frac{1}{2} (q + iqi + jqj + kqk)\n",
    "$$"
   ]
  },
  {
   "cell_type": "code",
   "execution_count": 25,
   "metadata": {
    "collapsed": true
   },
   "outputs": [],
   "source": [
    "from quaternion import *\n",
    "\n",
    "o = Quaternion(1, 0, 0, 0)\n",
    "i = Quaternion(0, 1, 0, 0)\n",
    "j = Quaternion(0, 0, 1, 0)\n",
    "k = Quaternion(0, 0, 0, 1)\n",
    "q = o + 2*i + 3*j + 4*k\n",
    "w = Quaternion(1, 1, 1, 1)"
   ]
  },
  {
   "cell_type": "code",
   "execution_count": 26,
   "metadata": {},
   "outputs": [
    {
     "data": {
      "text/plain": [
       "1 + 2i + 3j + 4k"
      ]
     },
     "execution_count": 26,
     "metadata": {},
     "output_type": "execute_result"
    }
   ],
   "source": [
    "q"
   ]
  },
  {
   "cell_type": "code",
   "execution_count": 27,
   "metadata": {},
   "outputs": [
    {
     "data": {
      "text/plain": [
       "True"
      ]
     },
     "execution_count": 27,
     "metadata": {},
     "output_type": "execute_result"
    }
   ],
   "source": [
    "-1/2 * (q + i*q*i + j*q*j + k*q*k) == q.conjugate()"
   ]
  },
  {
   "cell_type": "markdown",
   "metadata": {},
   "source": [
    "## Summary: Objects, Lists and Functions"
   ]
  },
  {
   "cell_type": "markdown",
   "metadata": {},
   "source": [
    "* Objects can behave like numbers, when addition and multiplication is implemented as **special functions**.\n",
    "\n",
    "* In particular, the special function `__rmul__()` implements **right multiplication** of an instance with\n",
    "a scalar.\n",
    "\n",
    "* Attempting to add or multiply instances of **incompatible classes** normally raises a `TypeError`\n",
    "(as opposed to simply printing a message).\n",
    "\n",
    "* A `python` function can be defined to take an **arbitrary number of arguments**; for this, the **last formal parameter** in the **function definition** is marked with an **asterisk** (`*`).\n",
    "\n",
    "* Conversely, if a **list valued argument** in a **function call** is marked with an asterisk, the list is **unpacked** into individual items.\n",
    "\n",
    "* The built-in `zip()` function takes lists as arguments and returns a list of lists (or tuples)\n",
    "of corresponding list items.\n",
    "\n",
    "* **List comprehension** uses a **generator expression** to build a list of items of a particular **form**."
   ]
  },
  {
   "cell_type": "code",
   "execution_count": null,
   "metadata": {
    "collapsed": true
   },
   "outputs": [],
   "source": []
  }
 ],
 "metadata": {
  "kernelspec": {
   "display_name": "Python 3",
   "language": "python",
   "name": "python3"
  },
  "language_info": {
   "codemirror_mode": {
    "name": "ipython",
    "version": 3
   },
   "file_extension": ".py",
   "mimetype": "text/x-python",
   "name": "python",
   "nbconvert_exporter": "python",
   "pygments_lexer": "ipython3",
   "version": "3.7.6"
  }
 },
 "nbformat": 4,
 "nbformat_minor": 2
}
