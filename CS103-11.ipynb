{
 "cells": [
  {
   "cell_type": "markdown",
   "metadata": {},
   "source": [
    "### CS102/CS103\n",
    "\n",
    "Prof. Götz Pfeiffer<br />\n",
    "School of Mathematics, Statistics and Applied Mathematics<br />\n",
    "NUI Galway"
   ]
  },
  {
   "cell_type": "markdown",
   "metadata": {},
   "source": [
    "# Lecture 11: Complex Conditions"
   ]
  },
  {
   "cell_type": "markdown",
   "metadata": {},
   "source": [
    "Conditions (i.e., expressions that evaluate to \n",
    "`True` or `False`) decide about the **flow of control** in decision statements and indefinite loops.\n",
    "As such they represent essential elements of a program.  For the programmer it is therefore\n",
    "important to understand what can be expressed as\n",
    "a condition and how this is done.  Here,\n",
    "we look at the **Boolean algebra** tools that\n",
    "`python` provides to deal with situations that\n",
    "require the handling of several conditions at once.\n",
    "\n",
    "Before that, some words on the recent practicals."
   ]
  },
  {
   "cell_type": "markdown",
   "metadata": {},
   "source": [
    "## Practicals"
   ]
  },
  {
   "cell_type": "markdown",
   "metadata": {},
   "source": [
    "* We now have our own `jupyter` notebook server\n",
    "```\n",
    "jupyter.nuigalway.ie\n",
    "```\n",
    "This should be more reliable (and less busy) than\n",
    "[`try.jupyter.org`](http://try.jupyter.org).\n",
    "\n",
    "* For now, this server is only accessible **on campus**.\n",
    "\n",
    "* In order to use the server you need to be registered.  Then you can use your student ID\n",
    "as **username and as password** to log in and\n",
    "start a notebook.\n",
    "\n",
    "* The Programming Exercises now contain, in a cell\n",
    "below you answer, the complete list of tests that\n",
    "is applied to determine whether you get the points or not: you can check this yourself!\n",
    "\n",
    "* For this to work, your answer needs to define\n",
    "**functions** that take their **input from parameters**\n",
    "and **return the value** of whatever they compute."
   ]
  },
  {
   "cell_type": "markdown",
   "metadata": {},
   "source": [
    "##  Complex Conditions"
   ]
  },
  {
   "cell_type": "markdown",
   "metadata": {},
   "source": [
    "Frequently, a decision involves several conditions\n",
    "at the same time, possibly related through some **logic**."
   ]
  },
  {
   "cell_type": "markdown",
   "metadata": {},
   "source": [
    "**Example.** Find all names that start with the letter\n",
    "`'R'` **and** end with the letter `'N'`.\n",
    "Two conditions, connected by \"and\", meaning that they\n",
    "have to be met at the same time."
   ]
  },
  {
   "cell_type": "markdown",
   "metadata": {},
   "source": [
    "First, we get a list of names from a **file**.  (Note the use of the accumulator pattern.  More on files later ...)"
   ]
  },
  {
   "cell_type": "code",
   "execution_count": 1,
   "metadata": {},
   "outputs": [
    {
     "data": {
      "text/plain": [
       "109"
      ]
     },
     "execution_count": 1,
     "metadata": {},
     "output_type": "execute_result"
    }
   ],
   "source": [
    "names = []\n",
    "names_file = open(\"names.txt\")\n",
    "for line in names_file:\n",
    "    name = line.strip()\n",
    "    names.append(name)\n",
    "names_file.close()\n",
    "len(names)"
   ]
  },
  {
   "cell_type": "markdown",
   "metadata": {},
   "source": [
    "Then we write a small function that does the selecting. (Accumulator pattern, again!)"
   ]
  },
  {
   "cell_type": "code",
   "execution_count": 2,
   "metadata": {},
   "outputs": [
    {
     "data": {
      "text/plain": [
       "['RYAN', 'RONAN']"
      ]
     },
     "execution_count": 2,
     "metadata": {},
     "output_type": "execute_result"
    }
   ],
   "source": [
    "def selected_names_1(names, first, last):\n",
    "    \"select all names that start with 'first' and end with 'last'\"\n",
    "    selection = []\n",
    "    for name in names:\n",
    "        if name.startswith(first):\n",
    "            if name.endswith(last):\n",
    "                selection.append(name)\n",
    "    return selection\n",
    "\n",
    "selected_names_1(names, 'R', 'N')"
   ]
  },
  {
   "cell_type": "markdown",
   "metadata": {},
   "source": [
    "This works, but the program is **ugly** as it introduces an additional (and unnecessary as we will see) level of indentation."
   ]
  },
  {
   "cell_type": "markdown",
   "metadata": {},
   "source": [
    "**Example.**  Find all names that end with `'Y'`\n",
    "**or** start with `'RO'`.  Two conditions, connected by\n",
    "\"or\", meaning that it is sufficient to satisfy one of the two."
   ]
  },
  {
   "cell_type": "code",
   "execution_count": 3,
   "metadata": {},
   "outputs": [
    {
     "data": {
      "text/plain": [
       "['FINLEY', 'HENRY', 'EMILY', 'RORY', 'RONAN', 'DANNY', 'BARRY']"
      ]
     },
     "execution_count": 3,
     "metadata": {},
     "output_type": "execute_result"
    }
   ],
   "source": [
    "def selected_names_2(names, first, last):\n",
    "    \"select all names that start with 'first' or end with 'last'\"\n",
    "    selection = []\n",
    "    for name in names:\n",
    "        if name.startswith(first):\n",
    "            selection.append(name)\n",
    "        else:\n",
    "            if name.endswith(last):\n",
    "                selection.append(name)\n",
    "    return selection\n",
    "\n",
    "selected_names_2(names, 'RO', 'Y')"
   ]
  },
  {
   "cell_type": "markdown",
   "metadata": {},
   "source": [
    "This works, but the program is **ugly** as part\n",
    "of the code (`selection.append(name)`) is\n",
    "(unnecessarily) repeated."
   ]
  },
  {
   "cell_type": "markdown",
   "metadata": {},
   "source": [
    "**Example.** Find all names that **don't**\n",
    "contain the letter `N`.  One condition, negated,\n",
    "meaning that action should be taken only when the\n",
    "condition is **not** satisfied."
   ]
  },
  {
   "cell_type": "code",
   "execution_count": 4,
   "metadata": {},
   "outputs": [
    {
     "data": {
      "text/plain": [
       "['ELLEN',\n",
       " 'HUGO',\n",
       " 'FINLEY',\n",
       " 'HENRY',\n",
       " 'MOLLIE',\n",
       " 'BRIEN',\n",
       " 'JOHN',\n",
       " 'EMILY',\n",
       " 'OISIN',\n",
       " 'SOPHIE',\n",
       " 'GENIVEVE',\n",
       " 'KELVIN',\n",
       " 'COLM',\n",
       " 'EUGENE',\n",
       " 'RORY',\n",
       " 'JOSEPH',\n",
       " 'EILISH',\n",
       " 'BETH',\n",
       " 'NOEL',\n",
       " 'KEVIN',\n",
       " 'FINN',\n",
       " 'EOIN',\n",
       " 'DILLON',\n",
       " 'BRIDGET',\n",
       " 'STEPHEN',\n",
       " 'SCOTT',\n",
       " 'CONOR',\n",
       " 'BEN',\n",
       " 'JEROEN',\n",
       " 'COLLETTE',\n",
       " 'KEITH',\n",
       " 'DIEGO',\n",
       " 'LUKE',\n",
       " 'SZYMON']"
      ]
     },
     "execution_count": 4,
     "metadata": {},
     "output_type": "execute_result"
    }
   ],
   "source": [
    "def selected_names_3(names, letter):\n",
    "    \"select all names that do not contain 'letter'\"\n",
    "    selection = []\n",
    "    for name in names:\n",
    "        if letter in name:\n",
    "            pass\n",
    "        else:\n",
    "            selection.append(name)\n",
    "    return selection\n",
    "\n",
    "selected_names_3(names, 'A')"
   ]
  },
  {
   "cell_type": "code",
   "execution_count": 5,
   "metadata": {},
   "outputs": [
    {
     "data": {
      "text/plain": [
       "['ELLEN',\n",
       " 'HUGO',\n",
       " 'SHAUNA',\n",
       " 'DYLAN',\n",
       " 'AOIFE',\n",
       " 'RYAN',\n",
       " 'HANNAH',\n",
       " 'FINLEY',\n",
       " 'ADRIAN',\n",
       " 'RACHEL',\n",
       " 'HENRY',\n",
       " 'MOLLIE',\n",
       " 'ADAM',\n",
       " 'BRIEN',\n",
       " 'ETORNAM',\n",
       " 'JOHN',\n",
       " 'EMILY',\n",
       " 'OISIN',\n",
       " 'CLIONA',\n",
       " 'AMED',\n",
       " 'MAIRENN',\n",
       " 'SEAN',\n",
       " 'DAMIEN',\n",
       " 'SOPHIE',\n",
       " 'DAYLE',\n",
       " 'CIARA',\n",
       " 'DAVID',\n",
       " 'VLAD',\n",
       " 'GENIVEVE',\n",
       " 'MATTHEW',\n",
       " 'KELVIN',\n",
       " 'JESSICA',\n",
       " 'MICHAEL',\n",
       " 'COLM',\n",
       " 'LIAM',\n",
       " 'ANNA MARIA',\n",
       " 'STEWART',\n",
       " 'ZAHARA',\n",
       " 'EUGENE',\n",
       " 'ETHAN',\n",
       " 'PAUL',\n",
       " 'MARK',\n",
       " 'RORY',\n",
       " 'JOSEPH',\n",
       " 'EAMONN',\n",
       " 'EILISH',\n",
       " 'JACK',\n",
       " 'WILLIAM',\n",
       " 'CATHAL',\n",
       " 'BETH',\n",
       " 'RONAN',\n",
       " 'ALAN',\n",
       " 'ARSHIA',\n",
       " 'EMMA',\n",
       " 'SHANE',\n",
       " 'SARAH',\n",
       " 'NOEL',\n",
       " 'DEARBHLA',\n",
       " 'CAOIMHE',\n",
       " 'NATALIE',\n",
       " 'EWAN',\n",
       " 'CATHERINE',\n",
       " 'DANNY',\n",
       " 'CORMAC',\n",
       " 'JASON',\n",
       " 'ANDREJS',\n",
       " 'THOMAS',\n",
       " 'DAIRE',\n",
       " 'KEVIN',\n",
       " 'FINN',\n",
       " 'EDWARD',\n",
       " 'EOIN',\n",
       " 'DILLON',\n",
       " 'CALE',\n",
       " 'BRIDGET',\n",
       " 'STEPHEN',\n",
       " 'PEARSE',\n",
       " 'PAURIC',\n",
       " 'CALLUM',\n",
       " 'STEPHANIE',\n",
       " 'ALISON',\n",
       " 'SAMUEL',\n",
       " 'CIAN',\n",
       " 'LISA',\n",
       " 'SCOTT',\n",
       " 'CONOR',\n",
       " 'EVAN',\n",
       " 'KATE',\n",
       " 'NAOISE',\n",
       " 'MICHEAL',\n",
       " 'BEN',\n",
       " 'ENDA',\n",
       " 'BARRY',\n",
       " 'JEROEN',\n",
       " 'JORDAN',\n",
       " 'LORCAN',\n",
       " 'DARRAGH',\n",
       " 'COLLETTE',\n",
       " 'PADRAIG',\n",
       " 'BRIAN',\n",
       " 'KORDIAN',\n",
       " 'KEITH',\n",
       " 'KATIE',\n",
       " 'SEAMUS',\n",
       " 'DIEGO',\n",
       " 'JAMES',\n",
       " 'MEGAN',\n",
       " 'LUKE',\n",
       " 'SZYMON']"
      ]
     },
     "execution_count": 5,
     "metadata": {},
     "output_type": "execute_result"
    }
   ],
   "source": [
    "names"
   ]
  },
  {
   "cell_type": "markdown",
   "metadata": {},
   "source": [
    "This works but the program is **ugly** as an entire\n",
    "branch of the `if` statement is **wasted**."
   ]
  },
  {
   "cell_type": "markdown",
   "metadata": {},
   "source": [
    "## Boolean Operators"
   ]
  },
  {
   "cell_type": "markdown",
   "metadata": {},
   "source": [
    "`python` contains operations `and`, `or` and `not` on the Boolean data type\n",
    "`bool` that can be used in situations like the ones above to simplify the program logic.\n",
    "Simple programs are easier to write,\n",
    "easier to read and easier to maintain."
   ]
  },
  {
   "cell_type": "markdown",
   "metadata": {},
   "source": [
    "### `and`"
   ]
  },
  {
   "cell_type": "markdown",
   "metadata": {},
   "source": [
    "The effect of the `and` operator is best described\n",
    "in the form of an explicit **truth table**, listing\n",
    "all possible combinations of input together with the\n",
    "resulting output:\n",
    "\n",
    "$P$ | $Q$ | $P$ `and` $Q$\n",
    ":-:|:-:|:-:\n",
    "`True`|`True`|`True`\n",
    "`True`|`False`|`False`\n",
    "`False`|`True`|`False`\n",
    "`False`|`False`|`False`\n",
    "\n",
    "Here, $P$ and $Q$ stand for two conditions,\n",
    "i.e., expressions whose value is either `True` or `False`.  The value of the expression \"$P$ `and` $Q$\"\n",
    "is determined according to the table, depending\n",
    "on the values of $P$ and $Q$. \n",
    "\n",
    "In short:\n",
    "\"$P$ `and` $Q$\" is only `True` if both $P$ and $Q$ are `True`."
   ]
  },
  {
   "cell_type": "code",
   "execution_count": 6,
   "metadata": {},
   "outputs": [
    {
     "data": {
      "text/plain": [
       "['RYAN', 'RONAN']"
      ]
     },
     "execution_count": 6,
     "metadata": {},
     "output_type": "execute_result"
    }
   ],
   "source": [
    "def selected_names_4(names, first, last):\n",
    "    \"select all names that start with 'first' and end with 'last'\"\n",
    "    selection = []\n",
    "    for name in names:\n",
    "        if name.startswith(first) and name.endswith(last):\n",
    "            selection.append(name)\n",
    "    return selection\n",
    "\n",
    "selected_names_4(names, 'R', 'N')"
   ]
  },
  {
   "cell_type": "markdown",
   "metadata": {},
   "source": [
    "Nice!"
   ]
  },
  {
   "cell_type": "markdown",
   "metadata": {},
   "source": [
    "### `or`"
   ]
  },
  {
   "cell_type": "markdown",
   "metadata": {},
   "source": [
    "The effect of the `or` operator is best described\n",
    "in the form of an explicit **truth table**, listing\n",
    "all possible combinations of input together with the\n",
    "resulting output:\n",
    "\n",
    "$P$ | $Q$ | $P$ `or` $Q$\n",
    ":-:|:-:|:-:\n",
    "`True`|`True`|`True`\n",
    "`True`|`False`|`True`\n",
    "`False`|`True`|`True`\n",
    "`False`|`False`|`False`\n",
    "\n",
    "Here, $P$ and $Q$ stand for two conditions,\n",
    "i.e., expressions whose value is either `True` or `False`.  The value of the expression \"$P$ `or` $Q$\"\n",
    "is determined according to the table, depending\n",
    "on the values of $P$ and $Q$. \n",
    "\n",
    "In short:\n",
    "\"$P$ `or` $Q$\" is only `False` if both $P$ and $Q$ are `False`."
   ]
  },
  {
   "cell_type": "code",
   "execution_count": 7,
   "metadata": {},
   "outputs": [
    {
     "data": {
      "text/plain": [
       "['FINLEY', 'HENRY', 'EMILY', 'RORY', 'RONAN', 'DANNY', 'BARRY']"
      ]
     },
     "execution_count": 7,
     "metadata": {},
     "output_type": "execute_result"
    }
   ],
   "source": [
    "def selected_names_5(names, first, last):\n",
    "    \"select all names that start with 'first' or end with 'last'\"\n",
    "    selection = []\n",
    "    for name in names:\n",
    "        if name.startswith(first) or name.endswith(last):\n",
    "            selection.append(name)\n",
    "    return selection\n",
    "\n",
    "selected_names_5(names, 'RO', 'Y')"
   ]
  },
  {
   "cell_type": "markdown",
   "metadata": {},
   "source": [
    "Nice!"
   ]
  },
  {
   "cell_type": "markdown",
   "metadata": {},
   "source": [
    "### `not`"
   ]
  },
  {
   "cell_type": "markdown",
   "metadata": {},
   "source": [
    "The `not` operator simply turns a Boolean value into\n",
    "its opposite, according to this table.\n",
    "\n",
    "$P$ | `not` $P$\n",
    ":-:|:-:\n",
    "`True`|`False`\n",
    "`False`|`True`\n",
    "\n",
    "Here, $P$ stands for a condition, i.e., an expression whose value is either `True` or `False`.\n"
   ]
  },
  {
   "cell_type": "code",
   "execution_count": 8,
   "metadata": {},
   "outputs": [
    {
     "data": {
      "text/plain": [
       "['ELLEN',\n",
       " 'HUGO',\n",
       " 'FINLEY',\n",
       " 'HENRY',\n",
       " 'MOLLIE',\n",
       " 'BRIEN',\n",
       " 'JOHN',\n",
       " 'EMILY',\n",
       " 'OISIN',\n",
       " 'SOPHIE',\n",
       " 'GENIVEVE',\n",
       " 'KELVIN',\n",
       " 'COLM',\n",
       " 'EUGENE',\n",
       " 'RORY',\n",
       " 'JOSEPH',\n",
       " 'EILISH',\n",
       " 'BETH',\n",
       " 'NOEL',\n",
       " 'KEVIN',\n",
       " 'FINN',\n",
       " 'EOIN',\n",
       " 'DILLON',\n",
       " 'BRIDGET',\n",
       " 'STEPHEN',\n",
       " 'SCOTT',\n",
       " 'CONOR',\n",
       " 'BEN',\n",
       " 'JEROEN',\n",
       " 'COLLETTE',\n",
       " 'KEITH',\n",
       " 'DIEGO',\n",
       " 'LUKE',\n",
       " 'SZYMON']"
      ]
     },
     "execution_count": 8,
     "metadata": {},
     "output_type": "execute_result"
    }
   ],
   "source": [
    "def selected_names_6(names, letter):\n",
    "    \"select all names that do not contain 'letter'\"\n",
    "    selection = []\n",
    "    for name in names:\n",
    "        if not letter in name:\n",
    "            selection.append(name)\n",
    "    return selection\n",
    "\n",
    "selected_names_6(names, 'A')"
   ]
  },
  {
   "cell_type": "markdown",
   "metadata": {},
   "source": [
    "Nice!"
   ]
  },
  {
   "cell_type": "markdown",
   "metadata": {},
   "source": [
    "## De Morgan's Laws"
   ]
  },
  {
   "cell_type": "markdown",
   "metadata": {},
   "source": [
    "**Example.** Find all names that don't contain the letter `A`\n",
    "or the letter `N`.  Two conditions, both negated, must hold at the same time:  `not` $P$ `and not` $Q$."
   ]
  },
  {
   "cell_type": "code",
   "execution_count": 9,
   "metadata": {},
   "outputs": [
    {
     "data": {
      "text/plain": [
       "['HUGO',\n",
       " 'MOLLIE',\n",
       " 'EMILY',\n",
       " 'SOPHIE',\n",
       " 'COLM',\n",
       " 'RORY',\n",
       " 'JOSEPH',\n",
       " 'EILISH',\n",
       " 'BETH',\n",
       " 'BRIDGET',\n",
       " 'SCOTT',\n",
       " 'COLLETTE',\n",
       " 'KEITH',\n",
       " 'DIEGO',\n",
       " 'LUKE']"
      ]
     },
     "execution_count": 9,
     "metadata": {},
     "output_type": "execute_result"
    }
   ],
   "source": [
    "def selected_names_7(names, letter1, letter2):\n",
    "    \"select all names that do not contain 'letter'\"\n",
    "    selection = []\n",
    "    for name in names:\n",
    "        if not letter1 in name and not letter2 in name:\n",
    "            selection.append(name)\n",
    "    return selection\n",
    "\n",
    "selected_names_7(names, 'A', 'N')"
   ]
  },
  {
   "cell_type": "markdown",
   "metadata": {},
   "source": [
    "**Example (cont'd).**  Or is it two conditions,\n",
    "connected by \"or\", and the resulting complex condition\n",
    "must not hold?\n"
   ]
  },
  {
   "cell_type": "code",
   "execution_count": 10,
   "metadata": {},
   "outputs": [
    {
     "data": {
      "text/plain": [
       "['HUGO',\n",
       " 'MOLLIE',\n",
       " 'EMILY',\n",
       " 'SOPHIE',\n",
       " 'COLM',\n",
       " 'RORY',\n",
       " 'JOSEPH',\n",
       " 'EILISH',\n",
       " 'BETH',\n",
       " 'BRIDGET',\n",
       " 'SCOTT',\n",
       " 'COLLETTE',\n",
       " 'KEITH',\n",
       " 'DIEGO',\n",
       " 'LUKE']"
      ]
     },
     "execution_count": 10,
     "metadata": {},
     "output_type": "execute_result"
    }
   ],
   "source": [
    "def selected_names_8(names, letter1, letter2):\n",
    "    \"select all names that do not contain 'letter'\"\n",
    "    selection = []\n",
    "    for name in names:\n",
    "        if not (letter1 in name or letter2 in name):\n",
    "            selection.append(name)\n",
    "    return selection\n",
    "\n",
    "selected_names_8(names, 'A', 'N')"
   ]
  },
  {
   "cell_type": "markdown",
   "metadata": {},
   "source": [
    "Note the parentheses!"
   ]
  },
  {
   "cell_type": "markdown",
   "metadata": {},
   "source": [
    "This is an instance of DeMorgan's Laws which state that for any conditions $P$ and $Q$:\n",
    "\n",
    "* `not (` $P$ `and` $Q$ `)` is logically equivalent to `not` $P$ `or not` $Q$;\n",
    "* `not (` $P$ `or` $Q$ `)` is logically equivalent to `not` $P$ `and not` $Q$.\n",
    "\n",
    "Sometimes, there are different ways to express the same logically connected conditions\n",
    "as a boolean expression in a `python` program."
   ]
  },
  {
   "cell_type": "markdown",
   "metadata": {},
   "source": [
    "## Operator Precedence"
   ]
  },
  {
   "cell_type": "markdown",
   "metadata": {},
   "source": [
    "In arithmetic, the **order of operations** (aka BIMDAS), decides in which order the parts of \n",
    "a formula (expression) involving both sums and products are to be evaluated:\n",
    "$$ 3 + 4 \\times 5 = 3 + (4 \\times 5) = 23 $$\n",
    "and this is not equal to $(3 + 4) * 5 = 7 \\times 5 = 35$. \n",
    "\n",
    "`python` has a similar list of rules that applies to its many operators: the arithmetical operators for numbers, comparison operators, boolean operators.  Here is the full list. (We haven't met the entries\n",
    "marked $^*$ yet.)"
   ]
  },
  {
   "cell_type": "markdown",
   "metadata": {},
   "source": [
    "Operator | Description\n",
    ":-:|:-\n",
    "`lambda` ... `:` ... | lambda expression$^*$\n",
    "... `if` ... `else` ... | conditional expression$^*$\n",
    "$x$ `or` $y$ | logical OR\n",
    "$x$ `and` $y$ | logical AND\n",
    "`not` $x$ | logical NOT\n",
    "$x$ `in` $y$, $x$ `not in` $y$, $x$ `is` $y$, $x$ `is not` $y$, $x$ `<` $y$, $x$ `<=` $y$, $x$ `>` $y$, $x$ `>=` $y$, $x$ `!=` $y$, $x$ `==` $y$ | comparisons, membership test, identity tests$^*$\n",
    "$x$ <code>&vert;</code> $y$ | bitwise OR$^*$\n",
    "$x$ `^` $y$ | bitwise XOR$^*$\n",
    "$x$ `&`$y$ | bitwise AND$^*$\n",
    "$x$ `+` $y$, $x$ `-` $y$ | addition, subtraction\n",
    "$x$ `*` $y$, $x$ `@` $y$, $x$ `/` $y$, $x$ `//` $y$, $x$ `%` $y$ | multiplication, matrix multiplication$^*$, division and remainder\n",
    "$x$ `**` $y$ | exponentiation\n",
    "`await` $x$ | await expression\n",
    "$x$<code>&#91;</code>...`]`, $x$<code>&#91;</code>...`:`...`]`, $x$<code>&#40;</code>...`)`, $x$<code>&#46;</code>... | indexing, slicing, call, attribute reference\n",
    "<code>&#40;</code>...`)`, <code>&#91;</code>...`]`, <code>&#123;</code>...`}` | parentheses, square brackets, curly braces$^*$\n",
    "\n",
    "The lower the operator is in the table, the higher is its precedence."
   ]
  },
  {
   "cell_type": "markdown",
   "metadata": {},
   "source": [
    "##  The Truth About Booleans"
   ]
  },
  {
   "cell_type": "markdown",
   "metadata": {},
   "source": [
    "In `python`, any object can be tested for its truth value, as condition in a `while` or `if` statement,\n",
    "or as an operand for a boolean operation.  **All** of the following values are considered `False`:\n",
    "\n",
    "* 'None'$^*$\n",
    "\n",
    "* `False`\n",
    "\n",
    "* any numerical value of **zero**: `0`, `0.0`, `0+0j`\n",
    "\n",
    "* any **empty** sequence: `''`, `[]`, `()`, `{}`$^*$\n",
    "\n",
    "* any object `x` that returns `0` for `len(x)` or\n",
    "`False` for `bool(x)`$^*$\n",
    "\n",
    "Everything else is considered `True`.\n",
    "\n",
    "The boolean value of an object can be determined with the **type conversion function** `bool()`."
   ]
  },
  {
   "cell_type": "code",
   "execution_count": 11,
   "metadata": {},
   "outputs": [
    {
     "data": {
      "text/plain": [
       "True"
      ]
     },
     "execution_count": 11,
     "metadata": {},
     "output_type": "execute_result"
    }
   ],
   "source": [
    "bool(0.0001)"
   ]
  },
  {
   "cell_type": "markdown",
   "metadata": {},
   "source": [
    "##  Short-Circuits"
   ]
  },
  {
   "cell_type": "markdown",
   "metadata": {},
   "source": [
    "Evaluating conditions can cost time and other resources.   The boolean operators `and` and `or`\n",
    "save resources where possible by evaluating\n",
    "as few conditions as are necessary to determine the outcome.\n",
    "\n",
    "$P$ `and` $Q$ is only `True` if **both** conditions $P$ and $Q$ are true.\n",
    "\n",
    "The short-circuit operator `and` only evaluates its\n",
    "second argument $Q$ if the boolean value `bool(` $P$ `)` of the first argument is `True`.  \n",
    "In fact, the value of $Q$ will then become the value of the condition $P$ `and` $Q$.\n",
    "If `bool(`$P$`)` is `False` then $P$ `and` $Q$\n",
    "yields the value of $P$ without evaluating $Q$.\n",
    "This can make a difference where evaluating $Q$\n",
    "may have side effects (like throwing an error message).\n",
    "\n",
    "$P$ `or` $Q$ is only `False` if **both** conditions $P$ and $Q$ are `False`.\n",
    "\n",
    "The short-circuit operator `or` only evaluates its\n",
    "second argument $Q$ if the boolean value `bool(` $P$ `)` of the first argument is `False`.\n",
    "In that case, the value of $Q$ will become the value of the condition $P$ `or` $Q$.\n",
    "If `bool(` $P$ `)` is `True` then $P$ `or` $Q$\n",
    "yields the value of $P$ without evaluating $Q$.\n"
   ]
  },
  {
   "cell_type": "code",
   "execution_count": 12,
   "metadata": {},
   "outputs": [
    {
     "name": "stdout",
     "output_type": "stream",
     "text": [
      "Bad.\n"
     ]
    }
   ],
   "source": [
    "x = 12\n",
    "if x != 0 and 1/x < 0.1:\n",
    "    print(\"Bad.\")\n",
    "else:\n",
    "    print(\"Good!\")"
   ]
  },
  {
   "cell_type": "markdown",
   "metadata": {},
   "source": [
    "## Chaining Comparisons"
   ]
  },
  {
   "cell_type": "markdown",
   "metadata": {},
   "source": [
    "In `python`, comparisons can be arbitrarily chained.\n",
    "For example\n",
    "```python\n",
    "x < y <= z\n",
    "```\n",
    "is equivalent to\n",
    "```python\n",
    "x < y and y <= z\n",
    "```\n",
    "except that `y` is evaluated only once\n",
    "(and `z` is not evaluated at all when `x < y` turns out to be `False`).\n"
   ]
  },
  {
   "cell_type": "code",
   "execution_count": 13,
   "metadata": {},
   "outputs": [
    {
     "data": {
      "text/plain": [
       "True"
      ]
     },
     "execution_count": 13,
     "metadata": {},
     "output_type": "execute_result"
    }
   ],
   "source": [
    "x = 10\n",
    "0 < x <= 30"
   ]
  },
  {
   "cell_type": "markdown",
   "metadata": {},
   "source": [
    "##  Summary: Booleans"
   ]
  },
  {
   "cell_type": "markdown",
   "metadata": {},
   "source": [
    "* **Conditions** are expressions whose value is either `True` or `False`.\n",
    "\n",
    "* `True` and `False` are (the only) **literals** of type `bool` (short for Boolean).\n",
    "\n",
    "* `python` has **logical operators** `and`, `or` and `not` for Boolean values.\n",
    "\n",
    "* Logical operators and the laws of Boolean algebra\n",
    "can be used to drastically **simplify conditions**\n",
    "and conditional statements.\n",
    "\n",
    "*  Complex conditions can involve a **mixture** of comparison operators and\n",
    "logical operators.\n",
    "\n",
    "* Comparisons in `python` can be **chained**.\n",
    "\n",
    "* Any `python` object has a **boolean value**.\n",
    "\n",
    "* `and` and `or` are **short-circuit** operators.\n",
    "\n",
    "* The **order of operations** in `python` is\n",
    "defined by a table of **precedence rules**.\n",
    "\n",
    "* The `pass` statement does **nothing**.\n",
    "\n",
    "* **Files** can be `open`ed, `close`d and looped over."
   ]
  },
  {
   "cell_type": "code",
   "execution_count": null,
   "metadata": {
    "collapsed": true
   },
   "outputs": [],
   "source": []
  }
 ],
 "metadata": {
  "kernelspec": {
   "display_name": "Python 3",
   "language": "python",
   "name": "python3"
  },
  "language_info": {
   "codemirror_mode": {
    "name": "ipython",
    "version": 3
   },
   "file_extension": ".py",
   "mimetype": "text/x-python",
   "name": "python",
   "nbconvert_exporter": "python",
   "pygments_lexer": "ipython3",
   "version": "3.6.1"
  }
 },
 "nbformat": 4,
 "nbformat_minor": 2
}
