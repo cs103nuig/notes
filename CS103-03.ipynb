{
 "cells": [
  {
   "cell_type": "markdown",
   "metadata": {},
   "source": [
    "### CS102/CS103\n",
    "\n",
    "Prof. Götz Pfeiffer<br />\n",
    "School of Mathematics, Statistics and Applied Mathematics<br />\n",
    "NUI Galway"
   ]
  },
  {
   "cell_type": "markdown",
   "metadata": {},
   "source": [
    "# Lecture 3: Computing with Strings"
   ]
  },
  {
   "cell_type": "markdown",
   "metadata": {},
   "source": [
    "We have seen the different types of numbers that a `python` \n",
    "program can handle and perform the standard arithmetic \n",
    "operations and more on.\n",
    "\n",
    "Another basic data type in `python`, called `str` (which is short for **string**) is concerned with (small or large) bits of text. \n",
    "**Text processing** is an important feature of any programming\n",
    "language, as much of the exisiting data and many of the problems\n",
    "a program can deal with are text based.\n",
    "\n",
    "Before discussing its properties\n",
    "and the operations that apply and make it easy to build\n",
    "powerful text processing applications, we look at a simple\n",
    "example of a `python` program."
   ]
  },
  {
   "cell_type": "markdown",
   "metadata": {},
   "source": [
    "## A Python Program\n",
    "\n",
    "The following code represents a complete `python` program\n",
    "and illustrates the typical workings of such:\n",
    "\n",
    "* It asks its user for some input (a number between $0$ and $1$)\n",
    "\n",
    "* It processes the data\n",
    "\n",
    "* It outputs a response.\n",
    "\n",
    "In fact, this program repeats the processing and output steps\n",
    "a number of times."
   ]
  },
  {
   "cell_type": "code",
   "execution_count": 1,
   "metadata": {
    "collapsed": true
   },
   "outputs": [],
   "source": [
    "# A simple computer program illustrating chaotic behaviour\n",
    "def chaos():\n",
    "    print(\"This program illustrates a chaotic function\")\n",
    "    x = eval(input(\"Enter a number between 0 and 1: \"))\n",
    "    for i in range(10):\n",
    "        x = 3.9 * x * (1 - x)\n",
    "        print(x)"
   ]
  },
  {
   "cell_type": "markdown",
   "metadata": {},
   "source": [
    "Highlighted by different colors, we can see in this example some of\n",
    "the typical elements of a `python` program.\n",
    "\n",
    "The first line\n",
    "```python\n",
    "    # A simple computer program illustrating chaotic behaviour\n",
    "```\n",
    "is not really part of the program, it is a **comment** for human\n",
    "readers of the code, briefly explaining its purpose.  Comments in\n",
    "`python` start with a has symbol (`#`) and continue from there\n",
    "to the end of the line."
   ]
  },
  {
   "cell_type": "markdown",
   "metadata": {},
   "source": [
    "Text enclosed in double quotes (`\"`) like\n",
    "```python\n",
    "    \"Enter a number between 0 and 1: \"\n",
    "```\n",
    "is a **string**.  More on that later."
   ]
  },
  {
   "cell_type": "markdown",
   "metadata": {},
   "source": [
    "This function **calls** other functions: `print()`, `input()`,\n",
    "`eval()` and `range()`.\n",
    "\n",
    "Some words in the code, `def`, `for` and `in` are **keywords**\n",
    "that have a specific meaning in all `python` programs.\n",
    "\n",
    "Other words, `i` and `x`, are **variables** with a value that can\n",
    "change over time and between different `python` programs."
   ]
  },
  {
   "cell_type": "markdown",
   "metadata": {},
   "source": [
    "The line\n",
    "```python\n",
    "   def chaos():\n",
    "```\n",
    "starts a **function definition**, which consists of all the code\n",
    "that is indented under this heading.  It gives the **name**\n",
    "`chaos` to the function to be defined.  Note how the line\n",
    "ends with a colon (`:`).  This symbol is not optional, omitting\n",
    "it would cause an error."
   ]
  },
  {
   "cell_type": "markdown",
   "metadata": {},
   "source": [
    "The line\n",
    "```python\n",
    "   for i in range(10):\n",
    "```\n",
    "starts a **for loop** consisting of all the code\n",
    "that is indented under this heading.  In this case, the commands\n",
    "in the loop are to be repeated 10 times.  This loop is a first\n",
    "example of the expressive power that comes with programming languages:\n",
    "repeated actions only need to be spelled out once."
   ]
  },
  {
   "cell_type": "markdown",
   "metadata": {},
   "source": [
    "Indentation by **spaces** at the beginning of a line matters in\n",
    "`python` and is used to indicate **groupings**, for example of the lines\n",
    "that make up a function definition, or the ones making up a `for` loop.  This concept allows **blocks** of code to be **nested**\n",
    "inside each other ..."
   ]
  },
  {
   "cell_type": "markdown",
   "metadata": {},
   "source": [
    "So, this code is merely a *definition* of a \n",
    "program, called a **function** in `python`.  In order to get\n",
    "it to do something, we need to **call** the function (by its **name**):"
   ]
  },
  {
   "cell_type": "code",
   "execution_count": 2,
   "metadata": {},
   "outputs": [
    {
     "name": "stdout",
     "output_type": "stream",
     "text": [
      "This program illustrates a chaotic function\n",
      "Enter a number between 0 and 1: 0.25\n",
      "0.73125\n",
      "0.76644140625\n",
      "0.6981350104385375\n",
      "0.8218958187902304\n",
      "0.5708940191969317\n",
      "0.9553987483642099\n",
      "0.166186721954413\n",
      "0.5404179120617926\n",
      "0.9686289302998042\n",
      "0.11850901017563877\n"
     ]
    }
   ],
   "source": [
    "chaos()"
   ]
  },
  {
   "cell_type": "markdown",
   "metadata": {},
   "source": [
    "The behavior of the program is _chaotic_, because a small change in the\n",
    "input cause a big change in the output."
   ]
  },
  {
   "cell_type": "code",
   "execution_count": 3,
   "metadata": {},
   "outputs": [
    {
     "name": "stdout",
     "output_type": "stream",
     "text": [
      "This program illustrates a chaotic function\n",
      "Enter a number between 0 and 1: 0.26\n",
      "0.75036\n",
      "0.73054749456\n",
      "0.7677066257332165\n",
      "0.6954993339002887\n",
      "0.8259420407337192\n",
      "0.5606709657211202\n",
      "0.9606442322820199\n",
      "0.14744687593470315\n",
      "0.49025454937601765\n",
      "0.9746296021493285\n"
     ]
    }
   ],
   "source": [
    "chaos()"
   ]
  },
  {
   "cell_type": "markdown",
   "metadata": {},
   "source": [
    "## Strings"
   ]
  },
  {
   "cell_type": "markdown",
   "metadata": {},
   "source": [
    "### String objects"
   ]
  },
  {
   "cell_type": "markdown",
   "metadata": {},
   "source": [
    "A **string** is a sequence of characters, enclosed in double quotes (`\"`) or single quotes (`'`)."
   ]
  },
  {
   "cell_type": "code",
   "execution_count": 4,
   "metadata": {},
   "outputs": [
    {
     "data": {
      "text/plain": [
       "'double'"
      ]
     },
     "execution_count": 4,
     "metadata": {},
     "output_type": "execute_result"
    }
   ],
   "source": [
    "\"double\""
   ]
  },
  {
   "cell_type": "code",
   "execution_count": 5,
   "metadata": {},
   "outputs": [
    {
     "data": {
      "text/plain": [
       "'single'"
      ]
     },
     "execution_count": 5,
     "metadata": {},
     "output_type": "execute_result"
    }
   ],
   "source": [
    "'single'"
   ]
  },
  {
   "cell_type": "code",
   "execution_count": 6,
   "metadata": {},
   "outputs": [
    {
     "name": "stdout",
     "output_type": "stream",
     "text": [
      "double single\n"
     ]
    }
   ],
   "source": [
    "print(\"double\", 'single')"
   ]
  },
  {
   "cell_type": "code",
   "execution_count": 7,
   "metadata": {},
   "outputs": [
    {
     "data": {
      "text/plain": [
       "str"
      ]
     },
     "execution_count": 7,
     "metadata": {},
     "output_type": "execute_result"
    }
   ],
   "source": [
    "type(\"double\")"
   ]
  },
  {
   "cell_type": "markdown",
   "metadata": {},
   "source": [
    "### Length, Indexing and Slicing\n",
    "\n",
    "A string is made of characters.\n",
    "The number of characters in a string is its **length**,\n",
    "which can be obtained by calling the `len()` function.\n",
    "The individual characters making up a string\n",
    "can be accessed through their position in the string, using\n",
    "an **index** inside a pair of square brackets (`[ ... ]`)."
   ]
  },
  {
   "cell_type": "code",
   "execution_count": 8,
   "metadata": {},
   "outputs": [
    {
     "data": {
      "text/plain": [
       "6"
      ]
     },
     "execution_count": 8,
     "metadata": {},
     "output_type": "execute_result"
    }
   ],
   "source": [
    "len(\"python\")"
   ]
  },
  {
   "cell_type": "code",
   "execution_count": 9,
   "metadata": {},
   "outputs": [
    {
     "data": {
      "text/plain": [
       "'y'"
      ]
     },
     "execution_count": 9,
     "metadata": {},
     "output_type": "execute_result"
    }
   ],
   "source": [
    "#012345\n",
    "\"python\"[1]"
   ]
  },
  {
   "cell_type": "markdown",
   "metadata": {},
   "source": [
    "```python\n",
    "\"python\"[6]   # this will cause an error\n",
    "```"
   ]
  },
  {
   "cell_type": "markdown",
   "metadata": {},
   "source": [
    "* Note how a character is a string of length $1$.\n",
    "\n",
    "* And how the positions begin at $0$ and end at length minus one.\n",
    "\n",
    "* Negative indices can be used, they count from the back of the string."
   ]
  },
  {
   "cell_type": "code",
   "execution_count": 10,
   "metadata": {},
   "outputs": [
    {
     "data": {
      "text/plain": [
       "'n'"
      ]
     },
     "execution_count": 10,
     "metadata": {},
     "output_type": "execute_result"
    }
   ],
   "source": [
    "\"python\"[-1]"
   ]
  },
  {
   "cell_type": "markdown",
   "metadata": {
    "collapsed": true
   },
   "source": [
    "```python\n",
    "\"python\"[-7]  # this will cause an error\n",
    "```"
   ]
  },
  {
   "cell_type": "markdown",
   "metadata": {},
   "source": [
    "**Slicing.** \n",
    "Square brackets can be used to extract substrings of length bigger than $1$.  Here two positional indices are needed, one to mark the\n",
    "start and one to mark the end of the substring, separated by a colon (`:`)."
   ]
  },
  {
   "cell_type": "code",
   "execution_count": 11,
   "metadata": {},
   "outputs": [
    {
     "data": {
      "text/plain": [
       "'love'"
      ]
     },
     "execution_count": 11,
     "metadata": {},
     "output_type": "execute_result"
    }
   ],
   "source": [
    "#01234567890123\n",
    "\"We love python\"[3:7]"
   ]
  },
  {
   "cell_type": "markdown",
   "metadata": {},
   "source": [
    "* Note how the substring starts at the first position\n",
    "and stops just short of the second position.  \n",
    "\n",
    "* In this way the\n",
    "difference between the two indices ($7-3$) equals the\n",
    "length of the substring ($4$).\n",
    "\n",
    "* Negative indices can be used for slicing.\n",
    "\n",
    "* If any of the indices is omitted, it defaults to\n",
    "th beginning ($0$) or to the end ($-1$) of the string"
   ]
  },
  {
   "cell_type": "code",
   "execution_count": 12,
   "metadata": {},
   "outputs": [
    {
     "data": {
      "text/plain": [
       "'fun'"
      ]
     },
     "execution_count": 12,
     "metadata": {},
     "output_type": "execute_result"
    }
   ],
   "source": [
    "\"python programs are fun\"[-3:]"
   ]
  },
  {
   "cell_type": "code",
   "execution_count": 13,
   "metadata": {},
   "outputs": [
    {
     "data": {
      "text/plain": [
       "'python'"
      ]
     },
     "execution_count": 13,
     "metadata": {},
     "output_type": "execute_result"
    }
   ],
   "source": [
    "\"python\"[:]  # a quick copy of the string"
   ]
  },
  {
   "cell_type": "markdown",
   "metadata": {},
   "source": [
    "### String Arithmetic\n",
    "\n",
    "Strings can be added and multiplied with natural numbers.\n",
    "\n",
    "* **Concatenation.**  The `+` operator can be used to \n",
    "glue two or more strings together into a new one."
   ]
  },
  {
   "cell_type": "code",
   "execution_count": 14,
   "metadata": {},
   "outputs": [
    {
     "data": {
      "text/plain": [
       "'hello world!'"
      ]
     },
     "execution_count": 14,
     "metadata": {},
     "output_type": "execute_result"
    }
   ],
   "source": [
    "\"hello \" + \"world!\""
   ]
  },
  {
   "cell_type": "markdown",
   "metadata": {},
   "source": [
    "* **Repetition.**  To repeat a string a fixed number of times, multiply the string with that number."
   ]
  },
  {
   "cell_type": "code",
   "execution_count": 15,
   "metadata": {},
   "outputs": [
    {
     "data": {
      "text/plain": [
       "'ababababab'"
      ]
     },
     "execution_count": 15,
     "metadata": {},
     "output_type": "execute_result"
    }
   ],
   "source": [
    "\"ab\" * 5"
   ]
  },
  {
   "cell_type": "markdown",
   "metadata": {},
   "source": [
    "### Other String Operations\n",
    "\n",
    "There are many **methods** for string manipulations."
   ]
  },
  {
   "cell_type": "code",
   "execution_count": 16,
   "metadata": {},
   "outputs": [
    {
     "data": {
      "text/plain": [
       "'A little string'"
      ]
     },
     "execution_count": 16,
     "metadata": {},
     "output_type": "execute_result"
    }
   ],
   "source": [
    "\"a little string\".capitalize()"
   ]
  },
  {
   "cell_type": "code",
   "execution_count": 17,
   "metadata": {},
   "outputs": [
    {
     "data": {
      "text/plain": [
       "'      A Title       '"
      ]
     },
     "execution_count": 17,
     "metadata": {},
     "output_type": "execute_result"
    }
   ],
   "source": [
    "\"A Title\".center(20)"
   ]
  },
  {
   "cell_type": "code",
   "execution_count": 18,
   "metadata": {},
   "outputs": [
    {
     "data": {
      "text/plain": [
       "4"
      ]
     },
     "execution_count": 18,
     "metadata": {},
     "output_type": "execute_result"
    }
   ],
   "source": [
    "\"ATCGACTGATCGATCGTACGAT\".count(\"AT\")"
   ]
  },
  {
   "cell_type": "code",
   "execution_count": 19,
   "metadata": {},
   "outputs": [
    {
     "data": {
      "text/plain": [
       "4"
      ]
     },
     "execution_count": 19,
     "metadata": {},
     "output_type": "execute_result"
    }
   ],
   "source": [
    "\"ATCGACTGATCGATCGTACGAT\".find(\"ACT\")"
   ]
  },
  {
   "cell_type": "code",
   "execution_count": 20,
   "metadata": {},
   "outputs": [
    {
     "data": {
      "text/plain": [
       "'atcgactgatcgatcgtacgat'"
      ]
     },
     "execution_count": 20,
     "metadata": {},
     "output_type": "execute_result"
    }
   ],
   "source": [
    "\"ATCGACTGATCGATCGTACGAT\".lower()"
   ]
  },
  {
   "cell_type": "code",
   "execution_count": 21,
   "metadata": {},
   "outputs": [
    {
     "data": {
      "text/plain": [
       "'TACGACTGTACGTACGTACGTA'"
      ]
     },
     "execution_count": 21,
     "metadata": {},
     "output_type": "execute_result"
    }
   ],
   "source": [
    "\"ATCGACTGATCGATCGTACGAT\".replace(\"AT\", \"TA\")"
   ]
  },
  {
   "cell_type": "code",
   "execution_count": 22,
   "metadata": {},
   "outputs": [
    {
     "data": {
      "text/plain": [
       "'A LITTLE STRING'"
      ]
     },
     "execution_count": 22,
     "metadata": {},
     "output_type": "execute_result"
    }
   ],
   "source": [
    "\"a little string\".upper()"
   ]
  },
  {
   "cell_type": "markdown",
   "metadata": {},
   "source": [
    "* The `string` module contains more useful string manipulation operations"
   ]
  },
  {
   "cell_type": "markdown",
   "metadata": {},
   "source": [
    "### The ASCII code\n",
    "\n",
    "A `python` program is usually composed of the characters in \n",
    "a fixed set of 128 symbols, called the ASCII code, based on the symbols that are found\n",
    "on US keyboards.  Here, each character corresponds to a **number**\n",
    "between $0$ and $127$."
   ]
  },
  {
   "cell_type": "markdown",
   "metadata": {},
   "source": [
    "<pre>\n",
    " 32      48 0    64 @    80 P    96 `   112 p \n",
    " 33 !    49 1    65 A    81 Q    97 a   113 q \n",
    " 34 \"    50 2    66 B    82 R    98 b   114 r \n",
    " 35 #    51 3    67 C    83 S    99 c   115 s \n",
    " 36 $    52 4    68 D    84 T   100 d   116 t \n",
    " 37 %    53 5    69 E    85 U   101 e   117 u \n",
    " 38 &    54 6    70 F    86 V   102 f   118 v \n",
    " 39 '    55 7    71 G    87 W   103 g   119 w \n",
    " 40 (    56 8    72 H    88 X   104 h   120 x \n",
    " 41 )    57 9    73 I    89 Y   105 i   121 y \n",
    " 42 *    58 :    74 J    90 Z   106 j   122 z \n",
    " 43 +    59 ;    75 K    91 [   107 k   123 { \n",
    " 44 ,    60 <    76 L    92 \\   108 l   124 | \n",
    " 45 -    61 =    77 M    93 ]   109 m   125 } \n",
    " 46 .    62 >    78 N    94 ^   110 n   126 ~ \n",
    " 47 /    63 ?    79 O    95 _   111 o   127 DEL \n",
    "</pre>"
   ]
  },
  {
   "cell_type": "markdown",
   "metadata": {},
   "source": [
    "The `python` functions `ord()` and `chr()` convert between\n",
    "a character and its numercial (ASCII) value:\n",
    "\n",
    "* `ord()` returns the ASCII value of a character\n",
    "\n",
    "* `chr()` returns the character for a given ASCII value"
   ]
  },
  {
   "cell_type": "code",
   "execution_count": 23,
   "metadata": {},
   "outputs": [
    {
     "data": {
      "text/plain": [
       "65"
      ]
     },
     "execution_count": 23,
     "metadata": {},
     "output_type": "execute_result"
    }
   ],
   "source": [
    "ord('A')"
   ]
  },
  {
   "cell_type": "code",
   "execution_count": 24,
   "metadata": {},
   "outputs": [
    {
     "data": {
      "text/plain": [
       "'A'"
      ]
     },
     "execution_count": 24,
     "metadata": {},
     "output_type": "execute_result"
    }
   ],
   "source": [
    "chr(65)"
   ]
  },
  {
   "cell_type": "markdown",
   "metadata": {},
   "source": [
    "## Summary: Strings\n",
    "\n",
    "* Strings are **sequences** of characters, and **characters** are strings of length $1$.\n",
    "\n",
    "* String **literals** are enclosed in single (`'`) or double (`\"`) quotes.\n",
    "\n",
    "* There are builtin operations for **concatenation** (`+`),\n",
    "**repetition** (`*`), **indexing** (`[]`), **slicing** (`[:]`) and **length** (`len()`).\n",
    "\n",
    "* Internally, characters are represented by **numerical codes** (ASCII),\n",
    "the functions `ord()` and `chr()` convert between the two representations.\n",
    "\n",
    "* String objects support many useful **string manipulation** functions.\n",
    "\n",
    "* Additional string methods are defined in **modules** such as the `string` module."
   ]
  },
  {
   "cell_type": "code",
   "execution_count": null,
   "metadata": {
    "collapsed": true
   },
   "outputs": [],
   "source": []
  }
 ],
 "metadata": {
  "kernelspec": {
   "display_name": "Python 3",
   "language": "python",
   "name": "python3"
  },
  "language_info": {
   "codemirror_mode": {
    "name": "ipython",
    "version": 3
   },
   "file_extension": ".py",
   "mimetype": "text/x-python",
   "name": "python",
   "nbconvert_exporter": "python",
   "pygments_lexer": "ipython3",
   "version": "3.6.1"
  }
 },
 "nbformat": 4,
 "nbformat_minor": 2
}
