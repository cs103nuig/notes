{
 "cells": [
  {
   "cell_type": "markdown",
   "metadata": {},
   "source": [
    "### CS102/CS103\n",
    "\n",
    "Prof. Götz Pfeiffer<br />\n",
    "School of Mathematics, Statistics and Applied Mathematics<br />\n",
    "NUI Galway"
   ]
  },
  {
   "cell_type": "markdown",
   "metadata": {},
   "source": [
    "# Lecture 9: Decision Structures"
   ]
  },
  {
   "cell_type": "markdown",
   "metadata": {
    "collapsed": true
   },
   "source": [
    "We have seen some situations where parts of a program\n",
    "should only be executed if certain conditions are met:\n",
    "\n",
    "* an item in a list can only be removed when the\n",
    "list actually contains that item. So one often sees code like this:\n",
    "```python\n",
    "if x in numbers:\n",
    "    numbers.remove(x)\n",
    "```\n",
    "Here the statement `numbers.remove(x)` is only executed\n",
    "if the **membership test** `x in numbers` succeeds.\n",
    "\n",
    "* any implementation of Euclid's algorithm for computing\n",
    "the $\\gcd(a, b)$ of two integers $a$ and $b$ should first\n",
    "check whether $a$ is $0$.  Because then the \n",
    "desired value is simply $b$, without needing any further\n",
    "calculations.  (A similar argument of course applies when\n",
    "$b$ is $0$).\n",
    "\n",
    "Here, we will discuss how such tests and decisions based on\n",
    "tests are handled in a `python` program.\n",
    "\n",
    "But first, a few words on the practicals ...\n"
   ]
  },
  {
   "cell_type": "markdown",
   "metadata": {
    "collapsed": true
   },
   "source": [
    "## Practicals"
   ]
  },
  {
   "cell_type": "markdown",
   "metadata": {},
   "source": [
    "..."
   ]
  },
  {
   "cell_type": "markdown",
   "metadata": {},
   "source": [
    "## Control Structures"
   ]
  },
  {
   "cell_type": "markdown",
   "metadata": {},
   "source": [
    "Sometimes it is necessary to deviate from the normal\n",
    "sequential **flow of control** in a program.\n",
    "\n",
    "Apart from **sequential flow** there are two more principal\n",
    "control structures:  **conditional flow** and **repetition flow**.\n",
    "These types of flow can be illustrated by **flow charts**.\n",
    "\n",
    "In a flow chart, statements are represented by rectangular boxes\n",
    "with one arrow pointing to it and one arrow pointing away from it.\n",
    "Two-way decisions are represented by diamond shapes, with\n",
    "one arrow pointing to it, and two arrows pointing away from it,\n",
    "corresponding to the two possible outcomes of the test."
   ]
  },
  {
   "cell_type": "markdown",
   "metadata": {},
   "source": [
    "<span style=\"color:red\">It is an important result in **Theoretical Computer Science**\n",
    "that a programming language which supports all three\n",
    "principal control structures, sequential, conditional and repetition\n",
    "flow, is [**Turing complete**](https://en.wikipedia.org/wiki/Turing_completeness).</span>"
   ]
  },
  {
   "cell_type": "markdown",
   "metadata": {},
   "source": [
    "This means that everything that can be computed in theory,\n",
    "can be computed by a program written in such a language.\n",
    "(It does not say anything about how long this will take ...)\n",
    "\n",
    "`Python` supports the three principal control structures (and\n",
    "more) and hence is a [Turing](https://en.wikipedia.org/wiki/Alan_Turing) complete language."
   ]
  },
  {
   "cell_type": "markdown",
   "metadata": {},
   "source": [
    "## Boolean Values"
   ]
  },
  {
   "cell_type": "markdown",
   "metadata": {},
   "source": [
    "In `python`, the two possible outcomes of a test\n",
    "are represented by the truth values `True` and `False`.\n",
    "These are (the only) values of the data type `bool`.\n",
    "This is short for `boolean`, named after [George Boole](https://en.wikipedia.org/wiki/Turing_completeness) (1815-1864),\n",
    "the first Professor of Mathematics at University College Cork."
   ]
  },
  {
   "cell_type": "code",
   "execution_count": 1,
   "metadata": {},
   "outputs": [
    {
     "data": {
      "text/plain": [
       "bool"
      ]
     },
     "execution_count": 1,
     "metadata": {},
     "output_type": "execute_result"
    }
   ],
   "source": [
    "type(True)"
   ]
  },
  {
   "cell_type": "code",
   "execution_count": 2,
   "metadata": {},
   "outputs": [
    {
     "data": {
      "text/plain": [
       "bool"
      ]
     },
     "execution_count": 2,
     "metadata": {},
     "output_type": "execute_result"
    }
   ],
   "source": [
    "type(False)"
   ]
  },
  {
   "cell_type": "markdown",
   "metadata": {},
   "source": [
    "Membership tests result in `True` or `False`."
   ]
  },
  {
   "cell_type": "code",
   "execution_count": 3,
   "metadata": {},
   "outputs": [
    {
     "data": {
      "text/plain": [
       "False"
      ]
     },
     "execution_count": 3,
     "metadata": {},
     "output_type": "execute_result"
    }
   ],
   "source": [
    "primes = [2, 3, 5, 7, 11, 13, 17]\n",
    "9 in primes"
   ]
  },
  {
   "cell_type": "code",
   "execution_count": 4,
   "metadata": {},
   "outputs": [
    {
     "data": {
      "text/plain": [
       "True"
      ]
     },
     "execution_count": 4,
     "metadata": {},
     "output_type": "execute_result"
    }
   ],
   "source": [
    "11 in primes"
   ]
  },
  {
   "cell_type": "markdown",
   "metadata": {},
   "source": [
    "##  Comparisons"
   ]
  },
  {
   "cell_type": "markdown",
   "metadata": {},
   "source": [
    "Numbers can be compared, for equality, or for size.  In `python`, such a test results in a boolean value.  `Python` has the following\n",
    "**relational operators**:\n",
    "\n",
    "| code | formula | meaning |\n",
    "|:-:|:-:|:--|\n",
    "| `a < b` | $a < b$ | $a$ less than $b$? |\n",
    "| `a <= b` | $a \\leq b$ | $a$ less than or equal to $b$? |\n",
    "| `a == b` | $a = b$ | $a$ is equal to $b$? |\n",
    "| `a >= b` | $a \\geq b$ | $a$ greater or equal to $b$? |\n",
    "| `a > b` | $a > b$ | $a$ greater than $b$? |\n",
    "| `a != b` | $a \\neq b$ | $a$ not equal to $b$? |\n",
    "| `a in b` | $a \\in b$ | membership test |\n",
    "\n",
    "\n",
    "Note how some of these operators are made of **two symbols**.\n",
    "There must be no space between them to be recognized.\n",
    "\n",
    "<span style=\"color:red\">In particular, **equality** is tested\n",
    "    with an operator (`==`) consisting of two equal signs in a row.  This **must not be confused with** the single equals sign (`=`) which is (only) used for **assignment statements**.</span>"
   ]
  },
  {
   "cell_type": "markdown",
   "metadata": {},
   "source": [
    "Other two-symbol operators are `<=` for **less-or-equal**,\n",
    "`>=` for **greater-or-equal** and `!=` for **not equal**."
   ]
  },
  {
   "cell_type": "code",
   "execution_count": 5,
   "metadata": {},
   "outputs": [
    {
     "data": {
      "text/plain": [
       "False"
      ]
     },
     "execution_count": 5,
     "metadata": {},
     "output_type": "execute_result"
    }
   ],
   "source": [
    "a, b = 12/5, 13/6\n",
    "a < b"
   ]
  },
  {
   "cell_type": "code",
   "execution_count": 6,
   "metadata": {},
   "outputs": [
    {
     "data": {
      "text/plain": [
       "False"
      ]
     },
     "execution_count": 6,
     "metadata": {},
     "output_type": "execute_result"
    }
   ],
   "source": [
    "a == b"
   ]
  },
  {
   "cell_type": "code",
   "execution_count": 7,
   "metadata": {},
   "outputs": [
    {
     "data": {
      "text/plain": [
       "True"
      ]
     },
     "execution_count": 7,
     "metadata": {},
     "output_type": "execute_result"
    }
   ],
   "source": [
    "a > b"
   ]
  },
  {
   "cell_type": "markdown",
   "metadata": {},
   "source": [
    "## The `if` statement"
   ]
  },
  {
   "cell_type": "markdown",
   "metadata": {},
   "source": [
    "Conditional flow in `python` is controlled by the `if` statement.\n",
    "It has the general form\n",
    "```\n",
    "if <condition>:\n",
    "    <body>\n",
    "```\n",
    "It consist of a heading and a body.\n",
    "The heading begins with the keyword `if`\n",
    "and ends with a colon (`:`).\n",
    "The place holder `<condition>` stands for an expression that \n",
    "should evaluate to `True` or `False`, \n",
    "like a relational expression (comparison), \n",
    "or the boolean constants `True` and `False`\n",
    "themselves.\n",
    "\n",
    "And `<body>` is a sequence of statements, indented\n",
    "by the same number of spaces under the heading."
   ]
  },
  {
   "cell_type": "markdown",
   "metadata": {},
   "source": [
    "To execute an `if` statement means to first evaluate the\n",
    "`<condition>`.  \n",
    "If the value is true, execute the statements in the `<body>`.\n",
    "If the value is `False` do nothing,\n",
    "i.e., skip the statements in the `<body>`."
   ]
  },
  {
   "cell_type": "markdown",
   "metadata": {},
   "source": [
    "## Example."
   ]
  },
  {
   "cell_type": "markdown",
   "metadata": {},
   "source": [
    "By the **midnight formula**, the solutions of a quadratic\n",
    "equation \n",
    "$$a x^2 + bx + c = 0$$ can be computed as:\n",
    "$$x = \\frac{-b \\pm \\sqrt{b^2 - 4ac}}{2a}$$\n",
    "This works as long as $a$ is **not zero**,\n",
    "and the expression $b^2 - 4ac$ under the root is **not\n",
    "negative**."
   ]
  },
  {
   "cell_type": "code",
   "execution_count": 8,
   "metadata": {
    "collapsed": true
   },
   "outputs": [],
   "source": [
    "from math import sqrt\n",
    "\n",
    "def quadratic_roots(a, b, c):\n",
    "    \"compute the (real) roots of a x^2 + b x + c\"\n",
    "    if a != 0:\n",
    "        discriminant = b*b - 4*a*c\n",
    "        if discriminant >= 0:\n",
    "            root = sqrt(discriminant)\n",
    "            x1, x2 = (-b + root)/2/a, (-b - root)/2/a\n",
    "            return x1, x2"
   ]
  },
  {
   "cell_type": "code",
   "execution_count": 9,
   "metadata": {},
   "outputs": [
    {
     "data": {
      "text/plain": [
       "(2.0, -3.0)"
      ]
     },
     "execution_count": 9,
     "metadata": {},
     "output_type": "execute_result"
    }
   ],
   "source": [
    "quadratic_roots(1, 1, -6)"
   ]
  },
  {
   "cell_type": "code",
   "execution_count": 10,
   "metadata": {
    "collapsed": true
   },
   "outputs": [],
   "source": [
    "quadratic_roots(1, 1, 6)"
   ]
  },
  {
   "cell_type": "code",
   "execution_count": 11,
   "metadata": {
    "collapsed": true
   },
   "outputs": [],
   "source": [
    "quadratic_roots(0, 1, 6)"
   ]
  },
  {
   "cell_type": "markdown",
   "metadata": {},
   "source": [
    "## $2$-way Decisions: The `if`-`else` Statement"
   ]
  },
  {
   "cell_type": "markdown",
   "metadata": {},
   "source": [
    "An `if`-`else` statement has the general form\n",
    "```\n",
    "if <condition>:\n",
    "    <body_1>\n",
    "else:\n",
    "    <body_2>\n",
    "```\n",
    "Executing such a statement means to first evaluate the `<condition>`.\n",
    "If its value is `True`, the statements in `<body_1>` are executed,\n",
    "and if its value is `False`, the statements in `<body_2>` are executed."
   ]
  },
  {
   "cell_type": "markdown",
   "metadata": {},
   "source": [
    "## Example"
   ]
  },
  {
   "cell_type": "code",
   "execution_count": 12,
   "metadata": {
    "collapsed": true
   },
   "outputs": [],
   "source": [
    "from math import sqrt\n",
    "\n",
    "def quadratic_roots2(a, b, c):\n",
    "    \"compute the (real) roots of a x^2 + b x + c\"\n",
    "    if a != 0:\n",
    "        discriminant = b*b - 4*a*c\n",
    "        if discriminant >= 0:\n",
    "            root = sqrt(discriminant)\n",
    "            x1, x2 = (-b + root)/2/a, (-b - root)/2/a\n",
    "            return x1, x2\n",
    "        else:\n",
    "            print(\"quadratic has no real roots\")\n",
    "    else:\n",
    "        print(\"error: input is not a quadratic\")"
   ]
  },
  {
   "cell_type": "code",
   "execution_count": 13,
   "metadata": {},
   "outputs": [
    {
     "data": {
      "text/plain": [
       "(2.0, -3.0)"
      ]
     },
     "execution_count": 13,
     "metadata": {},
     "output_type": "execute_result"
    }
   ],
   "source": [
    "quadratic_roots2(1, 1, -6)"
   ]
  },
  {
   "cell_type": "code",
   "execution_count": 14,
   "metadata": {},
   "outputs": [
    {
     "name": "stdout",
     "output_type": "stream",
     "text": [
      "quadratic has no real roots\n"
     ]
    }
   ],
   "source": [
    "quadratic_roots2(1, 1, 6)"
   ]
  },
  {
   "cell_type": "code",
   "execution_count": 15,
   "metadata": {},
   "outputs": [
    {
     "name": "stdout",
     "output_type": "stream",
     "text": [
      "error: input is not a quadratic\n"
     ]
    }
   ],
   "source": [
    "quadratic_roots2(0, 1, 6)"
   ]
  },
  {
   "cell_type": "markdown",
   "metadata": {},
   "source": [
    "## Summary: Conditionals"
   ]
  },
  {
   "cell_type": "markdown",
   "metadata": {},
   "source": [
    "* **Control structures** can modify the sequential flow of control\n",
    "through the statements of a program.\n",
    "\n",
    "* The flow of control can be illustrated by **flow charts**,\n",
    "using rectangles to represent statements, and diamonds for tests.\n",
    "\n",
    "* **Conditional flow** skips a subsequent body of statements unless \n",
    "a given condition is satisfied.\n",
    "\n",
    "* A **condition** is an expression that evaluates to `True` or `False`.\n",
    "\n",
    "* The **boolean values** `True` and `False` are (the only) values of type `bool`.\n",
    "\n",
    "* **Membership tests** and **relational operators** yield boolean values.\n",
    "\n",
    "* The prototypical **conditional statement** in `python` is the\n",
    "`if` statement.\n",
    "\n",
    "* There are **variants** of the `if` statement for $2$-way and multiway\n",
    "decisions.\n",
    "\n",
    "* A function can simply **return**, or fall off the end of its\n",
    "body of statements; in both cases, no value is returned."
   ]
  },
  {
   "cell_type": "code",
   "execution_count": null,
   "metadata": {
    "collapsed": true
   },
   "outputs": [],
   "source": []
  }
 ],
 "metadata": {
  "kernelspec": {
   "display_name": "Python 3",
   "language": "python",
   "name": "python3"
  },
  "language_info": {
   "codemirror_mode": {
    "name": "ipython",
    "version": 3
   },
   "file_extension": ".py",
   "mimetype": "text/x-python",
   "name": "python",
   "nbconvert_exporter": "python",
   "pygments_lexer": "ipython3",
   "version": "3.6.1"
  }
 },
 "nbformat": 4,
 "nbformat_minor": 2
}
