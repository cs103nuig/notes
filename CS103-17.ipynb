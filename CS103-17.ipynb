{
 "cells": [
  {
   "cell_type": "markdown",
   "metadata": {},
   "source": [
    "### CS102/CS103\n",
    "\n",
    "Prof. Götz Pfeiffer<br />\n",
    "School of Mathematics, Statistics and Applied Mathematics<br />\n",
    "NUI Galway"
   ]
  },
  {
   "cell_type": "markdown",
   "metadata": {},
   "source": [
    "# Lecture 17: Objects and Classes"
   ]
  },
  {
   "cell_type": "markdown",
   "metadata": {
    "collapsed": true
   },
   "source": [
    "So far we have been writing programs that use the built-in Python data types for **numbers** and\n",
    "**strings**. We saw that each data type could represent a certain set of **values**, and each had a set of\n",
    "associated **operations**. \n",
    "\n",
    "We also used **lists** and **dictionaries** to model compound data objects,\n",
    "and worked with the general operations for these **collection types**.\n",
    "\n",
    "In all cases, we basically viewed the data as **passive entities** that were manipulated and\n",
    "combined via **active operations**. This is a traditional way to view computation. To build complex\n",
    "systems, however, it helps to take a richer view of the relationship between data and operations.\n",
    "\n",
    "* Most modern computer programs are built using an **object-oriented** (OO) approach. \n",
    "* Here, objects\n",
    "are data of a **data type** defined by the programmer.\n",
    "* You can think of an OO object as a\n",
    "sort of **active data type** that **combines both data and operations**. \n",
    "* To put it simply, objects **know stuff**\n",
    "(they contain data), ... \n",
    "* .. and they can **do stuff** (they have operations). \n",
    "* Objects interact by sending each\n",
    "other **messages**. \n",
    "* A message is simply a request for an object to **perform** one of its operations."
   ]
  },
  {
   "cell_type": "markdown",
   "metadata": {},
   "source": [
    "## Attributes: Instance Variables and Methods"
   ]
  },
  {
   "cell_type": "markdown",
   "metadata": {},
   "source": [
    "An **object** consists of\n",
    "1. A collection of related **information**.\n",
    "2. A set of **operations** to manipulate that information.\n",
    "\n",
    "The information is stored inside the object in **instance variables**. The operations, called **methods**, are\n",
    "functions that “live” inside the object. Collectively, the instance variables and methods are called\n",
    "the **attributes** of an object.\n",
    "\n",
    "* Every object is said to be an **instance** of some **class**. \n",
    "* The class of the object determines\n",
    "what **attributes** the object will have. \n",
    "* Basically a class is a **description** of what its instances will know\n",
    "and do. \n",
    "* New objects are created from a class by invoking a **constructor**. \n",
    "* You can think of the class\n",
    "itself as a sort of **factory** for stamping out **new instances**."
   ]
  },
  {
   "cell_type": "markdown",
   "metadata": {},
   "source": [
    "##  One Die, Two Dice"
   ]
  },
  {
   "cell_type": "markdown",
   "metadata": {},
   "source": [
    "The singular of \"dice\" is \"die\". Let's build a factory that stamps out dice, with a variable number of sides, \n",
    "not necessarily six. These objects will be instances of a class `VarioDie`.\n",
    "Each `VarioDie` object will **know** two things:\n",
    "1. how many sides it has, and\n",
    "2. its current value.\n",
    "\n",
    "Also it can can **do** something:\n",
    "* to `roll()` a die means to assign a random value between $1$ and $n$,\n",
    "its number of sides.\n",
    "\n",
    "Interacting with such objects may look as follows.\n",
    "```python\n",
    "die = VarioDie(6)    # make a new die object with 6 sides ...\n",
    "die.roll()           # ... roll the die ...\n",
    "die.value            # ... and check its value.\n",
    "die2 = VarioDie(13)  # make another die with 13 sides\n",
    "die2.roll()          # roll it\n",
    "die2.value           # check its value\n",
    "die.value            # the old die's value should remain unchanged.\n",
    "```"
   ]
  },
  {
   "cell_type": "markdown",
   "metadata": {},
   "source": [
    "One can define any number of dice having arbitrary numbers of\n",
    "sides. Each die can be rolled independently and will always produce a random value in the proper\n",
    "range determined by its number of sides.\n",
    "\n",
    "Using **object-oriented terminology**, we create a die by invoking the `VarioDie()` **constructor** and\n",
    "providing the number of sides as a parameter. Our die object will keep track of this number internally using an **instance variable**. Another instance variable will be used to store the current value\n",
    "of the die. Initially, the value of the die will be set to be 1, since that is a legal value for any die. The\n",
    "value can be changed by the `roll()` method (or by assigning to `die.value`)\n",
    "and it can be accessed as `die.value`."
   ]
  },
  {
   "cell_type": "markdown",
   "metadata": {},
   "source": [
    "## Class Definitions"
   ]
  },
  {
   "cell_type": "markdown",
   "metadata": {},
   "source": [
    "In `python`, a class is defined with a **class definition statement**.\n",
    "A class definition is basically a collection of method definitions, and\n",
    "methods are like functions.  Here is the definition of the `VarioDie` class. "
   ]
  },
  {
   "cell_type": "code",
   "execution_count": 25,
   "metadata": {
    "collapsed": true
   },
   "outputs": [],
   "source": [
    "from random import randrange\n",
    "\n",
    "class VarioDie:\n",
    "    \"a class of dice with variable number of sides\"\n",
    "    \n",
    "    def __init__(self, sides):\n",
    "        self.sides = sides\n",
    "        self.value = 1\n",
    "        \n",
    "    def roll(self):\n",
    "        self.value = randrange(1, self.sides + 1)"
   ]
  },
  {
   "cell_type": "markdown",
   "metadata": {},
   "source": [
    "In general, a **class definition statement** has the form\n",
    "```\n",
    "class <name>:\n",
    "    <body>\n",
    "```\n",
    "Here, `<name>` is an **identifier**, the name of the class. \n",
    "For the sake of program readability, it is useful to distinguish\n",
    "class names from names of variables and methods.\n",
    "One way to make such a distinction is shown here,\n",
    "where the class name starts with a capital letter.\n",
    "\n",
    "`<body>` is a **sequence of statements**, usually function definition statements.\n",
    "Like in a function definition body, the first statement here can be a **doc string**,\n",
    "documenting the purpose of the class.\n",
    "The functions defined here will be the methods that apply to the instances of\n",
    "the class."
   ]
  },
  {
   "cell_type": "markdown",
   "metadata": {},
   "source": [
    "Each function definition in a class has a **special first parameter**, called `self` by convention.\n",
    "When the function is called as method on behalf of an instance of this class, \n",
    "the parameter `self` is assigned to that object:\n",
    "```\n",
    "   die.roll()\n",
    "```\n",
    "will execute the body of the `roll()` function, with `die` as value for `self`."
   ]
  },
  {
   "cell_type": "markdown",
   "metadata": {},
   "source": [
    "The **special method** `__init__()` is called by the **constructor** of the class:\n",
    "When the class name is used in a function call, this method receives the arguments and\n",
    "its body will be executed.  The function call\n",
    "```\n",
    "VarioDie(6)\n",
    "```\n",
    "will execute the `__init__()` method with `6` as value for `sides`,\n",
    "and return the object `self`."
   ]
  },
  {
   "cell_type": "markdown",
   "metadata": {},
   "source": [
    "## Rolling ..."
   ]
  },
  {
   "cell_type": "code",
   "execution_count": 26,
   "metadata": {},
   "outputs": [
    {
     "data": {
      "text/plain": [
       "1"
      ]
     },
     "execution_count": 26,
     "metadata": {},
     "output_type": "execute_result"
    }
   ],
   "source": [
    "die = VarioDie(6)\n",
    "die.value"
   ]
  },
  {
   "cell_type": "code",
   "execution_count": 27,
   "metadata": {},
   "outputs": [
    {
     "data": {
      "text/plain": [
       "6"
      ]
     },
     "execution_count": 27,
     "metadata": {},
     "output_type": "execute_result"
    }
   ],
   "source": [
    "die.roll()\n",
    "die.value"
   ]
  },
  {
   "cell_type": "code",
   "execution_count": 28,
   "metadata": {},
   "outputs": [
    {
     "data": {
      "text/plain": [
       "1"
      ]
     },
     "execution_count": 28,
     "metadata": {},
     "output_type": "execute_result"
    }
   ],
   "source": [
    "die2 = VarioDie(13)\n",
    "die2.value"
   ]
  },
  {
   "cell_type": "code",
   "execution_count": 29,
   "metadata": {},
   "outputs": [
    {
     "data": {
      "text/plain": [
       "(8, 6)"
      ]
     },
     "execution_count": 29,
     "metadata": {},
     "output_type": "execute_result"
    }
   ],
   "source": [
    "die2.roll()\n",
    "die2.value, die.value"
   ]
  },
  {
   "cell_type": "markdown",
   "metadata": {
    "collapsed": true
   },
   "source": [
    "## Dates"
   ]
  },
  {
   "cell_type": "markdown",
   "metadata": {},
   "source": [
    "Dates are **triples** of integers that are composed and compared according to certain rules.\n",
    "It might be useful to define a `Date` class that reflects the format and properties of dates.\n",
    "\n",
    "In the simplest possible approach, the class definition only contains a doc string:"
   ]
  },
  {
   "cell_type": "code",
   "execution_count": 30,
   "metadata": {
    "collapsed": true
   },
   "outputs": [],
   "source": [
    "class Date:\n",
    "    \"represent dates - year, month and day\""
   ]
  },
  {
   "cell_type": "markdown",
   "metadata": {},
   "source": [
    "Then we can create a `Date` **instance**, and populate its attributes with values."
   ]
  },
  {
   "cell_type": "code",
   "execution_count": 31,
   "metadata": {},
   "outputs": [
    {
     "name": "stdout",
     "output_type": "stream",
     "text": [
      "<__main__.Date object at 0x7febf83cdef0>\n"
     ]
    }
   ],
   "source": [
    "d = Date()\n",
    "d.year = 2017\n",
    "d.month = 11\n",
    "d.day = 8\n",
    "print(d)"
   ]
  },
  {
   "cell_type": "markdown",
   "metadata": {},
   "source": [
    "## Printing Dates"
   ]
  },
  {
   "cell_type": "markdown",
   "metadata": {},
   "source": [
    "Printing a date object does not reveal much  of its properties.  We can define a **function** that returns a string version of a date so that we can print dates in a more useful way."
   ]
  },
  {
   "cell_type": "code",
   "execution_count": 32,
   "metadata": {
    "collapsed": true
   },
   "outputs": [],
   "source": [
    "def str_date(date):\n",
    "    return \"{}/{}/{}\".format(date.day, date.month, date.year)"
   ]
  },
  {
   "cell_type": "code",
   "execution_count": 33,
   "metadata": {},
   "outputs": [
    {
     "data": {
      "text/plain": [
       "'8/11/2017'"
      ]
     },
     "execution_count": 33,
     "metadata": {},
     "output_type": "execute_result"
    }
   ],
   "source": [
    "str_date(d)"
   ]
  },
  {
   "cell_type": "code",
   "execution_count": 34,
   "metadata": {},
   "outputs": [
    {
     "name": "stdout",
     "output_type": "stream",
     "text": [
      "8/11/2017\n"
     ]
    }
   ],
   "source": [
    "print(str_date(d))"
   ]
  },
  {
   "cell_type": "markdown",
   "metadata": {},
   "source": [
    "Actually, the class `Date` is supposed to collect all date functionality.\n",
    "So the proper place for the date-to-string conversion is the `Date` class."
   ]
  },
  {
   "cell_type": "code",
   "execution_count": 35,
   "metadata": {
    "collapsed": true
   },
   "outputs": [],
   "source": [
    "class Date:\n",
    "    \"represent dates - year, month and day\"\n",
    "    \n",
    "    def str_date(self):\n",
    "        return \"{}/{}/{}\".format(self.day, self.month, self.year)"
   ]
  },
  {
   "cell_type": "markdown",
   "metadata": {},
   "source": [
    "Note how the name of the parameter `date` has changed to `self`."
   ]
  },
  {
   "cell_type": "code",
   "execution_count": 36,
   "metadata": {},
   "outputs": [
    {
     "name": "stdout",
     "output_type": "stream",
     "text": [
      "8/11/2017\n"
     ]
    }
   ],
   "source": [
    "d = Date()\n",
    "d.year, d.month, d.day = 2017, 11, 8\n",
    "print(d.str_date())"
   ]
  },
  {
   "cell_type": "markdown",
   "metadata": {},
   "source": [
    "In fact, representing objects as strings is a very common task. There is a **special method** `__str__()` used for this\n",
    "purpose.  If we provide an **implementation** of this special method as part of the `Date` class, printing of `Date`\n",
    "objects takes care of itself ..."
   ]
  },
  {
   "cell_type": "code",
   "execution_count": 37,
   "metadata": {
    "collapsed": true
   },
   "outputs": [],
   "source": [
    "class Date:\n",
    "    \"represent dates - year, month and day\"\n",
    "    \n",
    "    def __str__(self):\n",
    "        return \"{}/{}/{}\".format(self.day, self.month, self.year)"
   ]
  },
  {
   "cell_type": "code",
   "execution_count": 38,
   "metadata": {},
   "outputs": [
    {
     "name": "stdout",
     "output_type": "stream",
     "text": [
      "8/11/2017\n"
     ]
    }
   ],
   "source": [
    "d = Date()\n",
    "d.year, d.month, d.day = 2017, 11, 8\n",
    "print(d)"
   ]
  },
  {
   "cell_type": "markdown",
   "metadata": {},
   "source": [
    "## Initializing Dates"
   ]
  },
  {
   "cell_type": "markdown",
   "metadata": {},
   "source": [
    "We now could write a **function** to create new date objects:"
   ]
  },
  {
   "cell_type": "code",
   "execution_count": 39,
   "metadata": {
    "collapsed": true
   },
   "outputs": [],
   "source": [
    "def new_date(year, month, day):\n",
    "    date = Date()\n",
    "    date.year = year\n",
    "    date.month = month\n",
    "    date.day = day\n",
    "    return date"
   ]
  },
  {
   "cell_type": "code",
   "execution_count": 40,
   "metadata": {},
   "outputs": [
    {
     "name": "stdout",
     "output_type": "stream",
     "text": [
      "8/11/2017\n"
     ]
    }
   ],
   "source": [
    "d = new_date(2017, 11, 8)\n",
    "print(d)"
   ]
  },
  {
   "cell_type": "markdown",
   "metadata": {},
   "source": [
    "However, this is a common task to be placed **inside** the `Date` class, \n",
    "using the special `__init__()` method."
   ]
  },
  {
   "cell_type": "code",
   "execution_count": 41,
   "metadata": {
    "collapsed": true
   },
   "outputs": [],
   "source": [
    "class Date:\n",
    "    \"represent dates - year, month and day\"\n",
    "    \n",
    "    def __init__(self, year, month, day):\n",
    "        self.year = year\n",
    "        self.month = month\n",
    "        self.day = day\n",
    "    \n",
    "    def __str__(self):\n",
    "        return \"{}/{}/{}\".format(self.day, self.month, self.year)"
   ]
  },
  {
   "cell_type": "markdown",
   "metadata": {},
   "source": [
    "Note that `__init__()` does not return a value.  `Date()` does though, and it uses `__init__()` to \n",
    "populate the new object's attributes with the values given as arguments."
   ]
  },
  {
   "cell_type": "code",
   "execution_count": 42,
   "metadata": {},
   "outputs": [
    {
     "name": "stdout",
     "output_type": "stream",
     "text": [
      "8/11/2017\n"
     ]
    }
   ],
   "source": [
    "d = Date(2017, 11, 8)\n",
    "print(d)"
   ]
  },
  {
   "cell_type": "markdown",
   "metadata": {},
   "source": [
    "We can also provide **default values** for the date arguments."
   ]
  },
  {
   "cell_type": "code",
   "execution_count": 43,
   "metadata": {
    "collapsed": true
   },
   "outputs": [],
   "source": [
    "class Date:\n",
    "    \"represent dates - year, month and day\"\n",
    "    \n",
    "    def __init__(self, year=1970, month=1, day=1):\n",
    "        self.year = year\n",
    "        self.month = month\n",
    "        self.day = day\n",
    "    \n",
    "    def __str__(self):\n",
    "        return \"{}/{}/{}\".format(self.day, self.month, self.year)"
   ]
  },
  {
   "cell_type": "markdown",
   "metadata": {},
   "source": [
    "Then omitted arguments will default to those given values."
   ]
  },
  {
   "cell_type": "code",
   "execution_count": 44,
   "metadata": {},
   "outputs": [
    {
     "name": "stdout",
     "output_type": "stream",
     "text": [
      "1/11/2017\n",
      "1/1/2017\n",
      "1/1/1970\n"
     ]
    }
   ],
   "source": [
    "print(Date(2017,11))\n",
    "print(Date(2017))\n",
    "print(Date())"
   ]
  },
  {
   "cell_type": "markdown",
   "metadata": {},
   "source": [
    "## Other Special Methods"
   ]
  },
  {
   "cell_type": "markdown",
   "metadata": {},
   "source": [
    "There is a range of special methods that can be useful.\n",
    "\n",
    "* Arithmetic: `__add__()`, `__sub__()`, `__mul__()`, `__div__()`, ...\n",
    "* Comparison: `__eq__()`, `__lt__()`, ..."
   ]
  },
  {
   "cell_type": "markdown",
   "metadata": {},
   "source": [
    "If we provide implementations of the `__eq__()` and `__lt__()` methods in our `Date` class, we will be able to compare dates."
   ]
  },
  {
   "cell_type": "code",
   "execution_count": 45,
   "metadata": {
    "collapsed": true
   },
   "outputs": [],
   "source": [
    "class Date:\n",
    "    \"represent dates - year, month and day\"\n",
    "    \n",
    "    def __init__(self, year, month, day):\n",
    "        self.year = year\n",
    "        self.month = month\n",
    "        self.day = day\n",
    "    \n",
    "    def __str__(self):\n",
    "        return \"{}/{}/{}\".format(self.day, self.month, self.year)\n",
    "    \n",
    "    def __eq__(self, other):\n",
    "        return self.year == other.year and self.month == other.month and self.day == other.day\n",
    "\n",
    "    def __lt__(self, other):\n",
    "        if self.year != other.year:\n",
    "            return self.year < other.year\n",
    "        elif self.month != other.month:\n",
    "            return self.month < other.month\n",
    "        else:\n",
    "            return self.day < other.day\n",
    "        "
   ]
  },
  {
   "cell_type": "markdown",
   "metadata": {},
   "source": [
    "With these methods in place, the usual comparison operators can be used to compare dates."
   ]
  },
  {
   "cell_type": "code",
   "execution_count": 46,
   "metadata": {
    "collapsed": true
   },
   "outputs": [],
   "source": [
    "today = Date(2017, 11, 8)\n",
    "tomorrow = Date(2017, 11, 9)"
   ]
  },
  {
   "cell_type": "code",
   "execution_count": 47,
   "metadata": {},
   "outputs": [
    {
     "data": {
      "text/plain": [
       "False"
      ]
     },
     "execution_count": 47,
     "metadata": {},
     "output_type": "execute_result"
    }
   ],
   "source": [
    "today == tomorrow"
   ]
  },
  {
   "cell_type": "code",
   "execution_count": 48,
   "metadata": {},
   "outputs": [
    {
     "data": {
      "text/plain": [
       "True"
      ]
     },
     "execution_count": 48,
     "metadata": {},
     "output_type": "execute_result"
    }
   ],
   "source": [
    "today < tomorrow"
   ]
  },
  {
   "cell_type": "code",
   "execution_count": null,
   "metadata": {
    "collapsed": true
   },
   "outputs": [],
   "source": []
  }
 ],
 "metadata": {
  "kernelspec": {
   "display_name": "Python 3",
   "language": "python",
   "name": "python3"
  },
  "language_info": {
   "codemirror_mode": {
    "name": "ipython",
    "version": 3
   },
   "file_extension": ".py",
   "mimetype": "text/x-python",
   "name": "python",
   "nbconvert_exporter": "python",
   "pygments_lexer": "ipython3",
   "version": "3.6.1"
  }
 },
 "nbformat": 4,
 "nbformat_minor": 2
}
