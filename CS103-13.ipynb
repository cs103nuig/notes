{
 "cells": [
  {
   "cell_type": "markdown",
   "metadata": {},
   "source": [
    "### CS102/CS103\n",
    "\n",
    "Prof. Götz Pfeiffer<br />\n",
    "School of Mathematics, Statistics and Applied Mathematics<br />\n",
    "NUI Galway"
   ]
  },
  {
   "cell_type": "markdown",
   "metadata": {},
   "source": [
    "# Lecture 13: String Processing"
   ]
  },
  {
   "cell_type": "markdown",
   "metadata": {},
   "source": [
    "Strings are an important type of data in any computing environment,\n",
    "as they provide a highly convenient form of communicating information\n",
    "between a (human) user and a (computer based) application.\n",
    "We have already seen (and used) `python`'s basic string operations.\n",
    "Here, we will extend that toolset by more advanced\n",
    "string formatting operations."
   ]
  },
  {
   "cell_type": "markdown",
   "metadata": {},
   "source": [
    "But first, some comments on recent programming tasks."
   ]
  },
  {
   "cell_type": "markdown",
   "metadata": {
    "collapsed": true
   },
   "source": [
    "## Practicals"
   ]
  },
  {
   "cell_type": "markdown",
   "metadata": {},
   "source": [
    "..."
   ]
  },
  {
   "cell_type": "markdown",
   "metadata": {},
   "source": [
    "## Simple String Processing."
   ]
  },
  {
   "cell_type": "markdown",
   "metadata": {},
   "source": [
    "Recall the basic string operations.\n",
    "\n",
    "Operator | Meaning\n",
    ":-:|:-:\n",
    "`+` | Concatenation\n",
    "`*` | Repetition\n",
    "`string[...]` | Indexing\n",
    "`string[...:...]` | Slicing\n",
    "`len(string)` | Length\n",
    "`for c in string:` | Loop over Characters"
   ]
  },
  {
   "cell_type": "markdown",
   "metadata": {},
   "source": [
    "### Example: User Names"
   ]
  },
  {
   "cell_type": "markdown",
   "metadata": {},
   "source": [
    "Suppose we want to generate usernames (other than student IDs)\n",
    "for user accounts on a computer. Given a person's name,\n",
    "that is their first name and their last name, the person's username\n",
    "should consist of their first initial, followed by up to 7 letters\n",
    "of their last name.\n",
    "Skipping over the details of the software development process in this case,\n",
    "here is a first, simple version of a `python` function which does this."
   ]
  },
  {
   "cell_type": "code",
   "execution_count": 1,
   "metadata": {
    "collapsed": true
   },
   "outputs": [],
   "source": [
    "def username(first, last):\n",
    "    \"compute a username from a person's name\"    \n",
    "    uname = first[0] + last[:7]\n",
    "    return uname"
   ]
  },
  {
   "cell_type": "code",
   "execution_count": 2,
   "metadata": {},
   "outputs": [
    {
     "data": {
      "text/plain": [
       "'gpfeiffe'"
      ]
     },
     "execution_count": 2,
     "metadata": {},
     "output_type": "execute_result"
    }
   ],
   "source": [
    "username(\"goetz\", \"pfeiffer\")"
   ]
  },
  {
   "cell_type": "markdown",
   "metadata": {},
   "source": [
    "Let's try it on last week's student names."
   ]
  },
  {
   "cell_type": "code",
   "execution_count": 3,
   "metadata": {
    "collapsed": true
   },
   "outputs": [],
   "source": [
    "students_file = open(\"students.csv\")\n",
    "lines = students_file.readlines()\n",
    "students_file.close()"
   ]
  },
  {
   "cell_type": "code",
   "execution_count": 4,
   "metadata": {},
   "outputs": [
    {
     "data": {
      "text/plain": [
       "'DOYLE,DILLON\\n'"
      ]
     },
     "execution_count": 4,
     "metadata": {},
     "output_type": "execute_result"
    }
   ],
   "source": [
    "from random import randrange\n",
    "line = lines[randrange(0,len(lines))]\n",
    "line"
   ]
  },
  {
   "cell_type": "code",
   "execution_count": 5,
   "metadata": {
    "collapsed": true
   },
   "outputs": [],
   "source": [
    "def csv2name(line):\n",
    "    name = line.strip()\n",
    "    name = name.split(',')\n",
    "    return name[1], name[0]"
   ]
  },
  {
   "cell_type": "code",
   "execution_count": 6,
   "metadata": {},
   "outputs": [
    {
     "data": {
      "text/plain": [
       "'DDOYLE'"
      ]
     },
     "execution_count": 6,
     "metadata": {},
     "output_type": "execute_result"
    }
   ],
   "source": [
    "first, last = csv2name(line)\n",
    "username(first, last)"
   ]
  },
  {
   "cell_type": "markdown",
   "metadata": {},
   "source": [
    "Great!  Except that usernames should be all lowercase ..."
   ]
  },
  {
   "cell_type": "markdown",
   "metadata": {},
   "source": [
    "### Example:  Month Abbreviations"
   ]
  },
  {
   "cell_type": "markdown",
   "metadata": {},
   "source": [
    "Suppose we want to compute the 3-letter abbreviation of a month's name\n",
    "that corresponds to a given month number, like `10` becomes `Oct`.  This would be just another conversion\n",
    "problem, but unfortunately, there is no nice conversion formula, or is there?\n",
    "\n",
    "Taking advantage of the fact that all 3-letter abbreviations are exactly, well,\n",
    "3 letters long, a clever use of slicing gives something like a conversion formula.\n",
    "Suppose we put all the months into one long string:"
   ]
  },
  {
   "cell_type": "code",
   "execution_count": 7,
   "metadata": {
    "collapsed": true
   },
   "outputs": [],
   "source": [
    "months = \"JanFebMarAprMayJunJulAugSepOctNovDec\""
   ]
  },
  {
   "cell_type": "markdown",
   "metadata": {},
   "source": [
    "Then we can pick one of the names as a slice of length 3:"
   ]
  },
  {
   "cell_type": "code",
   "execution_count": 8,
   "metadata": {},
   "outputs": [
    {
     "data": {
      "text/plain": [
       "'bMa'"
      ]
     },
     "execution_count": 8,
     "metadata": {},
     "output_type": "execute_result"
    }
   ],
   "source": [
    "months[5:5+3]"
   ]
  },
  {
   "cell_type": "code",
   "execution_count": 9,
   "metadata": {},
   "outputs": [
    {
     "data": {
      "text/plain": [
       "'Mar'"
      ]
     },
     "execution_count": 9,
     "metadata": {},
     "output_type": "execute_result"
    }
   ],
   "source": [
    "months[6:6+3]"
   ]
  },
  {
   "cell_type": "markdown",
   "metadata": {},
   "source": [
    "How to compute the correct positions of the slice from the month number?\n",
    "\n",
    "month|number|from:to\n",
    ":-:|:-:|:-:\n",
    "`Jan`|1|0:3|\n",
    "`Feb`|2|3:6|\n",
    "`Mar`|3|6:9|\n",
    "...|...|..."
   ]
  },
  {
   "cell_type": "markdown",
   "metadata": {},
   "source": [
    "So the slice positions are all multiples of 3. For `Jan` ($=1$)\n",
    "the slice goes from $0$ to (but not including) $3$, for `Feb` ($= 2$) from $3$ \n",
    "to $6$, etc.  The **upper** slice index is 3 times the month's number.\n",
    "This observation can now be implemented as follows."
   ]
  },
  {
   "cell_type": "code",
   "execution_count": 10,
   "metadata": {
    "collapsed": true
   },
   "outputs": [],
   "source": [
    "def month(number):\n",
    "    \"compute a 3-letter month name\"\n",
    "    months = \"JanFebMarAprMayJunJulAugSepOctNovDec\" # lookup table\n",
    "    pos = 3 * number\n",
    "    name = months[pos-3:pos]\n",
    "    return name\n",
    "    "
   ]
  },
  {
   "cell_type": "code",
   "execution_count": 11,
   "metadata": {},
   "outputs": [
    {
     "data": {
      "text/plain": [
       "'Mar'"
      ]
     },
     "execution_count": 11,
     "metadata": {},
     "output_type": "execute_result"
    }
   ],
   "source": [
    "month(3)"
   ]
  },
  {
   "cell_type": "code",
   "execution_count": 12,
   "metadata": {},
   "outputs": [
    {
     "data": {
      "text/plain": [
       "'Oct'"
      ]
     },
     "execution_count": 12,
     "metadata": {},
     "output_type": "execute_result"
    }
   ],
   "source": [
    "month(10)"
   ]
  },
  {
   "cell_type": "markdown",
   "metadata": {},
   "source": [
    "## Character Encoding"
   ]
  },
  {
   "cell_type": "markdown",
   "metadata": {},
   "source": [
    "We have seen that strings internally are repesented by sequences of numbers,\n",
    "one for each character.  Originally, the underlying character set was limited to the\n",
    "symbols you find on an american computer keyboard, and standardised as the\n",
    "128 letters of the ASCII code.  These days, the much larger set of symbols\n",
    "in the [Unicode](https://en.wikipedia.org/wiki/Unicode) standard can be used.\n",
    "\n",
    "`python` has built-in functions `ord()` and `chr()` that convert characters into\n",
    "integer codes and back.  Looping over strings  can be used to write\n",
    "encoder and decoder functions."
   ]
  },
  {
   "cell_type": "markdown",
   "metadata": {},
   "source": [
    "### Encoder"
   ]
  },
  {
   "cell_type": "code",
   "execution_count": 13,
   "metadata": {
    "collapsed": true
   },
   "outputs": [],
   "source": [
    "def text2unicode(message):\n",
    "    \"convert a textual message into a sequence of Unicode code points\"\n",
    "    codes = []\n",
    "    for c in message:\n",
    "        code = ord(c)\n",
    "        codes.append(code)\n",
    "    return codes"
   ]
  },
  {
   "cell_type": "code",
   "execution_count": 14,
   "metadata": {},
   "outputs": [
    {
     "data": {
      "text/plain": [
       "[72, 105, 32, 116, 104, 101, 114, 101, 33]"
      ]
     },
     "execution_count": 14,
     "metadata": {},
     "output_type": "execute_result"
    }
   ],
   "source": [
    "text2unicode(\"Hi there!\")"
   ]
  },
  {
   "cell_type": "markdown",
   "metadata": {},
   "source": [
    "### Decoder"
   ]
  },
  {
   "cell_type": "code",
   "execution_count": 15,
   "metadata": {
    "collapsed": true
   },
   "outputs": [],
   "source": [
    "def unicode2text(codes):\n",
    "    \"convert a sequence of Unicode code points into text\"\n",
    "    message = \"\"\n",
    "    for code in codes:\n",
    "        c = chr(code)\n",
    "        message = message + c\n",
    "    return message"
   ]
  },
  {
   "cell_type": "code",
   "execution_count": 16,
   "metadata": {},
   "outputs": [
    {
     "data": {
      "text/plain": [
       "'Hi there!'"
      ]
     },
     "execution_count": 16,
     "metadata": {},
     "output_type": "execute_result"
    }
   ],
   "source": [
    "unicode2text([72, 105, 32, 116, 104, 101, 114, 101, 33])"
   ]
  },
  {
   "cell_type": "markdown",
   "metadata": {},
   "source": [
    "Actually, while string concatenation is handy, it is not the most\n",
    "efficient way to build a string. (Because strings are immutable, \n",
    "new characters cannot simply be appended, a new string object has to \n",
    "be created every time a new character arrives.)"
   ]
  },
  {
   "cell_type": "code",
   "execution_count": 17,
   "metadata": {
    "collapsed": true
   },
   "outputs": [],
   "source": [
    "def unicode2text2(codes):\n",
    "    \"efficiently convert Unicode into text\"\n",
    "    chars = []\n",
    "    for code in codes:\n",
    "        c = chr(code)\n",
    "        chars.append(c)\n",
    "    message = \"\".join(chars)\n",
    "    return message"
   ]
  },
  {
   "cell_type": "code",
   "execution_count": 18,
   "metadata": {},
   "outputs": [
    {
     "data": {
      "text/plain": [
       "'Hi there!'"
      ]
     },
     "execution_count": 18,
     "metadata": {},
     "output_type": "execute_result"
    }
   ],
   "source": [
    "unicode2text2([72, 105, 32, 116, 104, 101, 114, 101, 33])"
   ]
  },
  {
   "cell_type": "markdown",
   "metadata": {},
   "source": [
    "## Converting Dates"
   ]
  },
  {
   "cell_type": "markdown",
   "metadata": {},
   "source": [
    "Sometimes, dates are given in the format `dd/mm/yyyy`, but\n",
    "a date reads nicer in the format `month day, year`.   String operations\n",
    "can be used to convert one format into the other.\n",
    "This time, we want to work with the full month name, and cannot use the\n",
    "trick above.  Still, the names can be stored in a lookup table."
   ]
  },
  {
   "cell_type": "code",
   "execution_count": 19,
   "metadata": {
    "collapsed": true
   },
   "outputs": [],
   "source": [
    "def nice_date(date):\n",
    "    \"convert dd/mm/yyyy into month day, year\"\n",
    "    months = [ \"January\", \"February\", \"March\", \"April\",\n",
    "             \"May\", \"June\", \"July\", \"August\",\n",
    "             \"September\", \"October\", \"November\", \"December\"]\n",
    "    dd, mm, yyyy = date.split(\"/\")\n",
    "    day = dd\n",
    "    month = months[int(mm) - 1]\n",
    "    year = yyyy\n",
    "    text = month + \" \" + day + \", \" + year\n",
    "    return text\n",
    "    "
   ]
  },
  {
   "cell_type": "code",
   "execution_count": 20,
   "metadata": {},
   "outputs": [
    {
     "data": {
      "text/plain": [
       "'March 02, 2003'"
      ]
     },
     "execution_count": 20,
     "metadata": {},
     "output_type": "execute_result"
    }
   ],
   "source": [
    "nice_date(\"02/03/2003\")\n"
   ]
  },
  {
   "cell_type": "markdown",
   "metadata": {},
   "source": [
    "This works, but string concatenation is somewhat clumsy.  Better use **string formatting**."
   ]
  },
  {
   "cell_type": "code",
   "execution_count": 21,
   "metadata": {
    "collapsed": true
   },
   "outputs": [],
   "source": [
    "def nice_date2(date):\n",
    "    \"convert dd/mm/yyyy into month day, year\"\n",
    "    months = [ \"January\", \"February\", \"March\", \"April\",\n",
    "             \"May\", \"June\", \"July\", \"August\",\n",
    "             \"September\", \"October\", \"November\", \"December\"]\n",
    "    dd, mm, yyyy = date.split(\"/\")\n",
    "    text = \"{1} {0}, {2}\".format(dd, months[int(mm) - 1], yyyy)\n",
    "    return text\n"
   ]
  },
  {
   "cell_type": "code",
   "execution_count": 22,
   "metadata": {},
   "outputs": [
    {
     "data": {
      "text/plain": [
       "'October 17, 2017'"
      ]
     },
     "execution_count": 22,
     "metadata": {},
     "output_type": "execute_result"
    }
   ],
   "source": [
    "nice_date2(\"17/10/2017\")"
   ]
  },
  {
   "cell_type": "markdown",
   "metadata": {},
   "source": [
    "##  String Formatting"
   ]
  },
  {
   "cell_type": "markdown",
   "metadata": {},
   "source": [
    "The `format()` method applies to **format strings** and can be used to solve many common\n",
    "string manipulation problems.\n",
    "\n",
    "The format string contains **replacement fields** surrounded by curly braces (`{}`).\n",
    "Anything outside curly braces is copied to the result string.\n",
    "The replacement fields are replaced by the values of the arguments passed to the\n",
    "`format()` call.\n",
    "\n",
    "* The arguments of `format` are numbered `0`, `1`, ..., and can be referred to\n",
    "by those numbers: `{1}` stands for the second argument:"
   ]
  },
  {
   "cell_type": "code",
   "execution_count": 23,
   "metadata": {},
   "outputs": [
    {
     "data": {
      "text/plain": [
       "'replace me'"
      ]
     },
     "execution_count": 23,
     "metadata": {},
     "output_type": "execute_result"
    }
   ],
   "source": [
    "\"replace {1}\".format(\"you\", \"me\")"
   ]
  },
  {
   "cell_type": "markdown",
   "metadata": {},
   "source": [
    "* If the positions are omitted, the replacement fields are filled with the arguments\n",
    "in their original order:"
   ]
  },
  {
   "cell_type": "code",
   "execution_count": 24,
   "metadata": {},
   "outputs": [
    {
     "data": {
      "text/plain": [
       "'1 2 3'"
      ]
     },
     "execution_count": 24,
     "metadata": {},
     "output_type": "execute_result"
    }
   ],
   "source": [
    "\"{} {} {}\".format(1, 2, 3)"
   ]
  },
  {
   "cell_type": "markdown",
   "metadata": {},
   "source": [
    "Field names can be accompanied by format specifications which indicate how the\n",
    "the value should be presented: field width, alignment, padding, decimal precision, etc."
   ]
  },
  {
   "cell_type": "markdown",
   "metadata": {},
   "source": [
    "### Alignment\n",
    "\n",
    "Option | Meaning\n",
    "---|---\n",
    "`<`| left aligned\n",
    "`>`| right aligned\n",
    "`^`| centered\n",
    "\n",
    "Alignment options only have an effect if a minimum field width is given.\n",
    "If the width is not specified the field width is determined by its content."
   ]
  },
  {
   "cell_type": "code",
   "execution_count": 25,
   "metadata": {},
   "outputs": [
    {
     "data": {
      "text/plain": [
       "'x    |  x  |    x'"
      ]
     },
     "execution_count": 25,
     "metadata": {},
     "output_type": "execute_result"
    }
   ],
   "source": [
    "\"{0:<5}|{0:^5}|{0:>5}\".format(\"x\")"
   ]
  },
  {
   "cell_type": "markdown",
   "metadata": {},
   "source": [
    "### Precision\n",
    "\n",
    "For floating point and decimal values, a **precision** parameter\n",
    "indicates how many digits should be shown, either after the decimal dot,\n",
    "or in total, depending on a further **type** parameter (`e`, `f` or `g`)."
   ]
  },
  {
   "cell_type": "code",
   "execution_count": 26,
   "metadata": {},
   "outputs": [
    {
     "data": {
      "text/plain": [
       "'3141.5927|  3.1416e+03| 3141.59'"
      ]
     },
     "execution_count": 26,
     "metadata": {},
     "output_type": "execute_result"
    }
   ],
   "source": [
    "from math import pi\n",
    "\"{0:.4f}|{0:12.4e}|{0:8.6g}\".format(1000*pi)"
   ]
  },
  {
   "cell_type": "markdown",
   "metadata": {},
   "source": [
    "### Padding"
   ]
  },
  {
   "cell_type": "code",
   "execution_count": 27,
   "metadata": {},
   "outputs": [
    {
     "data": {
      "text/plain": [
       "'05/08/2015'"
      ]
     },
     "execution_count": 27,
     "metadata": {},
     "output_type": "execute_result"
    }
   ],
   "source": [
    "\"{:0>2}/{:0>2}/{}\".format(5, 8, 2015)"
   ]
  },
  {
   "cell_type": "markdown",
   "metadata": {},
   "source": [
    "## Summary: Strings"
   ]
  },
  {
   "cell_type": "markdown",
   "metadata": {},
   "source": [
    "* Strings are **immutable** sequences of **Unicode** characters.\n",
    "\n",
    "* Like lists, strings can be manipulated with the built-in **sequence operations** for **concatenation** (`+`),\n",
    "**repetition** (`*`),\n",
    "**indexing** (`[]`),\n",
    "**slicing** (`[:]`),\n",
    "and **length** (`len()`).\n",
    "\n",
    "* A `for` loop can be used to iterate through the characters of a string.\n",
    "\n",
    "* One way of **converting numerical information** into text\n",
    "is to use a single string, or a list of strings as a **lookup table**.\n",
    "\n",
    "* Strings are represented on the computer as **numerical codes**\n",
    "using the  Unicode standard.\n",
    "\n",
    "* The `python` functions `ord()` and `chr()` **convert**\n",
    "between Unicode codes and characters.\n",
    "\n",
    "* Data processing often involves **string processing**.\n",
    "\n",
    "* The **string formatting** method `format()` is particularly useful\n",
    "for producing nicely formatted text."
   ]
  },
  {
   "cell_type": "code",
   "execution_count": null,
   "metadata": {
    "collapsed": true
   },
   "outputs": [],
   "source": []
  }
 ],
 "metadata": {
  "kernelspec": {
   "display_name": "Python 3",
   "language": "python",
   "name": "python3"
  },
  "language_info": {
   "codemirror_mode": {
    "name": "ipython",
    "version": 3
   },
   "file_extension": ".py",
   "mimetype": "text/x-python",
   "name": "python",
   "nbconvert_exporter": "python",
   "pygments_lexer": "ipython3",
   "version": "3.6.1"
  }
 },
 "nbformat": 4,
 "nbformat_minor": 2
}
