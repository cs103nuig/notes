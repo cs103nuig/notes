{
 "cells": [
  {
   "cell_type": "markdown",
   "metadata": {},
   "source": [
    "### CS102/CS103\n",
    "\n",
    "Prof. Götz Pfeiffer<br />\n",
    "School of Mathematics, Statistics and Applied Mathematics<br />\n",
    "NUI Galway"
   ]
  },
  {
   "cell_type": "markdown",
   "metadata": {},
   "source": [
    "# Lecture 8: Lists. And Loops"
   ]
  },
  {
   "cell_type": "markdown",
   "metadata": {},
   "source": [
    "We have seen some types of data that really are **collections** of\n",
    "data, rather than singletons:  \n",
    "\n",
    "* a string is an ordered collection of letters;\n",
    "\n",
    "* a range represents a collection of integers.\n",
    "\n",
    "And in the case of strings we have seen certain operations,\n",
    "like indexing, slicing and concatenation, which make sense\n",
    "for general ordered collections.  In this lecture we'll \n",
    "discuss `python`'s data type for general ordered collections:\n",
    "`list`.  And we'll see how lists collaborating with definite loops\n",
    "yield some powerful programming tools.\n",
    "\n",
    "Before that, let's look back once more at Euclid's algorithm\n",
    "for the computation of the greatest common divisor of two\n",
    "integers."
   ]
  },
  {
   "cell_type": "markdown",
   "metadata": {},
   "source": [
    "## Euclid's Algorithm, Extended"
   ]
  },
  {
   "cell_type": "markdown",
   "metadata": {},
   "source": [
    "Any pair of integers $a$ and $b$ has the following property.\n",
    "If $d = \\gcd(a, b)$, then by [Bezout's Lemma](https://en.wikipedia.org/wiki/B%C3%A9zout%27s_identity), there are\n",
    "integers $x$ and $y$ such that\n",
    "$$d = xa + yb.$$\n",
    "This is an interesting property, because in the case $d = 1$,\n",
    "modulo $a$ the equation becomes\n",
    "$$1 = yb,$$\n",
    "showing that $y$ is the **modular inverse** of $b$ (modulo $a$).\n",
    "\n",
    "\n",
    "These numbers $x$ and $y$ can be determined by running\n",
    "a $\\gcd$ calculation backwards:  \n",
    "Suppose we know numbers $x$ and $y$ such that\n",
    "$$\\gcd(b, a \\% b) = x b + y (a \\% b)$$\n",
    "then\n",
    "$$\\gcd(a, b) = y a + (x - \\lfloor a / b \\rfloor y) b$$\n",
    "as $\\gcd(a, b) = \\gcd(b, a \\% b)$ and\n",
    "$a - \\lfloor a / b \\rfloor b = a \\% b$.\n",
    "This process is called the\n",
    "**extended Euclidean algorithm** and it can be implemented as\n",
    "follows."
   ]
  },
  {
   "cell_type": "code",
   "execution_count": 1,
   "metadata": {},
   "outputs": [
    {
     "data": {
      "text/plain": [
       "(-29, 83)"
      ]
     },
     "execution_count": 1,
     "metadata": {},
     "output_type": "execute_result"
    }
   ],
   "source": [
    "def egcd(a, b):\n",
    "    \"find integers  x, y  such that  gcd(a,b) = x*a + y*b\"\n",
    "    if b == 0:\n",
    "        return (1, 0)\n",
    "    x, y = egcd(b, a % b)\n",
    "    x, y = y, x - (a // b) * y\n",
    "#    print(x * a + y * b, \"=\", x, \"*\", a, \"+\", y, \"*\", b)\n",
    "    return (x, y)\n",
    "\n",
    "egcd(352, 123)"
   ]
  },
  {
   "cell_type": "markdown",
   "metadata": {},
   "source": [
    "Check the result:"
   ]
  },
  {
   "cell_type": "code",
   "execution_count": 2,
   "metadata": {},
   "outputs": [
    {
     "data": {
      "text/plain": [
       "1"
      ]
     },
     "execution_count": 2,
     "metadata": {},
     "output_type": "execute_result"
    }
   ],
   "source": [
    "-29 * 352 + 83 * 123"
   ]
  },
  {
   "cell_type": "markdown",
   "metadata": {
    "collapsed": true
   },
   "source": [
    "We can use this algorithm to compute modular inverses:"
   ]
  },
  {
   "cell_type": "code",
   "execution_count": 3,
   "metadata": {},
   "outputs": [
    {
     "name": "stdout",
     "output_type": "stream",
     "text": [
      "0 has no inverse mod 30 : d =  30\n",
      "1 ^-1 =  1 mod 30\n",
      "2 has no inverse mod 30 : d =  2\n",
      "3 has no inverse mod 30 : d =  3\n",
      "4 has no inverse mod 30 : d =  2\n",
      "5 has no inverse mod 30 : d =  5\n",
      "6 has no inverse mod 30 : d =  6\n",
      "7 ^-1 =  13 mod 30\n",
      "8 has no inverse mod 30 : d =  2\n",
      "9 has no inverse mod 30 : d =  3\n",
      "10 has no inverse mod 30 : d =  10\n",
      "11 ^-1 =  11 mod 30\n",
      "12 has no inverse mod 30 : d =  6\n",
      "13 ^-1 =  7 mod 30\n",
      "14 has no inverse mod 30 : d =  2\n",
      "15 has no inverse mod 30 : d =  15\n",
      "16 has no inverse mod 30 : d =  2\n",
      "17 ^-1 =  -7 mod 30\n",
      "18 has no inverse mod 30 : d =  6\n",
      "19 ^-1 =  -11 mod 30\n",
      "20 has no inverse mod 30 : d =  10\n",
      "21 has no inverse mod 30 : d =  3\n",
      "22 has no inverse mod 30 : d =  2\n",
      "23 ^-1 =  -13 mod 30\n",
      "24 has no inverse mod 30 : d =  6\n",
      "25 has no inverse mod 30 : d =  5\n",
      "26 has no inverse mod 30 : d =  2\n",
      "27 has no inverse mod 30 : d =  3\n",
      "28 has no inverse mod 30 : d =  2\n",
      "29 ^-1 =  -1 mod 30\n"
     ]
    }
   ],
   "source": [
    "def print_modular_inverse(a, m):\n",
    "    \"compute the modular inverse of a modulo m\"\n",
    "    x, y = egcd(m, a)\n",
    "    d = x * m + y * a\n",
    "    if d != 1:\n",
    "        print(a, \"has no inverse mod\", m, \": d = \", d)\n",
    "    else:\n",
    "        print(a, \"^-1 = \", y, \"mod\", m)\n",
    "\n",
    "def print_all_modular_inverses(m):\n",
    "    for a in range(m):\n",
    "        print_modular_inverse(a, m)\n",
    "        \n",
    "print_all_modular_inverses(30)"
   ]
  },
  {
   "cell_type": "markdown",
   "metadata": {
    "collapsed": true
   },
   "source": [
    "## Lists"
   ]
  },
  {
   "cell_type": "markdown",
   "metadata": {},
   "source": [
    "Often data come as collections, or lists, of data of \n",
    "the same or even of different type.  `python` has a `list` data\n",
    "type to cater for those"
   ]
  },
  {
   "cell_type": "code",
   "execution_count": 4,
   "metadata": {},
   "outputs": [
    {
     "data": {
      "text/plain": [
       "[0, 1, 2, 3, 4, 5, 6, 7, 8, 9]"
      ]
     },
     "execution_count": 4,
     "metadata": {},
     "output_type": "execute_result"
    }
   ],
   "source": [
    "list(range(10))"
   ]
  },
  {
   "cell_type": "code",
   "execution_count": 5,
   "metadata": {},
   "outputs": [
    {
     "data": {
      "text/plain": [
       "['h', 'e', 'l', 'l', 'o']"
      ]
     },
     "execution_count": 5,
     "metadata": {},
     "output_type": "execute_result"
    }
   ],
   "source": [
    "list(\"hello\")"
   ]
  },
  {
   "cell_type": "code",
   "execution_count": 6,
   "metadata": {},
   "outputs": [
    {
     "data": {
      "text/plain": [
       "[]"
      ]
     },
     "execution_count": 6,
     "metadata": {},
     "output_type": "execute_result"
    }
   ],
   "source": [
    "[]"
   ]
  },
  {
   "cell_type": "markdown",
   "metadata": {},
   "source": [
    "### List Literals"
   ]
  },
  {
   "cell_type": "markdown",
   "metadata": {},
   "source": [
    "* A **list literal** is a **comma-separated** sequence of values,\n",
    "enclosed in a pair of **square brackets**."
   ]
  },
  {
   "cell_type": "code",
   "execution_count": 7,
   "metadata": {},
   "outputs": [
    {
     "data": {
      "text/plain": [
       "['Physics', 'Maths', 2017, 2018, 3.1415, range(0, 10)]"
      ]
     },
     "execution_count": 7,
     "metadata": {},
     "output_type": "execute_result"
    }
   ],
   "source": [
    "items = [\"Physics\", \"Maths\", 2017, 2018, 3.1415, range(10)]\n",
    "items"
   ]
  },
  {
   "cell_type": "markdown",
   "metadata": {},
   "source": [
    "* The items in a list need not all have the same type."
   ]
  },
  {
   "cell_type": "markdown",
   "metadata": {},
   "source": [
    "### Accessing List Items"
   ]
  },
  {
   "cell_type": "markdown",
   "metadata": {},
   "source": [
    "The length of a list, i.e., the number of items it contains,\n",
    "is determined by the `len()` function, as for strings."
   ]
  },
  {
   "cell_type": "code",
   "execution_count": 8,
   "metadata": {},
   "outputs": [
    {
     "data": {
      "text/plain": [
       "6"
      ]
     },
     "execution_count": 8,
     "metadata": {},
     "output_type": "execute_result"
    }
   ],
   "source": [
    "len(items)"
   ]
  },
  {
   "cell_type": "markdown",
   "metadata": {},
   "source": [
    "**Indexing** and **slicing** works for list as it does for strings:"
   ]
  },
  {
   "cell_type": "code",
   "execution_count": 9,
   "metadata": {},
   "outputs": [
    {
     "data": {
      "text/plain": [
       "'Maths'"
      ]
     },
     "execution_count": 9,
     "metadata": {},
     "output_type": "execute_result"
    }
   ],
   "source": [
    "items[1]"
   ]
  },
  {
   "cell_type": "markdown",
   "metadata": {},
   "source": [
    "* indices start at $0$"
   ]
  },
  {
   "cell_type": "code",
   "execution_count": 10,
   "metadata": {},
   "outputs": [
    {
     "data": {
      "text/plain": [
       "2018"
      ]
     },
     "execution_count": 10,
     "metadata": {},
     "output_type": "execute_result"
    }
   ],
   "source": [
    "items[-3]"
   ]
  },
  {
   "cell_type": "markdown",
   "metadata": {},
   "source": [
    "* negative indices count from the end of the list"
   ]
  },
  {
   "cell_type": "code",
   "execution_count": 11,
   "metadata": {},
   "outputs": [
    {
     "data": {
      "text/plain": [
       "[2018, 3.1415]"
      ]
     },
     "execution_count": 11,
     "metadata": {},
     "output_type": "execute_result"
    }
   ],
   "source": [
    "items[3:5]"
   ]
  },
  {
   "cell_type": "markdown",
   "metadata": {},
   "source": [
    "* a **slice** is determined by two indices."
   ]
  },
  {
   "cell_type": "code",
   "execution_count": 12,
   "metadata": {},
   "outputs": [
    {
     "data": {
      "text/plain": [
       "['Physics', 'Maths', 2017, 2018, 3.1415, range(0, 10)]"
      ]
     },
     "execution_count": 12,
     "metadata": {},
     "output_type": "execute_result"
    }
   ],
   "source": [
    "items[:]  # make a copy of the list"
   ]
  },
  {
   "cell_type": "markdown",
   "metadata": {},
   "source": [
    "* omitted slice indices default to the beginning and end of the list."
   ]
  },
  {
   "cell_type": "markdown",
   "metadata": {},
   "source": [
    "### Updating Lists"
   ]
  },
  {
   "cell_type": "code",
   "execution_count": 13,
   "metadata": {},
   "outputs": [
    {
     "data": {
      "text/plain": [
       "['Physics', 'Chemistry', 2017, 2018, 3.1415, range(0, 10)]"
      ]
     },
     "execution_count": 13,
     "metadata": {},
     "output_type": "execute_result"
    }
   ],
   "source": [
    "items[1] = 'Chemistry'\n",
    "items"
   ]
  },
  {
   "cell_type": "code",
   "execution_count": 14,
   "metadata": {},
   "outputs": [
    {
     "data": {
      "text/plain": [
       "['Physics', 'Biology', 2019, 3.1415, range(0, 10)]"
      ]
     },
     "execution_count": 14,
     "metadata": {},
     "output_type": "execute_result"
    }
   ],
   "source": [
    "items[1:4] = 'Biology', 2019\n",
    "items"
   ]
  },
  {
   "cell_type": "code",
   "execution_count": 15,
   "metadata": {},
   "outputs": [
    {
     "data": {
      "text/plain": [
       "['Physics', 'Biology', 'a', 'c', 'e', 3.1415, range(0, 10)]"
      ]
     },
     "execution_count": 15,
     "metadata": {},
     "output_type": "execute_result"
    }
   ],
   "source": [
    "items[2:3] = ['a', 'c', 'e']\n",
    "items"
   ]
  },
  {
   "cell_type": "code",
   "execution_count": 16,
   "metadata": {},
   "outputs": [
    {
     "data": {
      "text/plain": [
       "['Physics', 'Biology', [1, 2, 3], 'c', 'e', 3.1415, range(0, 10)]"
      ]
     },
     "execution_count": 16,
     "metadata": {},
     "output_type": "execute_result"
    }
   ],
   "source": [
    "items[2] = [1,2,3]\n",
    "items"
   ]
  },
  {
   "cell_type": "code",
   "execution_count": 17,
   "metadata": {},
   "outputs": [
    {
     "data": {
      "text/plain": [
       "7"
      ]
     },
     "execution_count": 17,
     "metadata": {},
     "output_type": "execute_result"
    }
   ],
   "source": [
    "len(items)"
   ]
  },
  {
   "cell_type": "markdown",
   "metadata": {},
   "source": [
    "* Assigning values to non-existant list positions like\n",
    "```python\n",
    "items[7] = \"new\"\n",
    "```\n",
    "can lead to error messages.  The `append()` and `extend()` methods\n",
    "can be used to extend a list at its end."
   ]
  },
  {
   "cell_type": "code",
   "execution_count": 18,
   "metadata": {},
   "outputs": [
    {
     "data": {
      "text/plain": [
       "['hearts', 'diamonds']"
      ]
     },
     "execution_count": 18,
     "metadata": {},
     "output_type": "execute_result"
    }
   ],
   "source": [
    "items = [\"hearts\"]        # a (singleton) list\n",
    "items.append(\"diamonds\")  # extended by one item\n",
    "items"
   ]
  },
  {
   "cell_type": "code",
   "execution_count": 19,
   "metadata": {},
   "outputs": [
    {
     "data": {
      "text/plain": [
       "['hearts', 'diamonds', 'clubs', 'spades']"
      ]
     },
     "execution_count": 19,
     "metadata": {},
     "output_type": "execute_result"
    }
   ],
   "source": [
    "items + [\"clubs\", \"spades\"]"
   ]
  },
  {
   "cell_type": "code",
   "execution_count": 20,
   "metadata": {},
   "outputs": [
    {
     "data": {
      "text/plain": [
       "['hearts', 'diamonds']"
      ]
     },
     "execution_count": 20,
     "metadata": {},
     "output_type": "execute_result"
    }
   ],
   "source": [
    "items"
   ]
  },
  {
   "cell_type": "code",
   "execution_count": 21,
   "metadata": {},
   "outputs": [
    {
     "data": {
      "text/plain": [
       "['hearts', 'diamonds', 'clubs', 'spades']"
      ]
     },
     "execution_count": 21,
     "metadata": {},
     "output_type": "execute_result"
    }
   ],
   "source": [
    "items.extend([\"clubs\", \"spades\"])  # extended by another sequence\n",
    "items"
   ]
  },
  {
   "cell_type": "markdown",
   "metadata": {},
   "source": [
    "### Deleting Items from a List"
   ]
  },
  {
   "cell_type": "code",
   "execution_count": 22,
   "metadata": {},
   "outputs": [
    {
     "data": {
      "text/plain": [
       "['hearts', 'clubs', 'spades']"
      ]
     },
     "execution_count": 22,
     "metadata": {},
     "output_type": "execute_result"
    }
   ],
   "source": [
    "items.remove('diamonds')\n",
    "items"
   ]
  },
  {
   "cell_type": "markdown",
   "metadata": {},
   "source": [
    "### Membership test"
   ]
  },
  {
   "cell_type": "code",
   "execution_count": 23,
   "metadata": {},
   "outputs": [
    {
     "data": {
      "text/plain": [
       "True"
      ]
     },
     "execution_count": 23,
     "metadata": {},
     "output_type": "execute_result"
    }
   ],
   "source": [
    "'clubs' in items"
   ]
  },
  {
   "cell_type": "code",
   "execution_count": 24,
   "metadata": {},
   "outputs": [
    {
     "data": {
      "text/plain": [
       "False"
      ]
     },
     "execution_count": 24,
     "metadata": {},
     "output_type": "execute_result"
    }
   ],
   "source": [
    "'diamonds' in items"
   ]
  },
  {
   "cell_type": "code",
   "execution_count": 25,
   "metadata": {},
   "outputs": [
    {
     "data": {
      "text/plain": [
       "['hearts', 'clubs', 'spades']"
      ]
     },
     "execution_count": 25,
     "metadata": {},
     "output_type": "execute_result"
    }
   ],
   "source": [
    "if 'diamonds' in items:\n",
    "    items.remove('diamonds')\n",
    "    \n",
    "items"
   ]
  },
  {
   "cell_type": "code",
   "execution_count": 26,
   "metadata": {},
   "outputs": [
    {
     "data": {
      "text/plain": [
       "['hearts', 'spades']"
      ]
     },
     "execution_count": 26,
     "metadata": {},
     "output_type": "execute_result"
    }
   ],
   "source": [
    "if 'clubs' in items:\n",
    "    items.remove('clubs')\n",
    "    \n",
    "items"
   ]
  },
  {
   "cell_type": "markdown",
   "metadata": {},
   "source": [
    "* There are lots of other methods that apply to lists, we'll see\n",
    "some as we go along."
   ]
  },
  {
   "cell_type": "markdown",
   "metadata": {},
   "source": [
    "## Lists and Loops"
   ]
  },
  {
   "cell_type": "markdown",
   "metadata": {},
   "source": [
    "**Definite loops** (aka **`for` loops**) work well with lists.\n",
    "Such a `for` statement has the general form\n",
    "```\n",
    "for <var> in <list>:\n",
    "    <body>\n",
    "```\n",
    "It consists of a **heading** and a **body**\n",
    "The heading, between the keyword `for` and the colon (`:`) introduces a **loop variable** `<var>`\n",
    "and applies to a list object `<list>`.\n",
    "The `<body>` is a list of statements.\n",
    "\n",
    "To execute a `for` statement means to execute its `<body>` of\n",
    "statements once for each item of the list,\n",
    "using that item for one iteration as value of the variable `<var>`."
   ]
  },
  {
   "cell_type": "code",
   "execution_count": 27,
   "metadata": {},
   "outputs": [
    {
     "name": "stdout",
     "output_type": "stream",
     "text": [
      "hearts\n",
      "spades\n"
     ]
    }
   ],
   "source": [
    "for item in items:\n",
    "    print(item)"
   ]
  },
  {
   "cell_type": "markdown",
   "metadata": {},
   "source": [
    "### Accumulators"
   ]
  },
  {
   "cell_type": "markdown",
   "metadata": {},
   "source": [
    "A widespread pattern makes use of an accumulator…\n",
    "\n",
    "For example, suppose we want to know the sum $$\\sum_{i=1}^{10} i$$ of the numbers\n",
    "from $1$ to $10$.\n",
    "\n",
    "One way to implement this as a `python` program is to\n",
    "**initialize** an **accumulator variable** `total`, say,\n",
    "with a value of $0$, and then use a loop over the numbers in\n",
    "question, and add each number to the accumulator."
   ]
  },
  {
   "cell_type": "code",
   "execution_count": 28,
   "metadata": {},
   "outputs": [
    {
     "data": {
      "text/plain": [
       "55"
      ]
     },
     "execution_count": 28,
     "metadata": {},
     "output_type": "execute_result"
    }
   ],
   "source": [
    "total = 0\n",
    "for i in [1,2,3,4,5,6,7,8,9,10]:\n",
    "    total = total + i\n",
    "    \n",
    "total"
   ]
  },
  {
   "cell_type": "markdown",
   "metadata": {},
   "source": [
    "This looks useful, let's turn it into a function. We use the fact\n",
    "that the list `[1,...,n]` in `python` is represented by \n",
    "`range(1, n+1)`, the range of numbers from $1$ up to but not including $n+1$.\n",
    "\n",
    "Also, there is a shorthand for the accumulator sum\n",
    "```python\n",
    "total = total + i\n",
    "```\n",
    "which can be written as\n",
    "```python\n",
    "total += i\n",
    "```"
   ]
  },
  {
   "cell_type": "code",
   "execution_count": 29,
   "metadata": {
    "collapsed": true
   },
   "outputs": [],
   "source": [
    "def sum_up_to(n):\n",
    "    \"compute the sum of 1, ..., n\"\n",
    "    total = 0\n",
    "    for i in range(1, n+1):\n",
    "        total += i\n",
    "    \n",
    "    return total"
   ]
  },
  {
   "cell_type": "code",
   "execution_count": 30,
   "metadata": {},
   "outputs": [
    {
     "data": {
      "text/plain": [
       "55"
      ]
     },
     "execution_count": 30,
     "metadata": {},
     "output_type": "execute_result"
    }
   ],
   "source": [
    "sum_up_to(10)"
   ]
  },
  {
   "cell_type": "markdown",
   "metadata": {},
   "source": [
    "Now that we have the function, we can use it a couple of times, \n",
    "for instance to study the question: How does this sum of numbers behave as the argument `n` grows?"
   ]
  },
  {
   "cell_type": "code",
   "execution_count": 31,
   "metadata": {},
   "outputs": [
    {
     "name": "stdout",
     "output_type": "stream",
     "text": [
      "0 -> 0\n",
      "1 -> 1\n",
      "2 -> 3\n",
      "3 -> 6\n",
      "4 -> 10\n",
      "5 -> 15\n",
      "6 -> 21\n",
      "7 -> 28\n",
      "8 -> 36\n",
      "9 -> 45\n"
     ]
    }
   ],
   "source": [
    "for n in range(10):\n",
    "    print(n, \"->\", sum_up_to(n))"
   ]
  },
  {
   "cell_type": "markdown",
   "metadata": {},
   "source": [
    "Hmm.  Is that not the same as $n \\mapsto \\tfrac12 n (n+1)$?  Let's see."
   ]
  },
  {
   "cell_type": "code",
   "execution_count": 32,
   "metadata": {},
   "outputs": [
    {
     "name": "stdout",
     "output_type": "stream",
     "text": [
      "0 -> 0\n",
      "1 -> 1\n",
      "2 -> 3\n",
      "3 -> 6\n",
      "4 -> 10\n",
      "5 -> 15\n",
      "6 -> 21\n",
      "7 -> 28\n",
      "8 -> 36\n",
      "9 -> 45\n"
     ]
    }
   ],
   "source": [
    "for n in range(10):\n",
    "    print(n, '->', n * (n+1) // 2 )"
   ]
  },
  {
   "cell_type": "markdown",
   "metadata": {},
   "source": [
    "The **product** \n",
    "$$n! = \\prod_{i=1}^n i$$\n",
    "of all numbers from $1$ to $n$ is called the **factorial** of $n$."
   ]
  },
  {
   "cell_type": "code",
   "execution_count": 33,
   "metadata": {
    "collapsed": true
   },
   "outputs": [],
   "source": [
    "def factorial(n):\n",
    "    \"compute the factorial of n\"\n",
    "    total = 1\n",
    "    for i in range(1,n+1):\n",
    "        total *= i\n",
    "    return total"
   ]
  },
  {
   "cell_type": "code",
   "execution_count": 34,
   "metadata": {},
   "outputs": [
    {
     "data": {
      "text/plain": [
       "120"
      ]
     },
     "execution_count": 34,
     "metadata": {},
     "output_type": "execute_result"
    }
   ],
   "source": [
    "factorial(5)"
   ]
  },
  {
   "cell_type": "markdown",
   "metadata": {},
   "source": [
    "Factorials become very large very quickly."
   ]
  },
  {
   "cell_type": "code",
   "execution_count": 35,
   "metadata": {},
   "outputs": [
    {
     "data": {
      "text/plain": [
       "608281864034267560872252163321295376887552831379210240000000000"
      ]
     },
     "execution_count": 35,
     "metadata": {},
     "output_type": "execute_result"
    }
   ],
   "source": [
    "factorial(49)"
   ]
  },
  {
   "cell_type": "markdown",
   "metadata": {},
   "source": [
    "###  Prime Sieving"
   ]
  },
  {
   "cell_type": "markdown",
   "metadata": {},
   "source": [
    "Another algorithm you might have seen before is\n",
    "[Eratosthenes Sieve method](https://en.wikipedia.org/wiki/Sieve_of_Eratosthenes) for finding all prime numbers\n",
    "up to a given limit, say $1000$.\n",
    "\n",
    "There you start with the list of numbers from $2$ to $1000$\n",
    "($1$ is not a prime).  \n",
    "\n",
    "Then $p = 2$ is the first number in the list,\n",
    "remove all multiples $ap$ with $a > 1$ from the list.\n",
    "\n",
    "The next remaining number on the list is $p = 3$,\n",
    "remove all its multiples $ap$ with $a > 1$ from the list.\n",
    "\n",
    "Continue in this way until the end of the list is reached.\n",
    "The list of surviving numbers is the list of primes up to $1000$.\n",
    "\n",
    "A moment's reflection yields that the\n",
    "smallest multiple of $p$ still in the list is $p^2$.\n",
    "The list of multiples to consider is represented\n",
    "in `python` by\n",
    "```python\n",
    "range(p*p, 1000, p)\n",
    "```\n",
    "a range of numbers, starting at $p^2$, up to\n",
    "at most $1000$, increasing by $p$ at every step."
   ]
  },
  {
   "cell_type": "code",
   "execution_count": 36,
   "metadata": {},
   "outputs": [
    {
     "data": {
      "text/plain": [
       "[529,\n",
       " 552,\n",
       " 575,\n",
       " 598,\n",
       " 621,\n",
       " 644,\n",
       " 667,\n",
       " 690,\n",
       " 713,\n",
       " 736,\n",
       " 759,\n",
       " 782,\n",
       " 805,\n",
       " 828,\n",
       " 851,\n",
       " 874,\n",
       " 897,\n",
       " 920,\n",
       " 943,\n",
       " 966,\n",
       " 989]"
      ]
     },
     "execution_count": 36,
     "metadata": {},
     "output_type": "execute_result"
    }
   ],
   "source": [
    "list(range(23*23,1000,23))"
   ]
  },
  {
   "cell_type": "markdown",
   "metadata": {},
   "source": [
    "Here's the `python` code that provides a naive (but working) implementation of this strategy:"
   ]
  },
  {
   "cell_type": "code",
   "execution_count": 37,
   "metadata": {},
   "outputs": [
    {
     "name": "stdout",
     "output_type": "stream",
     "text": [
      "2, 3, 5, 7, 11, 13, 17, 19, 23, 29, 31, 37, 41, 43, 47, 53, 59, 61, 67, 71, 73, 79, 83, 89, 97, 101, 103, 107, 109, 113, 127, 131, 137, 139, 149, 151, 157, 163, 167, 173, 179, 181, 191, 193, 197, 199, 211, 223, 227, 229, 233, 239, 241, 251, 257, 263, 269, 271, 277, 281, 283, 293, 307, 311, 313, 317, 331, 337, 347, 349, 353, 359, 367, 373, 379, 383, 389, 397, 401, 409, 419, 421, 431, 433, 439, 443, 449, 457, 461, 463, 467, 479, 487, 491, 499, 503, 509, 521, 523, 541, 547, 557, 563, 569, 571, 577, 587, 593, 599, 601, 607, 613, 617, 619, 631, 641, 643, 647, 653, 659, 661, 673, 677, 683, 691, 701, 709, 719, 727, 733, 739, 743, 751, 757, 761, 769, 773, 787, 797, 809, 811, 821, 823, 827, 829, 839, 853, 857, 859, 863, 877, 881, 883, 887, 907, 911, 919, 929, 937, 941, 947, 953, 967, 971, 977, 983, 991, 997, "
     ]
    }
   ],
   "source": [
    "limit = 1000\n",
    "primes = list(range(2, limit + 1))\n",
    "for p in primes:\n",
    "    for ap in range(p*p, limit + 1, p):\n",
    "        if ap in primes:\n",
    "            primes.remove(ap)\n",
    "            \n",
    "for p in primes:\n",
    "    print(p, end=', ')\n",
    "            "
   ]
  },
  {
   "cell_type": "markdown",
   "metadata": {},
   "source": [
    "Function version."
   ]
  },
  {
   "cell_type": "code",
   "execution_count": 38,
   "metadata": {},
   "outputs": [
    {
     "name": "stdout",
     "output_type": "stream",
     "text": [
      "2, 3, 5, 7, 11, 13, 17, 19, 23, 29, 31, 37, 41, 43, 47, 53, 59, 61, 67, 71, 73, 79, 83, 89, 97, 101, 103, 107, 109, 113, 127, 131, 137, 139, 149, 151, 157, 163, 167, 173, 179, 181, 191, 193, 197, 199, 211, 223, 227, 229, 233, 239, 241, 251, 257, 263, 269, 271, 277, 281, 283, 293, 307, 311, 313, 317, 331, 337, 347, 349, 353, 359, 367, 373, 379, 383, 389, 397, 401, 409, 419, 421, 431, 433, 439, 443, 449, 457, 461, 463, 467, 479, 487, 491, 499, 503, 509, 521, 523, 541, 547, 557, 563, 569, 571, 577, 587, 593, 599, 601, 607, 613, 617, 619, 631, 641, 643, 647, 653, 659, 661, 673, 677, 683, 691, 701, 709, 719, 727, 733, 739, 743, 751, 757, 761, 769, 773, 787, 797, 809, 811, 821, 823, 827, 829, 839, 853, 857, 859, 863, 877, 881, 883, 887, 907, 911, 919, 929, 937, 941, 947, 953, 967, 971, 977, 983, 991, 997, 1000, "
     ]
    }
   ],
   "source": [
    "def primes_up_to(limit):\n",
    "    \"compute a list of primes up to limit\"\n",
    "    primes = list(range(2, limit + 1))\n",
    "    for p in primes:\n",
    "        for ap in range(p*p, limit, p):\n",
    "            if ap in primes:\n",
    "                primes.remove(ap)\n",
    "                \n",
    "    return primes\n",
    "\n",
    "primes = primes_up_to(1000)\n",
    "for p in primes:\n",
    "    print(p, end=', ')\n"
   ]
  },
  {
   "cell_type": "markdown",
   "metadata": {},
   "source": [
    "### Summary: Lists and Loops"
   ]
  },
  {
   "cell_type": "markdown",
   "metadata": {},
   "source": [
    "* The `list` data type allows `python` programs to work with\n",
    "ordered collections of data.\n",
    "\n",
    "* A list literal is a comma-separated list of values\n",
    "(or expressions), enclosed in square brackets.\n",
    "\n",
    "* List items can be accessed by indexing and slicing.\n",
    "\n",
    "* List items or slices can be updated by suitable\n",
    "assignment statements.\n",
    "\n",
    "* List can be extended, by single items or other lists.\n",
    "\n",
    "* Items can be removed from a list.\n",
    "\n",
    "* The `in` operator tests membership of an item in a list.\n",
    "\n",
    "* A `for` loop iterates over the items in a list\n",
    "and executes a body of statements, once for each item\n",
    "\n",
    "* The accumulator pattern uses an accumulator variable\n",
    "and a loop over a list to compute a value by suitable\n",
    "updates of the accumulator variable.\n",
    "\n",
    "* Updating a variable through arithmetical modifications\n",
    "is supported by a special syntax (`+=`, ...)"
   ]
  },
  {
   "cell_type": "code",
   "execution_count": null,
   "metadata": {
    "collapsed": true
   },
   "outputs": [],
   "source": []
  }
 ],
 "metadata": {
  "kernelspec": {
   "display_name": "Python 3",
   "language": "python",
   "name": "python3"
  },
  "language_info": {
   "codemirror_mode": {
    "name": "ipython",
    "version": 3
   },
   "file_extension": ".py",
   "mimetype": "text/x-python",
   "name": "python",
   "nbconvert_exporter": "python",
   "pygments_lexer": "ipython3",
   "version": "3.6.1"
  }
 },
 "nbformat": 4,
 "nbformat_minor": 2
}
