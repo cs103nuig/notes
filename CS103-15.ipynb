{
 "cells": [
  {
   "cell_type": "markdown",
   "metadata": {},
   "source": [
    "### CS102/CS103\n",
    "\n",
    "Prof. Götz Pfeiffer<br />\n",
    "School of Mathematics, Statistics and Applied Mathematics<br />\n",
    "NUI Galway"
   ]
  },
  {
   "cell_type": "markdown",
   "metadata": {},
   "source": [
    "# Lecture 15:  Calling Functions"
   ]
  },
  {
   "cell_type": "markdown",
   "metadata": {},
   "source": [
    "A `python` program is a sequence of statements. To execute the program means to execute \n",
    "the statements, one at a time.  The **flow of control** is the order in which\n",
    "the statements are executed.  Normally, control flows **sequentially**,\n",
    "i.e., statements are executed in the order of their appearance in the program code.\n",
    "Occasionally, however, the sequential flow of control is modified, e.g.,\n",
    "by control-flow statements like loops or decision statements,\n",
    "or by function calls, which move control into a subroutine.\n",
    "\n",
    "Functions in `python` encapsulate pieces of functionality as named\n",
    "parts of code, with optional parameters and return values.  We have seen how \n",
    "a function can be defined with a **function defintion statement**.\n",
    "When a function subsequently is called, evaluation of the\n",
    "**function call expression** causes the flow of control\n",
    "to be temporarily diverted into the **body** of the function.\n",
    "We'll discuss how this works and what that means exactly."
   ]
  },
  {
   "cell_type": "markdown",
   "metadata": {},
   "source": [
    "Before that, here are the plans for next week."
   ]
  },
  {
   "cell_type": "markdown",
   "metadata": {},
   "source": [
    "## Next Week."
   ]
  },
  {
   "cell_type": "markdown",
   "metadata": {
    "collapsed": true
   },
   "source": [
    "* **Monday** is a bank holiday: no Practical on Monday.\n",
    "\n",
    "* **Tuesday**: Business as usual, Practical from 3-6pm in ADB-G021.\n",
    "\n",
    "* **Wednesday**: 1-2pm in MRA201, Practical instead of Lecture - bring your own laptop.\n",
    "\n",
    "* **Thursday**: 9-10am in AM200, Review of Practical Tasks."
   ]
  },
  {
   "cell_type": "markdown",
   "metadata": {},
   "source": [
    "##  Function Definition"
   ]
  },
  {
   "cell_type": "markdown",
   "metadata": {},
   "source": [
    "Recall that, in `python`, a function definition is a **statement** of the form\n",
    "```\n",
    "def <name>(<formal-parameters>):\n",
    "    <body>\n",
    "```\n",
    "where\n",
    "\n",
    "* `<name>` is an identifier, the name that the programmer wishes to give to the function.\n",
    "This name is later used to **call** the function.  Finding suitable names is a creative act.\n",
    "Good names are descriptive and indicate what the function does.\n",
    "\n",
    "* `<formal-parameters>` is an (empty or) comma-separated list of formal names (i.e., they are identifiers, too)\n",
    "which can be used in the function body.  Acutal values for these formal parameters are provided\n",
    "when the function is called.\n",
    "\n",
    "* `<body>` is a sequence of statements which might include a `return` statement."
   ]
  },
  {
   "cell_type": "markdown",
   "metadata": {},
   "source": [
    "As a concrete example, let's make some functions that together sing \"Happy Birthday\" for\n",
    "all those whose birthday is today ...  \n",
    "\n",
    "Starting small, here is a function that produces the most common line in the song."
   ]
  },
  {
   "cell_type": "code",
   "execution_count": 1,
   "metadata": {
    "collapsed": true
   },
   "outputs": [],
   "source": [
    "def happy():\n",
    "    print(\"Happy Birthday to you!\")"
   ]
  },
  {
   "cell_type": "code",
   "execution_count": 3,
   "metadata": {},
   "outputs": [
    {
     "name": "stdout",
     "output_type": "stream",
     "text": [
      "Happy Birthday to you!\n"
     ]
    }
   ],
   "source": [
    "happy()"
   ]
  },
  {
   "cell_type": "markdown",
   "metadata": {},
   "source": [
    "This function has **name** `happy`, no **formal parameters**, and a **body** consisting of a single `print` statement.\n",
    "\n",
    "Next, a function that addresses the person in question.  As this is presumably a different person\n",
    "on each occasion where the function is used, it makes sense to use a **formal parameter** `person` for this."
   ]
  },
  {
   "cell_type": "code",
   "execution_count": 4,
   "metadata": {
    "collapsed": true
   },
   "outputs": [],
   "source": [
    "def sing(person):\n",
    "    happy()\n",
    "    happy()\n",
    "    print(\"Happy Birthday, dear {}.\".format(person))\n",
    "    happy()\n",
    "    print()"
   ]
  },
  {
   "cell_type": "markdown",
   "metadata": {},
   "source": [
    "This function has **name** `sing`, one **formal parameter** `person`, and a **body** consisting of five statements,\n",
    "three of which are the same, calling the `happy()` function.  This is what it does:"
   ]
  },
  {
   "cell_type": "code",
   "execution_count": 5,
   "metadata": {},
   "outputs": [
    {
     "name": "stdout",
     "output_type": "stream",
     "text": [
      "Happy Birthday to you!\n",
      "Happy Birthday to you!\n",
      "Happy Birthday, dear Oisin.\n",
      "Happy Birthday to you!\n",
      "\n"
     ]
    }
   ],
   "source": [
    "sing(\"Oisin\")"
   ]
  },
  {
   "cell_type": "markdown",
   "metadata": {},
   "source": [
    "And then we can use the function to honour all of today's birthday boys and girls ..."
   ]
  },
  {
   "cell_type": "code",
   "execution_count": 6,
   "metadata": {
    "collapsed": true
   },
   "outputs": [],
   "source": [
    "def test():\n",
    "    for name in [\"Alex\", \"Alice\", \"Luke\"]:\n",
    "        sing(name)"
   ]
  },
  {
   "cell_type": "code",
   "execution_count": 7,
   "metadata": {},
   "outputs": [
    {
     "name": "stdout",
     "output_type": "stream",
     "text": [
      "Happy Birthday to you!\n",
      "Happy Birthday to you!\n",
      "Happy Birthday, dear Alex.\n",
      "Happy Birthday to you!\n",
      "\n",
      "Happy Birthday to you!\n",
      "Happy Birthday to you!\n",
      "Happy Birthday, dear Alice.\n",
      "Happy Birthday to you!\n",
      "\n",
      "Happy Birthday to you!\n",
      "Happy Birthday to you!\n",
      "Happy Birthday, dear Luke.\n",
      "Happy Birthday to you!\n",
      "\n"
     ]
    }
   ],
   "source": [
    "test()"
   ]
  },
  {
   "cell_type": "markdown",
   "metadata": {},
   "source": [
    "## Function Call"
   ]
  },
  {
   "cell_type": "markdown",
   "metadata": {},
   "source": [
    "A function is called by its name, followed by a (empty or) comma-separated list of\n",
    "**actual parameters**.  Syntactically, a function call is an **expression** of the form\n",
    "```\n",
    "<name>(<actual-arguments>)\n",
    "```\n",
    "where `<name>` is an identifier, the name of a known function, and `<actual-arguments>` is\n",
    "a list of expressions, which provide values for the formal parameters of the function definition."
   ]
  },
  {
   "cell_type": "markdown",
   "metadata": {},
   "source": [
    "When a function is called, i.e., when a function call expression is evaluated, the following steps are taken.\n",
    "\n",
    "* The calling statement suspends its execution at the\n",
    "point of the call;\n",
    "    \n",
    "* the actual arguments are evaluated and their values are associated with the identifiers\n",
    "serving as formal parameters of the named function;\n",
    "    \n",
    "* the statements in the function body are executed;\n",
    "    \n",
    "* when a `return` statement is encountered\n",
    "(or the end of the function body is reached), control\n",
    "passes back to the caller, with the value of the\n",
    "expression in the `return` statement as the\n",
    "value of the function call expression."
   ]
  },
  {
   "cell_type": "markdown",
   "metadata": {},
   "source": [
    "For example, ..."
   ]
  },
  {
   "cell_type": "markdown",
   "metadata": {},
   "source": [
    "## Pass by Value"
   ]
  },
  {
   "cell_type": "markdown",
   "metadata": {},
   "source": [
    "In `python`, arguments are **passed by value** to a function\n",
    "(as opposed to pass-by-name).  The following (failed) attempt to add\n",
    "interest to a given principal is meant to illustrate this behavior.\n",
    "\n",
    "A sequence of statements can be used to add interest at a certain rate to a given principal"
   ]
  },
  {
   "cell_type": "code",
   "execution_count": 8,
   "metadata": {},
   "outputs": [
    {
     "data": {
      "text/plain": [
       "36210.0"
      ]
     },
     "execution_count": 8,
     "metadata": {},
     "output_type": "execute_result"
    }
   ],
   "source": [
    "principal = 34000\n",
    "rate = 6.5/100\n",
    "principal *= 1 + rate\n",
    "principal"
   ]
  },
  {
   "cell_type": "markdown",
   "metadata": {},
   "source": [
    "One might try and wrap this useful functionality into a function as follows."
   ]
  },
  {
   "cell_type": "code",
   "execution_count": 9,
   "metadata": {
    "collapsed": true
   },
   "outputs": [],
   "source": [
    "def add_interest(principal, rate):\n",
    "    principal *= 1 + rate"
   ]
  },
  {
   "cell_type": "markdown",
   "metadata": {},
   "source": [
    "However, the effects of the function are disappointing:"
   ]
  },
  {
   "cell_type": "code",
   "execution_count": 10,
   "metadata": {},
   "outputs": [
    {
     "data": {
      "text/plain": [
       "34000"
      ]
     },
     "execution_count": 10,
     "metadata": {},
     "output_type": "execute_result"
    }
   ],
   "source": [
    "amount = 34000\n",
    "rate = 6.5/100\n",
    "\n",
    "# add interest 5 times\n",
    "for i in range(5):\n",
    "    add_interest(amount, rate)\n",
    "\n",
    "amount"
   ]
  },
  {
   "cell_type": "markdown",
   "metadata": {},
   "source": [
    "What happened? ..."
   ]
  },
  {
   "cell_type": "markdown",
   "metadata": {},
   "source": [
    "Some data values, like lists, are **mutable**:  they consist of \n",
    "parts and those parts can change individually."
   ]
  },
  {
   "cell_type": "code",
   "execution_count": 11,
   "metadata": {},
   "outputs": [
    {
     "data": {
      "text/plain": [
       "[1, 3, 5, 7]"
      ]
     },
     "execution_count": 11,
     "metadata": {},
     "output_type": "execute_result"
    }
   ],
   "source": [
    "l = [2, 3, 5, 7]\n",
    "l[0] = 1\n",
    "l"
   ]
  },
  {
   "cell_type": "markdown",
   "metadata": {},
   "source": [
    "If a mutable data object is passed as an argument into a function,\n",
    "any modification the function applies to **parts** of the object\n",
    "will remain in place (even after the function terminates).\n",
    "\n",
    "Suppose we have a **list of balances** that all \n",
    "attract interest at the same rate ..."
   ]
  },
  {
   "cell_type": "code",
   "execution_count": 12,
   "metadata": {
    "collapsed": true
   },
   "outputs": [],
   "source": [
    "def add_interest_list(balances, rate):\n",
    "    for i in range(len(balances)):\n",
    "        balances[i] *= 1 + rate"
   ]
  },
  {
   "cell_type": "markdown",
   "metadata": {},
   "source": [
    "Testing ..."
   ]
  },
  {
   "cell_type": "code",
   "execution_count": 13,
   "metadata": {},
   "outputs": [
    {
     "data": {
      "text/plain": [
       "[1065.0, 22365.0, 36210.0]"
      ]
     },
     "execution_count": 13,
     "metadata": {},
     "output_type": "execute_result"
    }
   ],
   "source": [
    "amounts = [1000, 21000, 34000]\n",
    "rate = 6.5/100\n",
    "add_interest_list(amounts, rate)\n",
    "amounts"
   ]
  },
  {
   "cell_type": "markdown",
   "metadata": {},
   "source": [
    "## Returning values (or `None`)"
   ]
  },
  {
   "cell_type": "markdown",
   "metadata": {},
   "source": [
    "The `return` statement has the form\n",
    "```\n",
    "return <expression>\n",
    "```\n",
    "starting with the **keyword** return, and including an optional expression. \n",
    "When a `return` statement is executed as part of a function body, \n",
    "execution of the function body terminates and the value of the expression\n",
    "becomes the value of the function call expression.\n",
    "If the expression is omitted, the value is the special value `None`."
   ]
  },
  {
   "cell_type": "markdown",
   "metadata": {},
   "source": [
    "`None` is only printed with\n",
    "an explicit `print` statement, or when it is part of a complex object."
   ]
  },
  {
   "cell_type": "code",
   "execution_count": 14,
   "metadata": {},
   "outputs": [],
   "source": [
    "None"
   ]
  },
  {
   "cell_type": "code",
   "execution_count": 15,
   "metadata": {},
   "outputs": [
    {
     "name": "stdout",
     "output_type": "stream",
     "text": [
      "None\n"
     ]
    }
   ],
   "source": [
    "print(None)"
   ]
  },
  {
   "cell_type": "code",
   "execution_count": 16,
   "metadata": {
    "scrolled": true
   },
   "outputs": [
    {
     "data": {
      "text/plain": [
       "[0, None]"
      ]
     },
     "execution_count": 16,
     "metadata": {},
     "output_type": "execute_result"
    }
   ],
   "source": [
    "[0, None]"
   ]
  },
  {
   "cell_type": "markdown",
   "metadata": {},
   "source": [
    "A function body can have several `return` statements.  The flow of control decides which one will eventually\n",
    "be used as exit point of the function.  Some programming guides suggest though, that a function\n",
    "should have a unique exit point.\n",
    "\n",
    "An example of a function with several exit points is the quadratic solver we devoloped in the\n",
    "context of decision structures."
   ]
  },
  {
   "cell_type": "code",
   "execution_count": 17,
   "metadata": {
    "collapsed": true
   },
   "outputs": [],
   "source": [
    "from math import sqrt\n",
    "\n",
    "def quadratic_roots3(a, b, c):\n",
    "    \"compute the (real) roots of a x^2 + b x + c\"\n",
    "    discriminant = b*b - 4*a*c\n",
    "    if a == 0:\n",
    "        return\n",
    "    elif discriminant < 0:\n",
    "        return []\n",
    "    elif discriminant == 0:\n",
    "        return [-b/2/a]\n",
    "    else:\n",
    "        root = sqrt(discriminant)\n",
    "        return [(-b + sign*root)/2/a for sign in [+1, -1]]"
   ]
  },
  {
   "cell_type": "markdown",
   "metadata": {},
   "source": [
    "Every function call in `python` returns a value.  If no explicit `return` statement is encountered \n",
    "by executing the function body, the special value `None` is returned.  "
   ]
  },
  {
   "cell_type": "markdown",
   "metadata": {},
   "source": [
    "Here is a (simple-minded) function `modular_inverse(a, m)` that looks for the multiplicative inverse\n",
    "of the integer `a` modulo `m`: it simply tries each possible value $b$ between $0$ and $m$,\n",
    "and returns $b$ as soon as it has the desired property (namely $ab = 1 \\pmod{m}$).\n",
    "If the end of the loop is reached before such a number $b$ is found, function execution\n",
    "terminates without an explicit `return` statement, and `None` is returned."
   ]
  },
  {
   "cell_type": "code",
   "execution_count": 18,
   "metadata": {
    "collapsed": true
   },
   "outputs": [],
   "source": [
    "def modular_inverse(a, m):\n",
    "    \"find the multiplicative inverse of a modulo m\"\n",
    "    for b in range(1, m):\n",
    "        if a * b % m == 1:\n",
    "            return b"
   ]
  },
  {
   "cell_type": "code",
   "execution_count": 19,
   "metadata": {},
   "outputs": [
    {
     "data": {
      "text/plain": [
       "13"
      ]
     },
     "execution_count": 19,
     "metadata": {},
     "output_type": "execute_result"
    }
   ],
   "source": [
    "modular_inverse(7, 30)"
   ]
  },
  {
   "cell_type": "code",
   "execution_count": 20,
   "metadata": {},
   "outputs": [
    {
     "name": "stdout",
     "output_type": "stream",
     "text": [
      "None\n"
     ]
    }
   ],
   "source": [
    "print(modular_inverse(8, 30))"
   ]
  },
  {
   "cell_type": "markdown",
   "metadata": {},
   "source": [
    "## Summary: Function Calls"
   ]
  },
  {
   "cell_type": "markdown",
   "metadata": {},
   "source": [
    "* Syntactically, a **function definition** is a **statement** and\n",
    "a **function call** is an **expression**.\n",
    "\n",
    "* A **`return` statement**, when executed as part of a function body,\n",
    "determines the **return value** of a function call.\n",
    "\n",
    "* If a function terminates without `return` statement, or if the\n",
    "expression in the `return` statement is omitted, the return value\n",
    "is the special value `None`.\n",
    "\n",
    "* A function can have many `return` statements; the **flow of control**\n",
    "decides which `return` statement, if any, terminates the execution\n",
    "of the function body.\n",
    "\n",
    "* When a function is called:\n",
    "\n",
    "    1. The calling statement **suspends its execution**; \n",
    "    \n",
    "    * the values of the **arguments  are associated with the parameters** of the function;\n",
    "    \n",
    "    * **flow control** is moved into the function body;\n",
    "    \n",
    "    * when a `return` statement,\n",
    "    or the end of the function body, is encountered, control\n",
    "    passes back to the caller, together with a **return value**.\n",
    "    \n",
    "* Function arguments are **passed by value**."
   ]
  },
  {
   "cell_type": "code",
   "execution_count": null,
   "metadata": {
    "collapsed": true
   },
   "outputs": [],
   "source": []
  }
 ],
 "metadata": {
  "kernelspec": {
   "display_name": "Python 3",
   "language": "python",
   "name": "python3"
  },
  "language_info": {
   "codemirror_mode": {
    "name": "ipython",
    "version": 3
   },
   "file_extension": ".py",
   "mimetype": "text/x-python",
   "name": "python",
   "nbconvert_exporter": "python",
   "pygments_lexer": "ipython3",
   "version": "3.6.1"
  }
 },
 "nbformat": 4,
 "nbformat_minor": 2
}
