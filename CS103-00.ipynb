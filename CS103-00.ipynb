{
 "cells": [
  {
   "cell_type": "markdown",
   "metadata": {},
   "source": [
    "### CS102/CS103\n",
    "\n",
    "Prof. Götz Pfeiffer<br />\n",
    "School of Mathematics, Statistics and Applied Mathematics<br />\n",
    "NUI Galway"
   ]
  },
  {
   "cell_type": "markdown",
   "metadata": {},
   "source": [
    "# Revision"
   ]
  },
  {
   "cell_type": "markdown",
   "metadata": {},
   "source": [
    "What will be examined, and how?"
   ]
  },
  {
   "cell_type": "markdown",
   "metadata": {},
   "source": [
    "##  The Exam"
   ]
  },
  {
   "cell_type": "markdown",
   "metadata": {},
   "source": [
    "The exam will have the same format as in previous years:\n",
    "\n",
    "* For **CS102**, there will be **5 questions**, of which you should \n",
    "**answer 4**.\n",
    "\n",
    "* For **CS103**, there will be **4 questions**, of which you should\n",
    "**answer all 4**.\n",
    "\n",
    "The last 4 questions of the CS102 paper are **identical** to the 4 questions of the CS103 paper."
   ]
  },
  {
   "cell_type": "markdown",
   "metadata": {},
   "source": [
    "## Q1"
   ]
  },
  {
   "cell_type": "markdown",
   "metadata": {},
   "source": [
    "* A **variable** is storage associated with an **identifier** (the\n",
    "**variable name**)\n",
    "\n",
    "* An **assignment** is a statement that associates a value to an identifier.  \n",
    "\n",
    "* **Syntax.** The general form of an assignment statement in `python` is\n",
    "```\n",
    "<identifier> = <expression>\n",
    "```\n",
    "where the left hand side is an identifier\n",
    "(a string of letters, digits, underscores, not starting with \n",
    "a digit), and the right hand side is any expression.\n",
    "\n",
    "* **Semantics.**  First, the expression is evaluated, then\n",
    "the resulting value is associated with the identifier.\n",
    "\n",
    "* **Mutable data** is data that can change (e.g. lists and dictionaries), **immutable data** can never change (e.g. ints, floats, strings, tuples)."
   ]
  },
  {
   "cell_type": "markdown",
   "metadata": {
    "collapsed": true
   },
   "source": [
    "## Q2"
   ]
  },
  {
   "cell_type": "markdown",
   "metadata": {},
   "source": [
    "*  **Decision structures** are statements that allow the program to perform different\n",
    "computations depending on whether a specific boolean **condition**\n",
    "evaluates to `True` or `False`.\n",
    "\n",
    "* **Syntax.** The general form of the `if`-`else` statement is\n",
    "```\n",
    "if <condition>:\n",
    "    <body_1>\n",
    "else:\n",
    "    <body_2>\n",
    "```\n",
    "where `<condition>` is an expression that yields a boolean truth value,\n",
    "and where `<body_1>` and `<body_2>` are sequences of statements. \n",
    "(The `else` clause can be omitted.)\n",
    "\n",
    "* **Semantics.** When an `if`-`else` statement is executed,\n",
    "first the condition is evaluated.  Then, if its boolean value is `True`,\n",
    "the statements of `<body_1>` are executed, otherwise the statements\n",
    "in `<body_2>` are executed.  The program execution continues\n",
    "with the next statement **after** the `if`-`else` statement\n",
    "(i.e,. in either case one of `<body_1>` or `<body_2>` is skipped).\n",
    "\n",
    "* **Multiway decisions** can be implemented by nesting\n",
    "`if`-`else` statements, or by using `if`-`elif`-`else` statements\n",
    "of the form\n",
    "```\n",
    "if <condition_1>:\n",
    "    <body_1>\n",
    "elif <condition_2>:\n",
    "    <body_2>\n",
    "...\n",
    "elif <condition_n>:\n",
    "    <body_n>\n",
    "else:\n",
    "    <body_0>\n",
    "```\n"
   ]
  },
  {
   "cell_type": "markdown",
   "metadata": {},
   "source": [
    "## Q3"
   ]
  },
  {
   "cell_type": "markdown",
   "metadata": {},
   "source": [
    "* **Loop structures** allow the program to repeat a part\n",
    "of the code a number of times.\n",
    "\n",
    "* **Syntax.** The general form of a `while` statement in `python` is\n",
    "```\n",
    "while <condition>:\n",
    "    <body>\n",
    "```\n",
    "where `<condition>` is an expression that yields a boolean truth value,\n",
    "and `<body>` is a sequence of statements.\n",
    "\n",
    "* **Semantics.**  When a `while` statement is executed,\n",
    "first the condition is evaluated.  Then, if its boolean value\n",
    "is `True`, the statements in `<body>` are executed and\n",
    "program control passes back to **before** the `while` statement\n",
    "(i.e., the condition is evaluated again ...).\n",
    "If the boolean value of the condition is `False`, the statements\n",
    "in `<body>` are skipped and program control\n",
    "passes to **after** the `while` statement (i.e., the loop terminates).\n",
    "\n",
    "* **Syntax.** The `for` statement in `python` has the general form\n",
    "```\n",
    "for <var> in <sequence>:\n",
    "    <body>\n",
    "```\n",
    "where `<sequence>` is a sequential collection of data items (like a list), `<var>` is an identifier, and `<body>` is a sequence of statements.\n",
    "\n",
    "* **Semantics.** When a `for` statement is evaluated,\n",
    "the sequence of statements in `<body>` is executed\n",
    "once for each item in the sequence, with the identifier\n",
    "`<var>` associated to that item."
   ]
  },
  {
   "cell_type": "markdown",
   "metadata": {},
   "source": [
    "## Q4"
   ]
  },
  {
   "cell_type": "markdown",
   "metadata": {},
   "source": [
    "* A **function** is a named and parametrized sequence of statements\n",
    "that performs a specific task, packed as a unit.\n",
    "\n",
    "* Functions provide structure in larger programs,\n",
    "they help to reduce repetition in the code and, when\n",
    "used properly, make programs easier to write, to read, \n",
    "to understand and to maintain.\n",
    "\n",
    "* **Syntax.** A `python` function definition statement has th\n",
    "general form\n",
    "```\n",
    "def <name> ( <parameters> ):\n",
    "    <body>\n",
    "```\n",
    "where `<name>` is the name of the function, `<parameters>` is\n",
    "a comma-separated (or empty) list of identifiers: the parameters\n",
    "of the function, and `<body>` is a sequence of statements.\n",
    "\n",
    "* **Semantics.** When a function definition statement is\n",
    "executed, the parameterized sequence of statement in `<body>`\n",
    "is associated with the given name (for future use).\n",
    "\n",
    "* A function can be called, with arguments that supply specific values\n",
    "for the formal parameters of the function definition.\n",
    "\n",
    "* **Syntax.** A function call expression in `python` has the general \n",
    "form\n",
    "```\n",
    "<name> ( <arguments> )\n",
    "```\n",
    "where `<name>` is the name of a function, and\n",
    "`<arguments>` is a comma-separated (or empty) sequence\n",
    "of expressions.\n",
    "\n",
    "* **Semantics.**  When a function is called (i.e., when a function call expression is evaluated), \n",
    "\n",
    "    * First, the arguments are evaluated;\n",
    "    \n",
    "    * their values are associated with the identifiers\n",
    "    serving as formal parameters of the named function;\n",
    "    \n",
    "    * the statements in the function body are executed;\n",
    "    \n",
    "    * when a `return` statement is encountered\n",
    "    (or the end of the function body is reached), control\n",
    "    passes back to the caller, with the value of the\n",
    "    expression in the `return` statement as the\n",
    "    value of the function call expression.\n",
    "    \n"
   ]
  },
  {
   "cell_type": "code",
   "execution_count": null,
   "metadata": {
    "collapsed": true
   },
   "outputs": [],
   "source": []
  }
 ],
 "metadata": {
  "kernelspec": {
   "display_name": "Python 3",
   "language": "python",
   "name": "python3"
  },
  "language_info": {
   "codemirror_mode": {
    "name": "ipython",
    "version": 3
   },
   "file_extension": ".py",
   "mimetype": "text/x-python",
   "name": "python",
   "nbconvert_exporter": "python",
   "pygments_lexer": "ipython3",
   "version": "3.6.1"
  }
 },
 "nbformat": 4,
 "nbformat_minor": 2
}
