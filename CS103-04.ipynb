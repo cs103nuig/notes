{
 "cells": [
  {
   "cell_type": "markdown",
   "metadata": {},
   "source": [
    "### CS102/CS103\n",
    "\n",
    "Prof. Götz Pfeiffer<br />\n",
    "School of Mathematics, Statistics and Applied Mathematics<br />\n",
    "NUI Galway"
   ]
  },
  {
   "cell_type": "markdown",
   "metadata": {},
   "source": [
    "# Lecture 4: Simple Programs"
   ]
  },
  {
   "cell_type": "markdown",
   "metadata": {
    "collapsed": true
   },
   "source": [
    "`python` allows us to write small programs quickly.  Here we look \n",
    "at  **Software Development Process** that may guide the development\n",
    "of **robust software** and apply the process to the problem\n",
    "of temperature conversion.\n",
    "\n",
    "Before that, let's look at an example of a useful algorithm\n",
    "that has a surprisingly short implementation in python."
   ]
  },
  {
   "cell_type": "markdown",
   "metadata": {},
   "source": [
    "##  Euclid's Algorithm"
   ]
  },
  {
   "cell_type": "markdown",
   "metadata": {},
   "source": [
    "Euclid's algorithm computes the `gcd` (the greatest common divisor) of two integers, `a` and `b`, say.  Suppose that `a` is bigger than\n",
    "`b`.  The algorithm proceeds by dividing `b` into `a` \n",
    "and then replaces `a` by the remainder `r`.\n",
    "\n",
    "More precisely, it replaces `a` by `b`, and `b` by `r`, since\n",
    "`b` would be bigger than `r`.  This step is repeated until `b`\n",
    "eventually becomes $0$.  Then the current value of `a` is the\n",
    "`gcd` of the two integers supplied at the beginning.\n",
    "\n",
    "This description in words of Euclid's algorithm can be expressed\n",
    "in `python` as follows."
   ]
  },
  {
   "cell_type": "code",
   "execution_count": 1,
   "metadata": {
    "collapsed": true
   },
   "outputs": [],
   "source": [
    "def gcd(a, b):\n",
    "    if b == 0:\n",
    "        return a \n",
    "    else:\n",
    "        return gcd(b, a % b)"
   ]
  },
  {
   "cell_type": "markdown",
   "metadata": {},
   "source": [
    "This program uses the keywords `if` and `else` to **distinguish cases**,\n",
    "a **comparison** operator `==` to compare the value of `b` against $0$, and a **recursive call** to the function `gcd` being defined.\n",
    "We will see more details on all of these later.  For the moment,\n",
    "just compare the description in words with the `python` program.  \n",
    "And see that it actually works:"
   ]
  },
  {
   "cell_type": "code",
   "execution_count": 2,
   "metadata": {},
   "outputs": [
    {
     "data": {
      "text/plain": [
       "5"
      ]
     },
     "execution_count": 2,
     "metadata": {},
     "output_type": "execute_result"
    }
   ],
   "source": [
    "gcd(3005789987600, 24567890987635)"
   ]
  },
  {
   "cell_type": "markdown",
   "metadata": {},
   "source": [
    "Using a slightly different set of `python` elements, the algorithm can even be formulated in a **single line** of `python`.  "
   ]
  },
  {
   "cell_type": "code",
   "execution_count": 3,
   "metadata": {
    "collapsed": true
   },
   "outputs": [],
   "source": [
    "def gcd1(a, b):\n",
    "    return a if b == 0 else gcd1(b, a % b)"
   ]
  },
  {
   "cell_type": "code",
   "execution_count": 4,
   "metadata": {},
   "outputs": [
    {
     "data": {
      "text/plain": [
       "5"
      ]
     },
     "execution_count": 4,
     "metadata": {},
     "output_type": "execute_result"
    }
   ],
   "source": [
    "gcd1(3005789987600, 24567890987635)"
   ]
  },
  {
   "cell_type": "markdown",
   "metadata": {},
   "source": [
    "## The Software Development Process"
   ]
  },
  {
   "cell_type": "markdown",
   "metadata": {},
   "source": [
    "One way of breaking down the process of creating and maintaining\n",
    "a computer program is the following:\n",
    "\n",
    "* Analyse the Problem you want to Solve\n",
    "\n",
    "* Determine Specifications\n",
    "\n",
    "* Create a Design\n",
    "\n",
    "* Implement the Design\n",
    "\n",
    "* Test and Debug the program\n",
    "\n",
    "* Maintain the program\n",
    "\n",
    "Let's see what this means in detail in a small example."
   ]
  },
  {
   "cell_type": "markdown",
   "metadata": {},
   "source": [
    "### Problem\n",
    "\n",
    "The current temperature in New York is 77 degrees Fahrenheit.\n",
    "What does that mean?  I'm used to the **Celsius** scale ..."
   ]
  },
  {
   "cell_type": "markdown",
   "metadata": {},
   "source": [
    "### Analysis\n",
    "\n",
    "Temperatures in Fahrenheit and temperatures in Celsius are\n",
    "related to each other by a simple formula, $f$ degrees Fahrenheit\n",
    "correspond to $c$ degrees Celsius, where\n",
    "$$c = \\tfrac{5}{9}(f - 32).$$"
   ]
  },
  {
   "cell_type": "markdown",
   "metadata": {},
   "source": [
    "### Specification\n",
    "\n",
    "Write a program that takes a temperature in Fahrenheit as **input**\n",
    "and **outputs** the corresponding temperature in degrees Celsius."
   ]
  },
  {
   "cell_type": "markdown",
   "metadata": {},
   "source": [
    "### Design\n",
    "\n",
    "A natural design of a program implementing this specification might be the following:\n",
    "\n",
    "1. Input temperature in Fahrenheit, call this value `fahrenheit`\n",
    "\n",
    "2. Use the above formula to compute the corresponding temperature in Celsius, call this value `celsius`.\n",
    "\n",
    "3. Output `celsius`\n"
   ]
  },
  {
   "cell_type": "markdown",
   "metadata": {},
   "source": [
    "### Implementation\n",
    "\n",
    "In this example, each of the above points translates into \n",
    "line of python code, and gives the following implementation:"
   ]
  },
  {
   "cell_type": "code",
   "execution_count": 5,
   "metadata": {
    "collapsed": true
   },
   "outputs": [],
   "source": [
    "# A program to convert Fahrenheit into Celsius temperatures.\n",
    "# by: Susan.\n",
    "def convert():\n",
    "    fahrenheit = eval(input(\"Temperature in Fahrenheit: \"))\n",
    "    celsius = 5/9 * (fahrenheit - 32)\n",
    "    print(\"The temperature is \", celsius, \" degrees Celsius.\")"
   ]
  },
  {
   "cell_type": "code",
   "execution_count": 6,
   "metadata": {},
   "outputs": [
    {
     "name": "stdout",
     "output_type": "stream",
     "text": [
      "Temperature in Fahrenheit: 77\n",
      "The temperature is  25.0  degrees Celsius.\n"
     ]
    }
   ],
   "source": [
    "convert()"
   ]
  },
  {
   "cell_type": "markdown",
   "metadata": {},
   "source": [
    "Aha. So it is currently 25 $^{\\circ} C$ in New York. Problem solved."
   ]
  },
  {
   "cell_type": "markdown",
   "metadata": {},
   "source": [
    "## Disposable Programs"
   ]
  },
  {
   "cell_type": "markdown",
   "metadata": {},
   "source": [
    "The `convert()` program/function can be re-used as often as\n",
    "we like, just call it again by its name.\n",
    "\n",
    "In general, a `python` program is a sequence of **statements**.\n",
    "Here, we have use two statements, one to **define** the `convert()`\n",
    "function and one to apply it in a particular case.\n",
    "\n",
    "Often this can be done in a **single statement**.\n",
    "For small problems like this, it is possible to \n",
    "combine the three steps of input, calculation, output\n",
    "into a one-line `python` program as follows:"
   ]
  },
  {
   "cell_type": "code",
   "execution_count": 7,
   "metadata": {},
   "outputs": [
    {
     "name": "stdout",
     "output_type": "stream",
     "text": [
      "The temperature is  25.0  degrees Celsius.\n"
     ]
    }
   ],
   "source": [
    "print(\"The temperature is \", 5/9 * (77 - 32), \" degrees Celsius.\")"
   ]
  },
  {
   "cell_type": "markdown",
   "metadata": {},
   "source": [
    "This single statement is a full python program.  Just that it \n",
    "doesn't have a name, and thus cannot be re-used.  It's a disposable\n",
    "program. "
   ]
  },
  {
   "cell_type": "code",
   "execution_count": null,
   "metadata": {
    "collapsed": true
   },
   "outputs": [],
   "source": []
  }
 ],
 "metadata": {
  "kernelspec": {
   "display_name": "Python 3",
   "language": "python",
   "name": "python3"
  },
  "language_info": {
   "codemirror_mode": {
    "name": "ipython",
    "version": 3
   },
   "file_extension": ".py",
   "mimetype": "text/x-python",
   "name": "python",
   "nbconvert_exporter": "python",
   "pygments_lexer": "ipython3",
   "version": "3.6.1"
  }
 },
 "nbformat": 4,
 "nbformat_minor": 2
}
