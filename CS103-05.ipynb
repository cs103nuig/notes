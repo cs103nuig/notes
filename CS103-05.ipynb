{
 "cells": [
  {
   "cell_type": "markdown",
   "metadata": {},
   "source": [
    "### CS102/CS103\n",
    "\n",
    "Prof. Götz Pfeiffer<br />\n",
    "School of Mathematics, Statistics and Applied Mathematics<br />\n",
    "NUI Galway"
   ]
  },
  {
   "cell_type": "markdown",
   "metadata": {},
   "source": [
    "# Lecture 5: Values, Expressions, Variables"
   ]
  },
  {
   "cell_type": "markdown",
   "metadata": {
    "collapsed": true
   },
   "source": [
    "A `python` program deals with **values** (of different types like `int` or `str`).  Values can be assigned to **variables**.\n",
    "Literal values and variables can be combined with operators\n",
    "to form **expressions** (like sums or products, or products of sums, ...).\n",
    "That's what the first practical is about: simple and more complex expressions, to solve \n",
    "simple and less simple problems with quick and short `python` program.  Before\n",
    "looking more closely at these elements of the `python` language, here are some useful tips for\n",
    "working with `jupyter` notebooks."
   ]
  },
  {
   "cell_type": "markdown",
   "metadata": {},
   "source": [
    "## Jupyter Notebooks"
   ]
  },
  {
   "cell_type": "markdown",
   "metadata": {},
   "source": [
    "In this course, we use `jupyter` notebooks for two different purposes: lecture notes and practicals.\n",
    "Both lecture notes and practicals can be uploaded to [try.jupyter.org](http://try.jupyter.org) where one can play with the\n",
    "interactive bits.\n",
    "It therefore helps to have a basic understanding of what they are and how they work.\n",
    "\n",
    "* A notebook is a collection of **cells** (inside a web page).  \n",
    "\n",
    "* A cell either contains **text** or **python code**.\n",
    "\n",
    "* A text cell contains [markdown](https://daringfireball.net/projects/markdown/) formatted text.\n",
    "\n",
    "* A python cell communicates with the notebook's python kernel.\n",
    "\n",
    "* The notebook is either in **edit mode** or in **command mode**."
   ]
  },
  {
   "cell_type": "markdown",
   "metadata": {},
   "source": [
    "In **edit mode**, the content of the active cell can be modified\n",
    "and the following keyboard shortcuts can be used:\n",
    "\n",
    "* `Esc` switches to command mode.\n",
    "\n",
    "* `Shift-Enter` runs the cell, then selects the cell below.\n",
    "\n",
    "* `Ctrl-Shift-Minus` splits the cell in two"
   ]
  },
  {
   "cell_type": "markdown",
   "metadata": {},
   "source": [
    "In **command mode**, the following keyboard shortcuts can be used:\n",
    "\n",
    "* `Enter` switches to edit mode.\n",
    "\n",
    "* `Shift-Enter` runs the cell, then selects the cell below.\n",
    "\n",
    "* `Up` selects the cell above.\n",
    "\n",
    "* `Down` selects the cell below."
   ]
  },
  {
   "cell_type": "markdown",
   "metadata": {},
   "source": [
    "## Expressions and Values"
   ]
  },
  {
   "cell_type": "markdown",
   "metadata": {},
   "source": [
    "When you type something into a `python` cell of this notebook,\n",
    "the `python` interpreter will try to **evaluate** this input, i.e., compute the **value** of whatever was typed in.  If successful,\n",
    "this value is printed below the cell.  Types of values that we have already seen include integers:"
   ]
  },
  {
   "cell_type": "code",
   "execution_count": 1,
   "metadata": {},
   "outputs": [
    {
     "data": {
      "text/plain": [
       "22"
      ]
     },
     "execution_count": 1,
     "metadata": {},
     "output_type": "execute_result"
    }
   ],
   "source": [
    "17 + 5"
   ]
  },
  {
   "cell_type": "markdown",
   "metadata": {},
   "source": [
    "complex numbers:"
   ]
  },
  {
   "cell_type": "code",
   "execution_count": 2,
   "metadata": {},
   "outputs": [
    {
     "data": {
      "text/plain": [
       "(3-4j)"
      ]
     },
     "execution_count": 2,
     "metadata": {},
     "output_type": "execute_result"
    }
   ],
   "source": [
    "3 - 4j"
   ]
  },
  {
   "cell_type": "markdown",
   "metadata": {
    "collapsed": true
   },
   "source": [
    "and strings:"
   ]
  },
  {
   "cell_type": "code",
   "execution_count": 3,
   "metadata": {},
   "outputs": [
    {
     "data": {
      "text/plain": [
       "'yeeeeeeeeeeeeeeeeeaaaaaaaaaaaaaaaaahhhhhhhhhhhhhhhhh'"
      ]
     },
     "execution_count": 3,
     "metadata": {},
     "output_type": "execute_result"
    }
   ],
   "source": [
    "'y' + \"\".join(map(lambda x: x * 17, \"eah\"))"
   ]
  },
  {
   "cell_type": "markdown",
   "metadata": {},
   "source": [
    "or random DNA sequences: "
   ]
  },
  {
   "cell_type": "code",
   "execution_count": 4,
   "metadata": {},
   "outputs": [
    {
     "data": {
      "text/plain": [
       "'DAAADTAGGAGTAGDGDTGADGGAAGDAAATATTDGGADTTDGATTDTTDTTGATGGADAATTATGGTGGTA'"
      ]
     },
     "execution_count": 4,
     "metadata": {},
     "output_type": "execute_result"
    }
   ],
   "source": [
    "from random import randint\n",
    "\"\".join(map(lambda x: \"ADGT\"[randint(0,3)], range(72)))\n"
   ]
  },
  {
   "cell_type": "markdown",
   "metadata": {},
   "source": [
    "These are examples of the type of data a computer program can deal with.  Different types of\n",
    "data are stored in different (digital) formats, but we won't have to worry about this now.\n",
    "\n",
    "The fragments of `python` code that are used to describe the values (and that sometimes look like\n",
    "mathematical formulas are called **expressions**.\n",
    "\n",
    "* Expressions have values.\n",
    "\n",
    "* The simplest kind of an expression is a **literal** (like the number `17` on its own,\n",
    "or an explicit string `\"yes!\"`).  The value of a literal is obvious.\n",
    "\n",
    "* In general, expressions are combinations of simpler expressions, like\n",
    "the sum of two numbers, or the sum of a product and a quotient.\n",
    "\n",
    "* The process of turning an expression into a value is called **evaluation**:\n",
    "this is a big part of what the `python` interpreter does for a living ... "
   ]
  },
  {
   "cell_type": "code",
   "execution_count": 5,
   "metadata": {},
   "outputs": [
    {
     "data": {
      "text/plain": [
       "39"
      ]
     },
     "execution_count": 5,
     "metadata": {},
     "output_type": "execute_result"
    }
   ],
   "source": [
    "(12 * 3) + (15 // 5)"
   ]
  },
  {
   "cell_type": "code",
   "execution_count": 6,
   "metadata": {},
   "outputs": [
    {
     "data": {
      "text/plain": [
       "39"
      ]
     },
     "execution_count": 6,
     "metadata": {},
     "output_type": "execute_result"
    }
   ],
   "source": [
    "3 * 13"
   ]
  },
  {
   "cell_type": "markdown",
   "metadata": {},
   "source": [
    "## Variables and Assignments"
   ]
  },
  {
   "cell_type": "markdown",
   "metadata": {},
   "source": [
    "Values can be preserved and re-used.  For that, one needs to give a **name** to the value, so that\n",
    "it can later be referred to under that name. The name of a value is called a **variable**. Naming a value is called an **assignment** and it has the\n",
    "following form:"
   ]
  },
  {
   "cell_type": "code",
   "execution_count": 7,
   "metadata": {},
   "outputs": [
    {
     "data": {
      "text/plain": [
       "39"
      ]
     },
     "execution_count": 7,
     "metadata": {},
     "output_type": "execute_result"
    }
   ],
   "source": [
    "x = (12 * 3) + (15 // 5)\n",
    "x"
   ]
  },
  {
   "cell_type": "markdown",
   "metadata": {},
   "source": [
    "The `x` on the left hand side of the equals symbol (`=`) is the **variable**.  It is assigneed the **value** of the\n",
    "**expression** on the right hand side.  An assignment looks like a mathematical equation, but that's not what it is.\n",
    "An assignment **always** has the variable on the left hand side. And it always has an expression on\n",
    "the right hand side.  You can read the assignment `a = 12` as \"variable `a` **gets** the value `12`\", or \"`a` **gets** `12`\" for short.  "
   ]
  },
  {
   "cell_type": "markdown",
   "metadata": {},
   "source": [
    "That's how the statement \n",
    "```python\n",
    "x = 3.9 * x * (1 - x)\n",
    "```\n",
    "in the `chaos` program has to be read:\n",
    "\n",
    "1. first, using the **current** value of `x`, **evaluate** the\n",
    "expression `3.9 * x * (1 - x)` on the right hand side,\n",
    "\n",
    "2. then **assign** the resulting **value** to the variable `x`,\n",
    "as its **new** value.\n",
    "\n",
    "Let's check the value of `x` again:"
   ]
  },
  {
   "cell_type": "code",
   "execution_count": 8,
   "metadata": {},
   "outputs": [
    {
     "data": {
      "text/plain": [
       "39"
      ]
     },
     "execution_count": 8,
     "metadata": {},
     "output_type": "execute_result"
    }
   ],
   "source": [
    "x"
   ]
  },
  {
   "cell_type": "code",
   "execution_count": 9,
   "metadata": {
    "collapsed": true
   },
   "outputs": [],
   "source": [
    "x = x + 1"
   ]
  },
  {
   "cell_type": "markdown",
   "metadata": {},
   "source": [
    "Note the absense of a value printed below the cell!\n",
    "In `python`, an assignment has no value.\n",
    "In `python`, an assignment is not an expression.\n",
    "\n",
    "In order to find the (current, new) value of `x`, we have to\n",
    "ask for it."
   ]
  },
  {
   "cell_type": "code",
   "execution_count": 10,
   "metadata": {},
   "outputs": [
    {
     "data": {
      "text/plain": [
       "40"
      ]
     },
     "execution_count": 10,
     "metadata": {},
     "output_type": "execute_result"
    }
   ],
   "source": [
    "x"
   ]
  },
  {
   "cell_type": "markdown",
   "metadata": {},
   "source": [
    "So variables have values! Variables are another type of simple expressions.  And variables\n",
    "can be used as parts of larger expressions:"
   ]
  },
  {
   "cell_type": "code",
   "execution_count": 11,
   "metadata": {},
   "outputs": [
    {
     "data": {
      "text/plain": [
       "1558"
      ]
     },
     "execution_count": 11,
     "metadata": {},
     "output_type": "execute_result"
    }
   ],
   "source": [
    "x**2 - x - 2"
   ]
  },
  {
   "cell_type": "markdown",
   "metadata": {},
   "source": [
    "### The format of names"
   ]
  },
  {
   "cell_type": "markdown",
   "metadata": {},
   "source": [
    "`python` recognises strings in program by the double quotes around it.  But how does\n",
    "it recognise a variable name?  Basically by the absence of double quotes.\n",
    "Anything in a program that is not a number, a string, or\n",
    "a punctuation symbol is treated as a variable.  For this to work properly,\n",
    "some simple **naming rules** have to be observed. In this context, \n",
    "a name is called an **identifier**.\n",
    "\n",
    "* An identifier is composed of **letters** (`a` to `z` and `A` to `Z`, **digits** (`0` to `9`) and **underscores** (`_`),\n",
    "but it **must not begin with a digit**.\n",
    "\n",
    "* Certain words, the **keywords** in `python`, have a special meaning and **must not be used as identifiers**."
   ]
  },
  {
   "cell_type": "markdown",
   "metadata": {},
   "source": [
    "### Keywords\n",
    "\n",
    "The complete list of keywords in `python` is as follows."
   ]
  },
  {
   "cell_type": "code",
   "execution_count": 12,
   "metadata": {
    "scrolled": true
   },
   "outputs": [
    {
     "name": "stdout",
     "output_type": "stream",
     "text": [
      "['False', 'None', 'True', 'and', 'as', 'assert', 'break', 'class', 'continue', 'def', 'del', 'elif', 'else', 'except', 'finally', 'for', 'from', 'global', 'if', 'import', 'in', 'is', 'lambda', 'nonlocal', 'not', 'or', 'pass', 'raise', 'return', 'try', 'while', 'with', 'yield']\n"
     ]
    }
   ],
   "source": [
    "import keyword\n",
    "print(keyword.kwlist)"
   ]
  },
  {
   "cell_type": "markdown",
   "metadata": {},
   "source": [
    "Or, in a more readable table:\n",
    "\n",
    "\n",
    "| | | | | |\n",
    "|:-:|:-:|:-:|:-:|:-:|\n",
    "|`False`|`class`|`finally`|`is`|`return`|\n",
    "|`None`|`continue`|`for`|`lambda`|`try`|\n",
    "|`True`|`def`|`from`|`nonlocal`|`while`|\n",
    "|`and`|`del`|`global`|`not`|`with`|\n",
    "|`as`|`elif`|`if`|`or`|`yield`|\n",
    "|`assert`|`else`|`import`|`pass`|\n",
    "|`break`|`except`|`in`|`raise`|\n"
   ]
  },
  {
   "cell_type": "markdown",
   "metadata": {
    "collapsed": true
   },
   "source": [
    "## Summary: Expressions and Assignments\n",
    "\n",
    "* A program deals with **values** of different types.\n",
    "\n",
    "* **Expressions** are fragments of code that **represent** data values.\n",
    "\n",
    "* **Literals** are expressions that explicitly describe a value,\n",
    "like `\"hello\"`, or `3.1415`.\n",
    "\n",
    "* **Operators** (like `+` and `math.sqrt()`) are used to combine\n",
    "expressions into larger expressions.\n",
    "\n",
    "* Values can be assigned **variables**.\n",
    "\n",
    "* Each variable has a **name** consisting of\n",
    "letters, digits and underscores, but not starting with\n",
    "an underscore, and different from any **keyword**.\n",
    "\n",
    "* Variables can be part of expressions, re-using their value.\n",
    "\n",
    "* Over time, a variable can be assigned different values.\n"
   ]
  },
  {
   "cell_type": "code",
   "execution_count": null,
   "metadata": {
    "collapsed": true
   },
   "outputs": [],
   "source": []
  }
 ],
 "metadata": {
  "kernelspec": {
   "display_name": "Python 3",
   "language": "python",
   "name": "python3"
  },
  "language_info": {
   "codemirror_mode": {
    "name": "ipython",
    "version": 3
   },
   "file_extension": ".py",
   "mimetype": "text/x-python",
   "name": "python",
   "nbconvert_exporter": "python",
   "pygments_lexer": "ipython3",
   "version": "3.6.1"
  }
 },
 "nbformat": 4,
 "nbformat_minor": 2
}
